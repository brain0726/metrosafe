{
 "cells": [
  {
   "cell_type": "markdown",
   "id": "caed86af",
   "metadata": {},
   "source": [
    "**지하철 승하차 정보 데이터의 0값 (운행하지 않은 것) 을 제거하는 코드입니다.**"
   ]
  },
  {
   "cell_type": "code",
   "execution_count": 13,
   "id": "7a99cae9",
   "metadata": {},
   "outputs": [
    {
     "name": "stdout",
     "output_type": "stream",
     "text": [
      "Index(['5:00', '6:00', '7:00', '8:00', '9:00', '10:00', '11:00', '12:00',\n",
      "       '13:00', '14:00', '15:00', '16:00', '17:00', '18:00', '19:00', '20:00',\n",
      "       '21:00', '22:00', '23:00', '0:00'],\n",
      "      dtype='object')\n",
      "✅ 시간대 합계가 0인 전체 행 개수: 0개\n",
      "🎉 'cleaned_시간대합0제거.csv' 저장 완료\n"
     ]
    }
   ],
   "source": [
    "import pandas as pd\n",
    "\n",
    "file_path = \"../samename_data/서울교통공사_1~8호선일별역별시간대별승하차인원_2015년_휴일수정본_이름통일화.csv\"\n",
    "\n",
    "# 인코딩 시도\n",
    "df = pd.read_csv(file_path, encoding='euc-kr')\n",
    "\n",
    "# 열 이름 정리 (혹시 모를 공백/슬래시 제거)\n",
    "df.columns = df.columns.str.replace('/', '', regex=False).str.replace(' ', '').str.strip()\n",
    "\n",
    "# 시간대 열 추출 (앞에서 6열 이후가 시간대일 경우)\n",
    "time_columns = df.columns[7:]\n",
    "print(time_columns)\n",
    "\n",
    "# 시간대별 합이 0인 행 필터링 (승차/하차 상관 없음)\n",
    "mask = (df[time_columns].sum(axis=1) == 0)\n",
    "\n",
    "# 👉 몇 행인지 출력\n",
    "print(f\"✅ 시간대 합계가 0인 전체 행 개수: {mask.sum()}개\")\n",
    "\n",
    "# 👉 해당 행 제거\n",
    "df_cleaned = df[~mask]\n",
    "\n",
    "# 👉 결과 저장\n",
    "df_cleaned.to_csv(\"../no_null_data/서울교통공사_데이터_휴일수정본_2015년_null제거.csv\", index=False, encoding='cp949')\n",
    "print(\"🎉 'cleaned_시간대합0제거.csv' 저장 완료\")\n"
   ]
  },
  {
   "cell_type": "code",
   "execution_count": null,
   "id": "b7f5b971",
   "metadata": {},
   "outputs": [],
   "source": []
  }
 ],
 "metadata": {
  "kernelspec": {
   "display_name": "base",
   "language": "python",
   "name": "python3"
  },
  "language_info": {
   "codemirror_mode": {
    "name": "ipython",
    "version": 3
   },
   "file_extension": ".py",
   "mimetype": "text/x-python",
   "name": "python",
   "nbconvert_exporter": "python",
   "pygments_lexer": "ipython3",
   "version": "3.12.7"
  }
 },
 "nbformat": 4,
 "nbformat_minor": 5
}
