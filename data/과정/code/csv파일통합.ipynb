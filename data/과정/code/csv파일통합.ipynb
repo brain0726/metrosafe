{
 "cells": [
  {
   "cell_type": "code",
   "execution_count": null,
   "id": "0009c9e9",
   "metadata": {},
   "outputs": [],
   "source": [
    "print()"
   ]
  },
  {
   "cell_type": "code",
   "execution_count": null,
   "id": "e57cf077",
   "metadata": {},
   "outputs": [],
   "source": [
    "import pandas as pd\n",
    "import glob\n",
    "import os\n",
    "\n",
    "# CSV 파일들이 있는 폴더 경로\n",
    "folder_path = 'csv_폴더_경로'  # 예: './data'C:\\Users\\user\\metrosafe\\data\\결과\\승하차\\1호선'\n",
    "\n",
    "# 해당 폴더 내의 모든 CSV 파일 경로 가져오기\n",
    "csv_files = glob.glob(os.path.join(folder_path, '*.csv'))\n",
    "\n",
    "# 모든 CSV 파일을 읽어서 하나의 데이터프레임으로 합치기\n",
    "df_list = [pd.read_csv(file) for file in csv_files]\n",
    "combined_df = pd.concat(df_list, ignore_index=True)\n",
    "\n",
    "# 결과 저장 (선택 사항)\n",
    "combined_df.to_csv('combined_output.csv', index=False)\n",
    "\n",
    "print(f\"{len(csv_files)}개의 CSV 파일을 합쳐서 combined_output.csv로 저장했습니다.\")"
   ]
  }
 ],
 "metadata": {
  "kernelspec": {
   "display_name": "base",
   "language": "python",
   "name": "python3"
  },
  "language_info": {
   "name": "python",
   "version": "3.12.7"
  }
 },
 "nbformat": 4,
 "nbformat_minor": 5
}
