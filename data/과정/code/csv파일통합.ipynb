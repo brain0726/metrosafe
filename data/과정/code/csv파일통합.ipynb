{
 "cells": [
  {
   "cell_type": "code",
   "execution_count": null,
   "id": "0009c9e9",
   "metadata": {},
   "outputs": [],
   "source": [
    "print()"
   ]
  },
  {
   "cell_type": "code",
   "execution_count": 4,
   "id": "e57cf077",
   "metadata": {},
   "outputs": [
    {
     "name": "stdout",
     "output_type": "stream",
     "text": [
      "✅ 1호선 저장 완료 → ../../결과/혼잡도\\종합\\1호선_혼잡도_통합.csv\n",
      "✅ 2호선 저장 완료 → ../../결과/혼잡도\\종합\\2호선_혼잡도_통합.csv\n",
      "✅ 3호선 저장 완료 → ../../결과/혼잡도\\종합\\3호선_혼잡도_통합.csv\n",
      "✅ 4호선 저장 완료 → ../../결과/혼잡도\\종합\\4호선_혼잡도_통합.csv\n",
      "✅ 5호선 저장 완료 → ../../결과/혼잡도\\종합\\5호선_혼잡도_통합.csv\n",
      "✅ 6호선 저장 완료 → ../../결과/혼잡도\\종합\\6호선_혼잡도_통합.csv\n",
      "✅ 7호선 저장 완료 → ../../결과/혼잡도\\종합\\7호선_혼잡도_통합.csv\n",
      "✅ 8호선 저장 완료 → ../../결과/혼잡도\\종합\\8호선_혼잡도_통합.csv\n"
     ]
    },
    {
     "name": "stderr",
     "output_type": "stream",
     "text": [
      "C:\\Users\\user\\AppData\\Local\\Temp\\ipykernel_8152\\419143956.py:52: FutureWarning: The behavior of DataFrame concatenation with empty or all-NA entries is deprecated. In a future version, this will no longer exclude empty or all-NA columns when determining the result dtypes. To retain the old behavior, exclude the relevant entries before the concat operation.\n",
      "  combined_df = pd.concat(df_list, ignore_index=True)\n",
      "C:\\Users\\user\\AppData\\Local\\Temp\\ipykernel_8152\\419143956.py:52: FutureWarning: The behavior of DataFrame concatenation with empty or all-NA entries is deprecated. In a future version, this will no longer exclude empty or all-NA columns when determining the result dtypes. To retain the old behavior, exclude the relevant entries before the concat operation.\n",
      "  combined_df = pd.concat(df_list, ignore_index=True)\n",
      "C:\\Users\\user\\AppData\\Local\\Temp\\ipykernel_8152\\419143956.py:52: FutureWarning: The behavior of DataFrame concatenation with empty or all-NA entries is deprecated. In a future version, this will no longer exclude empty or all-NA columns when determining the result dtypes. To retain the old behavior, exclude the relevant entries before the concat operation.\n",
      "  combined_df = pd.concat(df_list, ignore_index=True)\n",
      "C:\\Users\\user\\AppData\\Local\\Temp\\ipykernel_8152\\419143956.py:52: FutureWarning: The behavior of DataFrame concatenation with empty or all-NA entries is deprecated. In a future version, this will no longer exclude empty or all-NA columns when determining the result dtypes. To retain the old behavior, exclude the relevant entries before the concat operation.\n",
      "  combined_df = pd.concat(df_list, ignore_index=True)\n",
      "C:\\Users\\user\\AppData\\Local\\Temp\\ipykernel_8152\\419143956.py:52: FutureWarning: The behavior of DataFrame concatenation with empty or all-NA entries is deprecated. In a future version, this will no longer exclude empty or all-NA columns when determining the result dtypes. To retain the old behavior, exclude the relevant entries before the concat operation.\n",
      "  combined_df = pd.concat(df_list, ignore_index=True)\n",
      "C:\\Users\\user\\AppData\\Local\\Temp\\ipykernel_8152\\419143956.py:52: FutureWarning: The behavior of DataFrame concatenation with empty or all-NA entries is deprecated. In a future version, this will no longer exclude empty or all-NA columns when determining the result dtypes. To retain the old behavior, exclude the relevant entries before the concat operation.\n",
      "  combined_df = pd.concat(df_list, ignore_index=True)\n",
      "C:\\Users\\user\\AppData\\Local\\Temp\\ipykernel_8152\\419143956.py:52: FutureWarning: The behavior of DataFrame concatenation with empty or all-NA entries is deprecated. In a future version, this will no longer exclude empty or all-NA columns when determining the result dtypes. To retain the old behavior, exclude the relevant entries before the concat operation.\n",
      "  combined_df = pd.concat(df_list, ignore_index=True)\n",
      "C:\\Users\\user\\AppData\\Local\\Temp\\ipykernel_8152\\419143956.py:52: FutureWarning: The behavior of DataFrame concatenation with empty or all-NA entries is deprecated. In a future version, this will no longer exclude empty or all-NA columns when determining the result dtypes. To retain the old behavior, exclude the relevant entries before the concat operation.\n",
      "  combined_df = pd.concat(df_list, ignore_index=True)\n"
     ]
    }
   ],
   "source": [
    "import pandas as pd\n",
    "import glob\n",
    "import os\n",
    "\n",
    "# === 기준 경로 설정 ===\n",
    "base_path = \"../../결과/혼잡도\"\n",
    "output_dir = os.path.join(base_path, \"종합\")\n",
    "os.makedirs(output_dir, exist_ok=True)  # 종합 폴더가 없으면 생성\n",
    "\n",
    "for line_num in range(1, 9):  # 1~8호선 반복\n",
    "    folder_path = os.path.join(base_path, f\"{line_num}호선\")\n",
    "    csv_files = glob.glob(os.path.join(folder_path, \"*.csv\"))\n",
    "    \n",
    "    if not csv_files:\n",
    "        print(f\"❌ {line_num}호선 폴더에 CSV 없음\")\n",
    "        continue\n",
    "\n",
    "    df_list = []\n",
    "    has_00 = False\n",
    "    max_cols = 0\n",
    "\n",
    "    for file in csv_files:\n",
    "        df = pd.read_csv(file, encoding='euc-kr', header=0)\n",
    "\n",
    "        # 00:00 컬럼 존재 여부 확인\n",
    "        if '00:00' in df.columns:\n",
    "            has_00 = True\n",
    "\n",
    "        # 순서 기준으로 병합하기 위해 임시 컬럼명 부여\n",
    "        df.columns = [f\"col{j}\" for j in range(df.shape[1])]\n",
    "        max_cols = max(max_cols, df.shape[1])\n",
    "        df_list.append(df)\n",
    "\n",
    "    # === 00:00 포함 여부에 따라 열 수 맞추기 ===\n",
    "    for i in range(len(df_list)):\n",
    "        df = df_list[i]\n",
    "        current_cols = df.shape[1]\n",
    "\n",
    "        if has_00:\n",
    "            if current_cols == max_cols:\n",
    "                continue\n",
    "            elif current_cols == max_cols - 1:\n",
    "                # 00:00 없어서 하나 부족 → NaN으로 추가\n",
    "                df[f\"col{max_cols - 1}\"] = pd.NA\n",
    "            else:\n",
    "                print(f\"⚠️ {csv_files[i]}: 예상보다 컬럼 수가 너무 적음!\")\n",
    "        \n",
    "        # 열 순서 보정\n",
    "        df_list[i] = df[[f\"col{j}\" for j in range(max_cols)]]\n",
    "\n",
    "    # === 병합 ===\n",
    "    combined_df = pd.concat(df_list, ignore_index=True)\n",
    "\n",
    "    # === 컬럼명 복구 ===\n",
    "    first_df = pd.read_csv(csv_files[0], encoding='euc-kr', header=0)\n",
    "    original_columns = list(first_df.columns)\n",
    "\n",
    "    if has_00 and '00:00' not in original_columns:\n",
    "        original_columns.append('00:00')\n",
    "\n",
    "    while len(original_columns) < max_cols:\n",
    "        original_columns.append(f\"빈컬럼{len(original_columns)}\")\n",
    "\n",
    "    combined_df.columns = original_columns\n",
    "\n",
    "    # === 저장 ===\n",
    "    output_path = os.path.join(output_dir, f\"{line_num}호선_혼잡도_통합.csv\")\n",
    "    combined_df.to_csv(output_path, index=False, encoding='euc-kr')\n",
    "    print(f\"✅ {line_num}호선 저장 완료 → {output_path}\")\n",
    "\n"
   ]
  },
  {
   "cell_type": "code",
   "execution_count": null,
   "id": "604ee04b",
   "metadata": {},
   "outputs": [],
   "source": []
  }
 ],
 "metadata": {
  "kernelspec": {
   "display_name": "base",
   "language": "python",
   "name": "python3"
  },
  "language_info": {
   "codemirror_mode": {
    "name": "ipython",
    "version": 3
   },
   "file_extension": ".py",
   "mimetype": "text/x-python",
   "name": "python",
   "nbconvert_exporter": "python",
   "pygments_lexer": "ipython3",
   "version": "3.12.7"
  }
 },
 "nbformat": 4,
 "nbformat_minor": 5
}
