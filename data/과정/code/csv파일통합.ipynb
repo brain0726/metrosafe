{
 "cells": [
  {
   "cell_type": "code",
   "execution_count": null,
   "id": "0009c9e9",
   "metadata": {},
   "outputs": [],
   "source": [
    "print()"
   ]
  },
  {
   "cell_type": "code",
   "execution_count": 3,
   "id": "e57cf077",
   "metadata": {},
   "outputs": [
    {
     "name": "stdout",
     "output_type": "stream",
     "text": [
      "9개의 CSV 파일을 합쳐서\n",
      "C:/Users/user/metrosafe/data/결과/승하차/1호선\\1호선_통합.csv 로 저장했습니다.\n"
     ]
    }
   ],
   "source": [
    "import pandas as pd\n",
    "import glob\n",
    "import os\n",
    "\n",
    "# CSV 파일들이 있는 폴더 경로\n",
    "folder_path = 'C:/Users/user/metrosafe/data/결과/승하차/1호선'\n",
    "\n",
    "# 해당 폴더 내의 모든 CSV 파일 경로 가져오기\n",
    "csv_files = glob.glob(os.path.join(folder_path, '*.csv'))\n",
    "\n",
    "# 모든 CSV 파일을 읽어서 하나의 데이터프레임으로 합치기 (인코딩 오류 방지)\n",
    "df_list = [pd.read_csv(file, encoding='euc-kr') for file in csv_files]\n",
    "combined_df = pd.concat(df_list, ignore_index=True)\n",
    "\n",
    "# 저장 경로를 원래 폴더 안으로 설정\n",
    "output_file_path = os.path.join(folder_path, '1호선_통합.csv')\n",
    "combined_df.to_csv(output_file_path, index=False)\n",
    "\n",
    "print(f\"{len(csv_files)}개의 CSV 파일을 합쳐서\\n{output_file_path} 로 저장했습니다.\")"
   ]
  }
 ],
 "metadata": {
  "kernelspec": {
   "display_name": "base",
   "language": "python",
   "name": "python3"
  },
  "language_info": {
   "codemirror_mode": {
    "name": "ipython",
    "version": 3
   },
   "file_extension": ".py",
   "mimetype": "text/x-python",
   "name": "python",
   "nbconvert_exporter": "python",
   "pygments_lexer": "ipython3",
   "version": "3.12.7"
  }
 },
 "nbformat": 4,
 "nbformat_minor": 5
}
