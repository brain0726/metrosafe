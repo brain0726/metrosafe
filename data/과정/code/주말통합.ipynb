{
 "cells": [
  {
   "cell_type": "code",
   "execution_count": 3,
   "id": "9d34acd5",
   "metadata": {},
   "outputs": [
    {
     "name": "stdout",
     "output_type": "stream",
     "text": [
      "📂 처리 중: 서울교통공사_지하철혼잡도정보_20211231_수정.csv\n",
      "✅ 저장 완료: ../2.혼잡도/4_same_weekend_data\\cleaned_서울교통공사_지하철혼잡도정보_20211231_수정.csv\n",
      "\n",
      "📂 처리 중: 서울교통공사_지하철혼잡도정보_20221231_수정.csv\n",
      "✅ 저장 완료: ../2.혼잡도/4_same_weekend_data\\cleaned_서울교통공사_지하철혼잡도정보_20221231_수정.csv\n",
      "\n",
      "📂 처리 중: 서울교통공사_지하철혼잡도정보_20231231_수정.csv\n",
      "✅ 저장 완료: ../2.혼잡도/4_same_weekend_data\\cleaned_서울교통공사_지하철혼잡도정보_20231231_수정.csv\n",
      "\n",
      "📂 처리 중: 서울교통공사_지하철혼잡도정보_20240331_수정.csv\n",
      "✅ 저장 완료: ../2.혼잡도/4_same_weekend_data\\cleaned_서울교통공사_지하철혼잡도정보_20240331_수정.csv\n",
      "\n",
      "📂 처리 중: 서울교통공사_지하철혼잡도정보_20240630_수정.csv\n",
      "✅ 저장 완료: ../2.혼잡도/4_same_weekend_data\\cleaned_서울교통공사_지하철혼잡도정보_20240630_수정.csv\n",
      "\n",
      "📂 처리 중: 서울교통공사_지하철혼잡도정보_20241231_수정.csv\n",
      "✅ 저장 완료: ../2.혼잡도/4_same_weekend_data\\cleaned_서울교통공사_지하철혼잡도정보_20241231_수정.csv\n",
      "\n"
     ]
    }
   ],
   "source": [
    "import os\n",
    "import pandas as pd\n",
    "\n",
    "# 1. 경로 설정\n",
    "input_folder = '../2.혼잡도/1_excel_data'\n",
    "output_folder = '../2.혼잡도/4_same_weekend_data'\n",
    "os.makedirs(output_folder, exist_ok=True)\n",
    "\n",
    "# 2. 폴더 내 모든 파일 처리\n",
    "for filename in os.listdir(input_folder):\n",
    "    if not filename.endswith('.csv'):\n",
    "        continue\n",
    "\n",
    "    file_path = os.path.join(input_folder, filename)\n",
    "    print(f\"📂 처리 중: {filename}\")\n",
    "\n",
    "    try:\n",
    "        df = pd.read_csv(file_path, encoding='euc-kr')\n",
    "    except Exception as e:\n",
    "        print(f\"❌ {filename} 읽기 실패: {e}\")\n",
    "        continue\n",
    "\n",
    "\n",
    "    # 구분(상선/하선) 공백 제거\n",
    "    df[\"구분\"] = df[\"구분\"].str.strip()\n",
    "\n",
    "    # 주말 평균 계산\n",
    "    weekend = df[df[\"평일주말\"].isin([\"토요일\", \"일요일\"])]\n",
    "    weekend_avg = weekend.groupby([\"호선\", \"역번호\", \"역명\", \"구분\"], as_index=False).mean(numeric_only=True)\n",
    "    weekend_avg[\"평일주말\"] = \"주말\"\n",
    "\n",
    "    # 열 순서 정리\n",
    "    cols = [\"평일주말\", \"호선\", \"역번호\", \"역명\", \"구분\"] + \\\n",
    "        [col for col in weekend_avg.columns if col not in [\"평일주말\", \"호선\", \"역번호\", \"역명\", \"구분\"]]\n",
    "    weekend_avg = weekend_avg[cols]\n",
    "\n",
    "    # 평일 데이터 추출\n",
    "    weekday = df[df[\"평일주말\"] == \"평일\"]\n",
    "\n",
    "    # 병합\n",
    "    combined = pd.concat([weekday, weekend_avg], ignore_index=True)\n",
    "\n",
    "    # 저장 경로\n",
    "    output_path = os.path.join(output_folder, f\"cleaned_{filename}\")\n",
    "    try:\n",
    "        combined.to_csv(output_path, index=False, encoding='euc-kr')\n",
    "        print(f\"✅ 저장 완료: {output_path}\\n\")\n",
    "    except Exception as e:\n",
    "        print(f\"❌ 저장 실패: {e}\")\n",
    "\n",
    "\n",
    "\n",
    "\n"
   ]
  },
  {
   "cell_type": "code",
   "execution_count": null,
   "id": "9012969c",
   "metadata": {},
   "outputs": [],
   "source": []
  }
 ],
 "metadata": {
  "kernelspec": {
   "display_name": "base",
   "language": "python",
   "name": "python3"
  },
  "language_info": {
   "codemirror_mode": {
    "name": "ipython",
    "version": 3
   },
   "file_extension": ".py",
   "mimetype": "text/x-python",
   "name": "python",
   "nbconvert_exporter": "python",
   "pygments_lexer": "ipython3",
   "version": "3.12.7"
  }
 },
 "nbformat": 4,
 "nbformat_minor": 5
}
