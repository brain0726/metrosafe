{
 "cells": [
  {
   "cell_type": "code",
   "execution_count": null,
   "id": "cb018065",
   "metadata": {},
   "outputs": [
    {
     "name": "stdout",
     "output_type": "stream",
     "text": [
      "노선 종류: [1 2 3 4 5 6 7 8]\n",
      "[저장 완료] E:\\myPyCode\\프로젝트 파일\\03.연도별 노선\\24년\\line_1.csv\n",
      "[저장 완료] E:\\myPyCode\\프로젝트 파일\\03.연도별 노선\\24년\\line_2.csv\n",
      "[저장 완료] E:\\myPyCode\\프로젝트 파일\\03.연도별 노선\\24년\\line_3.csv\n",
      "[저장 완료] E:\\myPyCode\\프로젝트 파일\\03.연도별 노선\\24년\\line_4.csv\n",
      "[저장 완료] E:\\myPyCode\\프로젝트 파일\\03.연도별 노선\\24년\\line_5.csv\n",
      "[저장 완료] E:\\myPyCode\\프로젝트 파일\\03.연도별 노선\\24년\\line_6.csv\n",
      "[저장 완료] E:\\myPyCode\\프로젝트 파일\\03.연도별 노선\\24년\\line_7.csv\n",
      "[저장 완료] E:\\myPyCode\\프로젝트 파일\\03.연도별 노선\\24년\\line_8.csv\n"
     ]
    }
   ],
   "source": [
    "import pandas as pd\n",
    "import os\n",
    "\n",
    "# === 1. 원본 파일 경로 설정 ===\n",
    "file_path = 'file_path' # ***********파일 경로 설정*********\n",
    "\n",
    "# === 2. 연도 추출 ===\n",
    "filename = os.path.basename(file_path)\n",
    "year = filename.split('_')[-1][:4]     # 예: '20221231' → '2022'\n",
    "year_folder = f\"{year[-2:]}년\"\n",
    "\n",
    "# === 3. 저장할 최종 경로 설정 ===\n",
    "base_output_dir = 'file_path' # ***********파일 경로 설정*********\n",
    "output_dir = os.path.join(base_output_dir, year_folder)\n",
    "\n",
    "# 폴더 없으면 생성\n",
    "os.makedirs(output_dir, exist_ok=True)\n",
    "\n",
    "# === 4. CSV 파일 읽기 ===\n",
    "data = pd.read_csv(file_path, encoding='euc-kr')\n",
    "\n",
    "# === 5. '호선' 컬럼 확인 ===\n",
    "if '호선' not in data.columns:\n",
    "    raise KeyError(\"'호선' 컬럼이 존재하지 않습니다.\")\n",
    "\n",
    "# === 6. 호선별로 나눠서 저장 ===\n",
    "lines = data['호선'].unique()\n",
    "print(\"노선 종류:\", lines)\n",
    "\n",
    "line_data = {line: data[data['호선'] == line] for line in lines}\n",
    "\n",
    "for line, df in line_data.items():\n",
    "    output_path = os.path.join(output_dir, f\"line_{line}.csv\")\n",
    "    df.to_csv(output_path, index=False, encoding='euc-kr')\n",
    "    print(f\"[저장 완료] {output_path}\")\n"
   ]
  },
  {
   "cell_type": "code",
   "execution_count": null,
   "id": "b8b70839",
   "metadata": {},
   "outputs": [],
   "source": []
  }
 ],
 "metadata": {
  "kernelspec": {
   "display_name": "base",
   "language": "python",
   "name": "python3"
  },
  "language_info": {
   "codemirror_mode": {
    "name": "ipython",
    "version": 3
   },
   "file_extension": ".py",
   "mimetype": "text/x-python",
   "name": "python",
   "nbconvert_exporter": "python",
   "pygments_lexer": "ipython3",
   "version": "3.12.7"
  }
 },
 "nbformat": 4,
 "nbformat_minor": 5
}
