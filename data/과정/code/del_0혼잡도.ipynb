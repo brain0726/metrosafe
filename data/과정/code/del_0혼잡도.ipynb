{
 "cells": [
  {
   "cell_type": "markdown",
   "id": "187c8827",
   "metadata": {},
   "source": [
    "**지하철 혼잡도 정보 데이터의 0값 (운행하지 않은 것) 을 제거하는 코드입니다.**"
   ]
  },
  {
   "cell_type": "code",
   "execution_count": null,
   "id": "3ee36795",
   "metadata": {},
   "outputs": [
    {
     "name": "stdout",
     "output_type": "stream",
     "text": [
      "✅ Loaded with encoding: cp949\n",
      "🚨 혼잡도 총합이 0인 행 개수: 38개\n",
      "✅ 제거 및 저장 완료 → cleaned_혼잡도_0제거.csv\n"
     ]
    }
   ],
   "source": [
    "import os\n",
    "import pandas as pd\n",
    "\n",
    "# 1. 경로 설정\n",
    "input_folder = '../2.혼잡도/2_samename_data'\n",
    "output_folder = '../2.혼잡도/3_no_null_data'\n",
    "os.makedirs(output_folder, exist_ok=True)\n",
    "\n",
    "# 2. 폴더 내 모든 파일 처리\n",
    "for filename in os.listdir(input_folder):\n",
    "    if not filename.endswith('.csv'):\n",
    "        continue\n",
    "\n",
    "    file_path = os.path.join(input_folder, filename)\n",
    "    print(f\"📂 처리 중: {filename}\")\n",
    "\n",
    "    try:\n",
    "        df = pd.read_csv(file_path, encoding='euc-kr')\n",
    "    except Exception as e:\n",
    "        print(f\"❌ {filename} 읽기 실패: {e}\")\n",
    "        continue\n",
    "\n",
    "    # 시간대 열 추출 (앞쪽 메타데이터 열 제외)\n",
    "    time_columns = df.columns[6:]\n",
    "    df[time_columns] = df[time_columns].apply(pd.to_numeric, errors='coerce')\n",
    "\n",
    "    # 혼잡도 합이 0인 행 제거\n",
    "    zero_congestion_mask = (df[time_columns].fillna(0).sum(axis=1) == 0)\n",
    "    df_cleaned = df[~zero_congestion_mask]\n",
    "\n",
    "    print(f\"🚨 {filename}: 혼잡도 총합이 0인 행 {zero_congestion_mask.sum()}개 제거\")\n",
    "\n",
    "    # 저장 경로\n",
    "    output_path = os.path.join(output_folder, f\"cleaned_{filename}\")\n",
    "    try:\n",
    "        df_cleaned.to_csv(output_path, index=False, encoding='euc-kr')\n",
    "        print(f\"✅ 저장 완료: {output_path}\\n\")\n",
    "    except Exception as e:\n",
    "        print(f\"❌ 저장 실패: {e}\")\n"
   ]
  },
  {
   "cell_type": "code",
   "execution_count": null,
   "id": "1e6b497e",
   "metadata": {},
   "outputs": [],
   "source": []
  }
 ],
 "metadata": {
  "kernelspec": {
   "display_name": "base",
   "language": "python",
   "name": "python3"
  },
  "language_info": {
   "codemirror_mode": {
    "name": "ipython",
    "version": 3
   },
   "file_extension": ".py",
   "mimetype": "text/x-python",
   "name": "python",
   "nbconvert_exporter": "python",
   "pygments_lexer": "ipython3",
   "version": "3.12.7"
  }
 },
 "nbformat": 4,
 "nbformat_minor": 5
}
