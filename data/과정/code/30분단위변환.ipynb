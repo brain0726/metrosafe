{
 "cells": [
  {
   "cell_type": "markdown",
   "id": "3ce53b3d",
   "metadata": {},
   "source": [
    "**혼잡도 데이터를 1시간단위에서 30분단위로 늘리는 코드입니다**\n",
    "- 코드 사용전에 데이터의 시간별 컬럼을 05~06 형식으로 '~'가 들어가게 바꿔주셔야해요 그리고 몇번째부터 시간별 칼럼인지도 다르면 맞춰주셔야합니다"
   ]
  },
  {
   "cell_type": "code",
   "execution_count": 16,
   "id": "df4b0c22",
   "metadata": {},
   "outputs": [],
   "source": [
    "import pandas as pd\n",
    "\n",
    "# CSV 불러오기\n",
    "file_path = '../no_date_data/서울교통공사_데이터_휴일수정본_2023년_날짜제거.csv'\n",
    "df = pd.read_csv(file_path, encoding='euc-kr')\n",
    "\n",
    "# 시간대 컬럼들만 추출\n",
    "time_cols = df.columns[6:]  # '05~06'부터 끝까지\n",
    "new_cols = []\n",
    "\n",
    "# 새로 만들 컬럼 이름 ('5:00', '5:30', ...)\n",
    "for col in time_cols:\n",
    "    start_hour = int(col.split(':')[0])\n",
    "    h1 = f\"{start_hour}:00\"\n",
    "    h2 = f\"{start_hour}:30\"\n",
    "    new_cols.extend([h1, h2])\n",
    "\n",
    "# 새로운 값들 계산: 기존 값을 반으로 나눠서 확장\n",
    "expanded_data = []\n",
    "\n",
    "for _, row in df.iterrows():\n",
    "    base = list(row[:6])  # 날짜~구분\n",
    "    new_row = base.copy()\n",
    "    for col in time_cols:\n",
    "        val = row[col]\n",
    "        half = val / 2 if pd.notna(val) else 0\n",
    "        new_row.extend([half//1, half//1])\n",
    "    expanded_data.append(new_row)\n",
    "\n",
    "# 새 DataFrame 생성\n",
    "columns = list(df.columns[:6]) + new_cols\n",
    "df_new = pd.DataFrame(expanded_data, columns=columns)\n",
    "\n",
    "# CSV로 저장 (선택)\n",
    "df_new.to_csv('../../결과/승하차_전처리_완료/서울교통공사_승하차정보데이터_2023년.csv', index=False, encoding='euc-kr')\n",
    "\n"
   ]
  },
  {
   "cell_type": "code",
   "execution_count": null,
   "id": "4ae256a7",
   "metadata": {},
   "outputs": [],
   "source": []
  }
 ],
 "metadata": {
  "kernelspec": {
   "display_name": "base",
   "language": "python",
   "name": "python3"
  },
  "language_info": {
   "codemirror_mode": {
    "name": "ipython",
    "version": 3
   },
   "file_extension": ".py",
   "mimetype": "text/x-python",
   "name": "python",
   "nbconvert_exporter": "python",
   "pygments_lexer": "ipython3",
   "version": "3.12.7"
  }
 },
 "nbformat": 4,
 "nbformat_minor": 5
}
