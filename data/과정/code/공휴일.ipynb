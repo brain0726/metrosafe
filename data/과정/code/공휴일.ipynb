{
 "cells": [
  {
   "cell_type": "code",
   "execution_count": null,
   "id": "7ddafd56",
   "metadata": {},
   "outputs": [
    {
     "name": "stdout",
     "output_type": "stream",
     "text": [
      "✅ 수정된 데이터 저장 완료: C:\\\\Users\\\\user\\\\Desktop\\\\수정된_서울교통공사_데이터.csv\n"
     ]
    }
   ],
   "source": [
    "import pandas as pd\n",
    "import holidays\n",
    "\n",
    "file_path = r\"C:\\\\Users\\\\user\\\\Desktop\\\\프로젝트 파일\\\\03.정제data\\\\서울교통공사_역별 일별 시간대별 승하차인원_2023년.csv\" # 파일 위치 경로 -  변경 가능\n",
    "df = pd.read_csv(file_path, encoding='euc-kr')\n",
    "\n",
    "# 날짜 변환\n",
    "df['수송일자'] = pd.to_datetime(df['수송일자'], errors='coerce')\n",
    "\n",
    "# 한국 공휴일 (대체공휴일 포함)\n",
    "kr_holidays = holidays.KR(years=range(2020, 2031))\n",
    "\n",
    "# '주중 주말' 컬럼 업데이트 함수\n",
    "def adjust_weekday_weekend(row):\n",
    "    date = row['수송일자']\n",
    "    original_value = row['주중 주말']\n",
    "    if pd.isna(date):\n",
    "        return original_value  # 날짜 없으면 원래 값 유지\n",
    "    if date in kr_holidays:\n",
    "        # 날짜가 공휴일이면 무조건 '주말'로 표시\n",
    "        return '주말'\n",
    "    else:\n",
    "        # 공휴일 아니면 기존값 유지\n",
    "        return original_value\n",
    "\n",
    "# 적용\n",
    "df['주중 주말'] = df.apply(adjust_weekday_weekend, axis=1)\n",
    "\n",
    "# 결과 저장\n",
    "output_path = r\"C:\\\\Users\\\\user\\\\Desktop\\\\수정된_서울교통공사_데이터.csv\" # 파일 위치 경로 -  변경 가능\n",
    "df.to_csv(output_path, index=False, encoding='utf-8-sig')\n",
    "print(\"✅ 수정된 데이터 저장 완료:\", output_path)\n"
   ]
  },
  {
   "cell_type": "code",
   "execution_count": null,
   "id": "a8dfd494",
   "metadata": {},
   "outputs": [],
   "source": []
  }
 ],
 "metadata": {
  "kernelspec": {
   "display_name": "base",
   "language": "python",
   "name": "python3"
  },
  "language_info": {
   "codemirror_mode": {
    "name": "ipython",
    "version": 3
   },
   "file_extension": ".py",
   "mimetype": "text/x-python",
   "name": "python",
   "nbconvert_exporter": "python",
   "pygments_lexer": "ipython3",
   "version": "3.12.7"
  }
 },
 "nbformat": 4,
 "nbformat_minor": 5
}
