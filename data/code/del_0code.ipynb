{
 "cells": [
  {
   "cell_type": "markdown",
   "id": "caed86af",
   "metadata": {},
   "source": [
    "**지하철 승하차 정보 데이터의 0값 (운행하지 않은 것) 을 제거하는 코드입니다.**"
   ]
  },
  {
   "cell_type": "code",
   "execution_count": null,
   "id": "7a99cae9",
   "metadata": {},
   "outputs": [],
   "source": [
    "import pandas as pd\n",
    "\n",
    "file_path = \"여기에 데이터 파일경로 복사\"\n",
    "\n",
    "# 인코딩 시도\n",
    "encodings = ['utf-8-sig', 'euc-kr', 'cp949']\n",
    "for enc in encodings:\n",
    "    try:\n",
    "        df = pd.read_csv(file_path, encoding=enc)\n",
    "        print(f\"✅ Loaded with encoding: {enc}\")\n",
    "        break\n",
    "    except:\n",
    "        continue\n",
    "\n",
    "# 열 이름 정리 (혹시 모를 공백/슬래시 제거)\n",
    "df.columns = df.columns.str.replace('/', '', regex=False).str.replace(' ', '').str.strip()\n",
    "\n",
    "# 시간대 열 추출 (앞에서 6열 이후가 시간대일 경우)\n",
    "time_columns = df.columns[6:]\n",
    "\n",
    "# 시간대별 합이 0인 행 필터링 (승차/하차 상관 없음)\n",
    "mask = (df[time_columns].sum(axis=1) == 0)\n",
    "\n",
    "# 👉 몇 행인지 출력\n",
    "print(f\"✅ 시간대 합계가 0인 전체 행 개수: {mask.sum()}개\")\n",
    "\n",
    "# 👉 해당 행 제거\n",
    "df_cleaned = df[~mask]\n",
    "\n",
    "# 👉 결과 저장\n",
    "df_cleaned.to_csv(\"cleaned_시간대합0제거.csv\", index=False, encoding='utf-8-sig')\n",
    "print(\"🎉 'cleaned_시간대합0제거.csv' 저장 완료\")\n"
   ]
  }
 ],
 "metadata": {
  "kernelspec": {
   "display_name": "base",
   "language": "python",
   "name": "python3"
  },
  "language_info": {
   "name": "python",
   "version": "3.12.7"
  }
 },
 "nbformat": 4,
 "nbformat_minor": 5
}
