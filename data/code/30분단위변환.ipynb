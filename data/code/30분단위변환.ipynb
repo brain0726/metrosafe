{
 "cells": [
  {
   "cell_type": "markdown",
   "id": "3ce53b3d",
   "metadata": {},
   "source": [
    "**혼잡도 데이터를 1시간단위에서 30분단위로 늘리는 코드입니다**\n",
    "- 코드 사용전에 데이터의 시간별 컬럼을 05~06 형식으로 '~'가 들어가게 바꿔주셔야해요"
   ]
  },
  {
   "cell_type": "code",
   "execution_count": null,
   "id": "df4b0c22",
   "metadata": {},
   "outputs": [
    {
     "ename": "ValueError",
     "evalue": "invalid literal for int() with base 10: '06시 이전'",
     "output_type": "error",
     "traceback": [
      "\u001b[0;31m---------------------------------------------------------------------------\u001b[0m",
      "\u001b[0;31mValueError\u001b[0m                                Traceback (most recent call last)",
      "Cell \u001b[0;32mIn[9], line 13\u001b[0m\n\u001b[1;32m     11\u001b[0m \u001b[38;5;66;03m# 새로 만들 컬럼 이름 ('5시30분', '6시00분', ...)\u001b[39;00m\n\u001b[1;32m     12\u001b[0m \u001b[38;5;28;01mfor\u001b[39;00m col \u001b[38;5;129;01min\u001b[39;00m time_cols:\n\u001b[0;32m---> 13\u001b[0m     start_hour \u001b[38;5;241m=\u001b[39m \u001b[38;5;28mint\u001b[39m(col\u001b[38;5;241m.\u001b[39msplit(\u001b[38;5;124m'\u001b[39m\u001b[38;5;124m~\u001b[39m\u001b[38;5;124m'\u001b[39m)[\u001b[38;5;241m0\u001b[39m])\n\u001b[1;32m     14\u001b[0m     h1 \u001b[38;5;241m=\u001b[39m \u001b[38;5;124mf\u001b[39m\u001b[38;5;124m\"\u001b[39m\u001b[38;5;132;01m{\u001b[39;00mstart_hour\u001b[38;5;132;01m}\u001b[39;00m\u001b[38;5;124m시30분\u001b[39m\u001b[38;5;124m\"\u001b[39m\n\u001b[1;32m     15\u001b[0m     h2 \u001b[38;5;241m=\u001b[39m \u001b[38;5;124mf\u001b[39m\u001b[38;5;124m\"\u001b[39m\u001b[38;5;132;01m{\u001b[39;00m(start_hour\u001b[38;5;250m \u001b[39m\u001b[38;5;241m+\u001b[39m\u001b[38;5;250m \u001b[39m\u001b[38;5;241m1\u001b[39m)\u001b[38;5;241m%\u001b[39m\u001b[38;5;241m24\u001b[39m\u001b[38;5;132;01m}\u001b[39;00m\u001b[38;5;124m시00분\u001b[39m\u001b[38;5;124m\"\u001b[39m\n",
      "\u001b[0;31mValueError\u001b[0m: invalid literal for int() with base 10: '06시 이전'"
     ]
    }
   ],
   "source": [
    "import pandas as pd\n",
    "\n",
    "# CSV 불러오기\n",
    "file_path = '여기에 파일경로 입력!'\n",
    "df = pd.read_csv(file_path, encoding='cp949')\n",
    "\n",
    "# 시간대 컬럼들만 추출\n",
    "time_cols = df.columns[5:]  # '05~06'부터 끝까지\n",
    "new_cols = []\n",
    "\n",
    "# 새로 만들 컬럼 이름 ('5시30분', '6시00분', ...)\n",
    "for col in time_cols:\n",
    "    start_hour = int(col.split('~')[0])\n",
    "    h1 = f\"{start_hour}시30분\"\n",
    "    h2 = f\"{(start_hour + 1)%24}시00분\"\n",
    "    new_cols.extend([h1, h2])\n",
    "\n",
    "# 새로운 값들 계산: 기존 값을 반으로 나눠서 확장\n",
    "expanded_data = []\n",
    "\n",
    "for _, row in df.iterrows():\n",
    "    base = list(row[:5])  # 날짜~구분\n",
    "    new_row = base.copy()\n",
    "    for col in time_cols:\n",
    "        val = row[col]\n",
    "        half = val / 2 if pd.notna(val) else 0\n",
    "        new_row.extend([half, half])\n",
    "    expanded_data.append(new_row)\n",
    "\n",
    "# 새 DataFrame 생성\n",
    "columns = list(df.columns[:5]) + new_cols\n",
    "df_new = pd.DataFrame(expanded_data, columns=columns)\n",
    "\n",
    "# CSV로 저장 (선택)\n",
    "df_new.to_csv('/Users/mac/Desktop/지하철_30분단위_출력2.csv', index=False, encoding='utf-8-sig')\n"
   ]
  },
  {
   "cell_type": "code",
   "execution_count": null,
   "id": "4ae256a7",
   "metadata": {},
   "outputs": [],
   "source": []
  }
 ],
 "metadata": {
  "kernelspec": {
   "display_name": "base",
   "language": "python",
   "name": "python3"
  },
  "language_info": {
   "codemirror_mode": {
    "name": "ipython",
    "version": 3
   },
   "file_extension": ".py",
   "mimetype": "text/x-python",
   "name": "python",
   "nbconvert_exporter": "python",
   "pygments_lexer": "ipython3",
   "version": "3.12.7"
  }
 },
 "nbformat": 4,
 "nbformat_minor": 5
}
