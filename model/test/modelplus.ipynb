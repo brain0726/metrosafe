{
 "cells": [
  {
   "cell_type": "code",
   "execution_count": 9,
   "id": "279657d8",
   "metadata": {},
   "outputs": [
    {
     "name": "stderr",
     "output_type": "stream",
     "text": [
      "c:\\Users\\user\\AppData\\Local\\Programs\\Python\\Python310\\lib\\site-packages\\sklearn\\base.py:440: InconsistentVersionWarning: Trying to unpickle estimator StandardScaler from version 1.6.1 when using version 1.7.0. This might lead to breaking code or invalid results. Use at your own risk. For more info please refer to:\n",
      "https://scikit-learn.org/stable/model_persistence.html#security-maintainability-limitations\n",
      "  warnings.warn(\n"
     ]
    }
   ],
   "source": [
    "import pandas as pd\n",
    "import numpy as np\n",
    "from sklearn.model_selection import train_test_split\n",
    "from sklearn.preprocessing import StandardScaler\n",
    "from tensorflow.keras.models import Sequential\n",
    "from tensorflow.keras.layers import Dense\n",
    "from tensorflow.keras.models import load_model\n",
    "import joblib\n",
    "\n",
    "\n",
    "# 로드\n",
    "scaler = joblib.load(\"./my_scaler.1line.pkl\")\n",
    "model = load_model(\"./my_dl_model.1line.keras\")\n",
    "exit_df = pd.read_csv(\n",
    "    \"../../data/과정/3.빠른출입구/전철역 가까운 탑승구_가공_최종.csv\", encoding=\"euc-kr\"\n",
    ")"
   ]
  },
  {
   "cell_type": "code",
   "execution_count": 10,
   "id": "b7d3d721",
   "metadata": {},
   "outputs": [],
   "source": [
    "def parse_exit_weights(exit_str, num_cars=10):\n",
    "    weights = np.ones(num_cars)\n",
    "    if pd.isna(exit_str):\n",
    "        return weights\n",
    "    for val in str(exit_str).split(\",\"):\n",
    "        val = val.strip()\n",
    "        if \"-\" in val:\n",
    "            try:\n",
    "                car = int(val.split(\"-\")[0])\n",
    "                if 1 <= car <= num_cars:\n",
    "                    weights[car - 1] += 1\n",
    "            except:\n",
    "                continue\n",
    "    return weights"
   ]
  },
  {
   "cell_type": "code",
   "execution_count": 11,
   "id": "0673f1cf",
   "metadata": {},
   "outputs": [],
   "source": [
    "def get_exit_weights(exit_df, station_name, direction, num_cars=10):\n",
    "    row = exit_df[exit_df[\"역명\"] == station_name]\n",
    "    if row.empty:\n",
    "        print(f\"[⚠️] '{station_name}' 역 없음\")\n",
    "        return np.ones(num_cars)\n",
    "\n",
    "    col = \"가까운 출구\" if direction == \"상행\" else \"가까운 출구.1\"\n",
    "\n",
    "    if col not in row.columns:\n",
    "        print(f\"[⚠️] 출구 칼럼 없음: {col}\")\n",
    "        return np.ones(num_cars)\n",
    "\n",
    "    return parse_exit_weights(row.iloc[0][col], num_cars)"
   ]
  },
  {
   "cell_type": "code",
   "execution_count": 12,
   "id": "0deb3561",
   "metadata": {},
   "outputs": [],
   "source": [
    "station_name = input(\"🚉 역명 입력: \").strip()\n",
    "hour = int(input(\"🕐 시간 입력 (0~23): \").strip())\n",
    "weekday = int(input(\"📅 평일=0, 주말=1: \").strip())\n",
    "direction = input(\"↕️ 방향 입력 (상행/하행): \").strip()\n",
    "\n",
    "# 역번호 매핑 (출입구 CSV에서 자동 가져오기)\n",
    "역번호_map = exit_df.set_index(\"역명\")[\"역번호\"].to_dict()\n",
    "station_code = 역번호_map.get(station_name, 999)\n",
    "\n",
    "if station_code == 999:\n",
    "    print(f\"[⚠️] '{station_name}' 역번호 찾을 수 없음\")"
   ]
  },
  {
   "cell_type": "code",
   "execution_count": 13,
   "id": "c4fce304",
   "metadata": {},
   "outputs": [
    {
     "name": "stdout",
     "output_type": "stream",
     "text": [
      "\u001b[1m1/1\u001b[0m \u001b[32m━━━━━━━━━━━━━━━━━━━━\u001b[0m\u001b[37m\u001b[0m \u001b[1m0s\u001b[0m 45ms/step\n"
     ]
    }
   ],
   "source": [
    "# 1. 1차 예측에 사용될 입력 (승하차/혼잡도는 0 또는 None)\n",
    "X_input = np.array(\n",
    "    [\n",
    "        [\n",
    "            station_code,\n",
    "            hour,\n",
    "            weekday,\n",
    "            1 if direction == \"상행\" else 0,\n",
    "            1,\n",
    "            0,  # 승하차인원 (초기값)\n",
    "            0,  # 혼잡도 (초기값)\n",
    "        ]\n",
    "    ]\n",
    ")\n",
    "scaled_input = scaler.transform(X_input)\n",
    "total_passenger = model.predict(scaled_input)[0, 0]\n",
    "\n",
    "# 음수값 방지\n",
    "total_passenger = max(total_passenger, 0)\n",
    "\n",
    "# 2. 혼잡도는 산식으로 계산 (실제 정원이 필요)\n",
    "train_capacity = 1600\n",
    "congestion = min(total_passenger / train_capacity * 100, 200)  # 200% 상한\n",
    "\n",
    "# 3. 승하차인원은, 총 인원과 비례해 산정하거나 데이터, 예측로직 마련 (없으면 0~평균값 활용)\n",
    "#    혼잡도가 AI의 별도 출력일 경우, pred[1] 사용\n",
    "\n",
    "# 후처리(분배)는 동일\n",
    "\n",
    "# 4. 분배\n",
    "exit_weights = get_exit_weights(exit_df, station_name, direction, num_cars)\n",
    "proportions = exit_weights / exit_weights.sum()\n",
    "car_passenger = total_passenger * proportions"
   ]
  },
  {
   "cell_type": "code",
   "execution_count": 14,
   "id": "4900aa40",
   "metadata": {},
   "outputs": [
    {
     "name": "stdout",
     "output_type": "stream",
     "text": [
      "📊 계산된 혼잡도: 0.0%\n"
     ]
    }
   ],
   "source": [
    "# 혼잡도 계산\n",
    "train_capacity = 1600  # 열차 최대 수용 인원 (예, 열차 10칸 × 카당 160명)\n",
    "\n",
    "congestion_rate = min((total_passenger / train_capacity) * 100, 200)  # 상한 값 설정\n",
    "print(f\"📊 계산된 혼잡도: {congestion_rate:.1f}%\")"
   ]
  },
  {
   "cell_type": "code",
   "execution_count": 15,
   "id": "a52b61c2",
   "metadata": {},
   "outputs": [],
   "source": [
    "num_cars = 10\n",
    "exit_weights = get_exit_weights(exit_df, station_name, direction, num_cars)\n",
    "proportions = exit_weights / exit_weights.sum()\n",
    "car_passenger = total_passenger * proportions"
   ]
  },
  {
   "cell_type": "code",
   "execution_count": 16,
   "id": "2e31854e",
   "metadata": {},
   "outputs": [
    {
     "name": "stdout",
     "output_type": "stream",
     "text": [
      "\n",
      "🚉 시청 상행 혼잡 예측 결과:\n",
      "🚪 1번 칸 예상 탑승 인원: 0.00명\n",
      "🚪 2번 칸 예상 탑승 인원: 0.00명\n",
      "🚪 3번 칸 예상 탑승 인원: 0.00명\n",
      "🚪 4번 칸 예상 탑승 인원: 0.00명\n",
      "🚪 5번 칸 예상 탑승 인원: 0.00명\n",
      "🚪 6번 칸 예상 탑승 인원: 0.00명\n",
      "🚪 7번 칸 예상 탑승 인원: 0.00명\n",
      "🚪 8번 칸 예상 탑승 인원: 0.00명\n",
      "🚪 9번 칸 예상 탑승 인원: 0.00명\n",
      "🚪 10번 칸 예상 탑승 인원: 0.00명\n"
     ]
    }
   ],
   "source": [
    "print(f\"\\n🚉 {station_name} {direction} 혼잡 예측 결과:\")\n",
    "for i, val in enumerate(car_passenger, start=1):\n",
    "    print(f\"🚪 {i}번 칸 예상 탑승 인원: {val:.2f}명\")"
   ]
  }
 ],
 "metadata": {
  "kernelspec": {
   "display_name": "Python 3",
   "language": "python",
   "name": "python3"
  },
  "language_info": {
   "codemirror_mode": {
    "name": "ipython",
    "version": 3
   },
   "file_extension": ".py",
   "mimetype": "text/x-python",
   "name": "python",
   "nbconvert_exporter": "python",
   "pygments_lexer": "ipython3",
   "version": "3.10.0"
  }
 },
 "nbformat": 4,
 "nbformat_minor": 5
}
