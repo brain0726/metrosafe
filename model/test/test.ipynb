{
 "cells": [
  {
   "cell_type": "code",
   "execution_count": 1,
   "id": "cc7968fc",
   "metadata": {},
   "outputs": [],
   "source": [
    "import pandas as pd\n",
    "import numpy as np\n",
    "from sklearn.preprocessing import MinMaxScaler\n",
    "from tensorflow.keras.models import Sequential\n",
    "from tensorflow.keras.layers import LSTM, Dense\n",
    "import matplotlib.pyplot as plt\n",
    "승하차_파일 = \"../../data/결과/승하차/통합/1호선_승하차인원_통합.csv\"\n",
    "혼잡도_파일 = \"../../data/결과/혼잡도/통합/1호선_혼잡도_통합.csv\"\n",
    "시간표_파일 = \"../../data/결과/운행시간표/통합/1호선_열차운행시각표.csv\"\n",
    "\n",
    "승하차_df = pd.read_csv(승하차_파일, encoding=\"euc-kr\")\n",
    "혼잡도_df = pd.read_csv(혼잡도_파일, encoding=\"euc-kr\")\n",
    "시간표_df = pd.read_csv(시간표_파일, encoding=\"euc-kr\")"
   ]
  },
  {
   "cell_type": "code",
   "execution_count": 17,
   "id": "00f0b6d3",
   "metadata": {},
   "outputs": [
    {
     "name": "stdout",
     "output_type": "stream",
     "text": [
      "(20, 5)\n",
      "     시간  승차인원  하차인원  혼잡도  시간_int\n",
      "0  0:00     0     0  NaN       0\n",
      "1  5:00     0     0  NaN       5\n",
      "2  6:00     0     0  NaN       6\n",
      "3  7:00     0     0  NaN       7\n",
      "4  8:00     0     0  NaN       8\n"
     ]
    }
   ],
   "source": [
    "# 분석 대상 설정\n",
    "target_station = \"신도림역\"\n",
    "target_daytype = \"평일\"\n",
    "target_direction = \"상행\"  # '상행', '하행' 또는 필요에 맞게\n",
    "time_cols = [col for col in 승하차_df.columns if \":\" in col]\n",
    "\n",
    "result_rows = []\n",
    "for tcol in time_cols:\n",
    "    row = {}\n",
    "    # 승차 찾기\n",
    "    승차 = 승하차_df[\n",
    "        (승하차_df[\"역명\"] == target_station) &\n",
    "        (승하차_df[\"평일주말\"] == target_daytype) &\n",
    "        (승하차_df[\"구분\"] == \"승차\")\n",
    "    ]\n",
    "    승차값 = int(승차[tcol].values[0]) if len(승차) > 0 else 0\n",
    "    # 하차 찾기\n",
    "    하차 = 승하차_df[\n",
    "        (승하차_df[\"역명\"] == target_station) &\n",
    "        (승하차_df[\"평일주말\"] == target_daytype) &\n",
    "        (승하차_df[\"구분\"] == \"하차\")\n",
    "    ]\n",
    "    하차값 = int(하차[tcol].values[0]) if len(하차) > 0 else 0\n",
    "    # 혼잡도 찾기\n",
    "    혼잡도 = 혼잡도_df[\n",
    "        (혼잡도_df[\"역명\"] == target_station) &\n",
    "        (혼잡도_df[\"평일주말\"] == target_daytype) &\n",
    "        (혼잡도_df[\"구분\"] == target_direction)\n",
    "    ]\n",
    "    혼잡도값 = float(혼잡도[tcol].values[0]) if len(혼잡도) > 0 else np.nan\n",
    "    # 레코드 저장\n",
    "    row[\"시간\"] = tcol\n",
    "    row[\"승차인원\"] = 승차값\n",
    "    row[\"하차인원\"] = 하차값\n",
    "    row[\"혼잡도\"] = 혼잡도값\n",
    "    result_rows.append(row)\n",
    "\n",
    "final_df = pd.DataFrame(result_rows)\n",
    "final_df[\"시간_int\"] = final_df[\"시간\"].apply(lambda x: int(x.split(\":\")[0]))\n",
    "final_df = final_df.sort_values(\"시간_int\").reset_index(drop=True)\n",
    "print(final_df.shape)\n",
    "print(final_df.head())\n"
   ]
  },
  {
   "cell_type": "code",
   "execution_count": 9,
   "id": "64f27305",
   "metadata": {},
   "outputs": [],
   "source": [
    "from sklearn.preprocessing import MinMaxScaler\n",
    "\n",
    "features = final_df[[\"승차인원\", \"하차인원\", \"혼잡도\"]].fillna(0).values\n",
    "target = final_df[\"승차인원\"].values  # 예측할 목표값\n",
    "\n",
    "scaler = MinMaxScaler()\n",
    "features_scaled = scaler.fit_transform(features)\n"
   ]
  },
  {
   "cell_type": "code",
   "execution_count": 10,
   "id": "fc8d149d",
   "metadata": {},
   "outputs": [],
   "source": [
    "def create_sequences(data, target, seq_length=4):\n",
    "    xs, ys = [], []\n",
    "    for i in range(len(data) - seq_length):\n",
    "        xs.append(data[i:(i + seq_length)])\n",
    "        ys.append(target[i + seq_length])\n",
    "    return np.array(xs), np.array(ys)\n",
    "\n",
    "X, y = create_sequences(features_scaled, target, seq_length=4)\n"
   ]
  },
  {
   "cell_type": "code",
   "execution_count": 11,
   "id": "6ef8df17",
   "metadata": {},
   "outputs": [
    {
     "name": "stdout",
     "output_type": "stream",
     "text": [
      "Epoch 1/60\n"
     ]
    },
    {
     "name": "stderr",
     "output_type": "stream",
     "text": [
      "c:\\Users\\user\\anaconda3\\lib\\site-packages\\keras\\src\\layers\\rnn\\rnn.py:199: UserWarning: Do not pass an `input_shape`/`input_dim` argument to a layer. When using Sequential models, prefer using an `Input(shape)` object as the first layer in the model instead.\n",
      "  super().__init__(**kwargs)\n"
     ]
    },
    {
     "name": "stdout",
     "output_type": "stream",
     "text": [
      "\u001b[1m4/4\u001b[0m \u001b[32m━━━━━━━━━━━━━━━━━━━━\u001b[0m\u001b[37m\u001b[0m \u001b[1m1s\u001b[0m 5ms/step - loss: 9773276.0000   \n",
      "Epoch 2/60\n",
      "\u001b[1m4/4\u001b[0m \u001b[32m━━━━━━━━━━━━━━━━━━━━\u001b[0m\u001b[37m\u001b[0m \u001b[1m0s\u001b[0m 5ms/step - loss: 9211260.0000 \n",
      "Epoch 3/60\n",
      "\u001b[1m4/4\u001b[0m \u001b[32m━━━━━━━━━━━━━━━━━━━━\u001b[0m\u001b[37m\u001b[0m \u001b[1m0s\u001b[0m 5ms/step - loss: 7778591.5000 \n",
      "Epoch 4/60\n",
      "\u001b[1m4/4\u001b[0m \u001b[32m━━━━━━━━━━━━━━━━━━━━\u001b[0m\u001b[37m\u001b[0m \u001b[1m0s\u001b[0m 5ms/step - loss: 9614016.0000  \n",
      "Epoch 5/60\n",
      "\u001b[1m4/4\u001b[0m \u001b[32m━━━━━━━━━━━━━━━━━━━━\u001b[0m\u001b[37m\u001b[0m \u001b[1m0s\u001b[0m 4ms/step - loss: 9920816.0000  \n",
      "Epoch 6/60\n",
      "\u001b[1m4/4\u001b[0m \u001b[32m━━━━━━━━━━━━━━━━━━━━\u001b[0m\u001b[37m\u001b[0m \u001b[1m0s\u001b[0m 5ms/step - loss: 9635164.0000 \n",
      "Epoch 7/60\n",
      "\u001b[1m4/4\u001b[0m \u001b[32m━━━━━━━━━━━━━━━━━━━━\u001b[0m\u001b[37m\u001b[0m \u001b[1m0s\u001b[0m 4ms/step - loss: 9330652.0000  \n",
      "Epoch 8/60\n",
      "\u001b[1m4/4\u001b[0m \u001b[32m━━━━━━━━━━━━━━━━━━━━\u001b[0m\u001b[37m\u001b[0m \u001b[1m0s\u001b[0m 5ms/step - loss: 8788386.0000 \n",
      "Epoch 9/60\n",
      "\u001b[1m4/4\u001b[0m \u001b[32m━━━━━━━━━━━━━━━━━━━━\u001b[0m\u001b[37m\u001b[0m \u001b[1m0s\u001b[0m 4ms/step - loss: 9068557.0000  \n",
      "Epoch 10/60\n",
      "\u001b[1m4/4\u001b[0m \u001b[32m━━━━━━━━━━━━━━━━━━━━\u001b[0m\u001b[37m\u001b[0m \u001b[1m0s\u001b[0m 4ms/step - loss: 8678001.0000 \n",
      "Epoch 11/60\n",
      "\u001b[1m4/4\u001b[0m \u001b[32m━━━━━━━━━━━━━━━━━━━━\u001b[0m\u001b[37m\u001b[0m \u001b[1m0s\u001b[0m 5ms/step - loss: 9488348.0000  \n",
      "Epoch 12/60\n",
      "\u001b[1m4/4\u001b[0m \u001b[32m━━━━━━━━━━━━━━━━━━━━\u001b[0m\u001b[37m\u001b[0m \u001b[1m0s\u001b[0m 5ms/step - loss: 7236405.5000 \n",
      "Epoch 13/60\n",
      "\u001b[1m4/4\u001b[0m \u001b[32m━━━━━━━━━━━━━━━━━━━━\u001b[0m\u001b[37m\u001b[0m \u001b[1m0s\u001b[0m 4ms/step - loss: 7999156.0000 \n",
      "Epoch 14/60\n",
      "\u001b[1m4/4\u001b[0m \u001b[32m━━━━━━━━━━━━━━━━━━━━\u001b[0m\u001b[37m\u001b[0m \u001b[1m0s\u001b[0m 5ms/step - loss: 9914240.0000  \n",
      "Epoch 15/60\n",
      "\u001b[1m4/4\u001b[0m \u001b[32m━━━━━━━━━━━━━━━━━━━━\u001b[0m\u001b[37m\u001b[0m \u001b[1m0s\u001b[0m 5ms/step - loss: 9969897.0000  \n",
      "Epoch 16/60\n",
      "\u001b[1m4/4\u001b[0m \u001b[32m━━━━━━━━━━━━━━━━━━━━\u001b[0m\u001b[37m\u001b[0m \u001b[1m0s\u001b[0m 4ms/step - loss: 7515263.0000 \n",
      "Epoch 17/60\n",
      "\u001b[1m4/4\u001b[0m \u001b[32m━━━━━━━━━━━━━━━━━━━━\u001b[0m\u001b[37m\u001b[0m \u001b[1m0s\u001b[0m 4ms/step - loss: 8637947.0000 \n",
      "Epoch 18/60\n",
      "\u001b[1m4/4\u001b[0m \u001b[32m━━━━━━━━━━━━━━━━━━━━\u001b[0m\u001b[37m\u001b[0m \u001b[1m0s\u001b[0m 5ms/step - loss: 8063785.0000 \n",
      "Epoch 19/60\n",
      "\u001b[1m4/4\u001b[0m \u001b[32m━━━━━━━━━━━━━━━━━━━━\u001b[0m\u001b[37m\u001b[0m \u001b[1m0s\u001b[0m 4ms/step - loss: 9900686.0000  \n",
      "Epoch 20/60\n",
      "\u001b[1m4/4\u001b[0m \u001b[32m━━━━━━━━━━━━━━━━━━━━\u001b[0m\u001b[37m\u001b[0m \u001b[1m0s\u001b[0m 4ms/step - loss: 6801476.5000 \n",
      "Epoch 21/60\n",
      "\u001b[1m4/4\u001b[0m \u001b[32m━━━━━━━━━━━━━━━━━━━━\u001b[0m\u001b[37m\u001b[0m \u001b[1m0s\u001b[0m 5ms/step - loss: 7258024.0000 \n",
      "Epoch 22/60\n",
      "\u001b[1m4/4\u001b[0m \u001b[32m━━━━━━━━━━━━━━━━━━━━\u001b[0m\u001b[37m\u001b[0m \u001b[1m0s\u001b[0m 4ms/step - loss: 9641677.0000  \n",
      "Epoch 23/60\n",
      "\u001b[1m4/4\u001b[0m \u001b[32m━━━━━━━━━━━━━━━━━━━━\u001b[0m\u001b[37m\u001b[0m \u001b[1m0s\u001b[0m 5ms/step - loss: 8281744.5000 \n",
      "Epoch 24/60\n",
      "\u001b[1m4/4\u001b[0m \u001b[32m━━━━━━━━━━━━━━━━━━━━\u001b[0m\u001b[37m\u001b[0m \u001b[1m0s\u001b[0m 5ms/step - loss: 7047727.0000 \n",
      "Epoch 25/60\n",
      "\u001b[1m4/4\u001b[0m \u001b[32m━━━━━━━━━━━━━━━━━━━━\u001b[0m\u001b[37m\u001b[0m \u001b[1m0s\u001b[0m 5ms/step - loss: 7109521.0000 \n",
      "Epoch 26/60\n",
      "\u001b[1m4/4\u001b[0m \u001b[32m━━━━━━━━━━━━━━━━━━━━\u001b[0m\u001b[37m\u001b[0m \u001b[1m0s\u001b[0m 5ms/step - loss: 7394736.5000 \n",
      "Epoch 27/60\n",
      "\u001b[1m4/4\u001b[0m \u001b[32m━━━━━━━━━━━━━━━━━━━━\u001b[0m\u001b[37m\u001b[0m \u001b[1m0s\u001b[0m 4ms/step - loss: 8855721.0000  \n",
      "Epoch 28/60\n",
      "\u001b[1m4/4\u001b[0m \u001b[32m━━━━━━━━━━━━━━━━━━━━\u001b[0m\u001b[37m\u001b[0m \u001b[1m0s\u001b[0m 5ms/step - loss: 9098969.0000  \n",
      "Epoch 29/60\n",
      "\u001b[1m4/4\u001b[0m \u001b[32m━━━━━━━━━━━━━━━━━━━━\u001b[0m\u001b[37m\u001b[0m \u001b[1m0s\u001b[0m 5ms/step - loss: 7427515.5000 \n",
      "Epoch 30/60\n",
      "\u001b[1m4/4\u001b[0m \u001b[32m━━━━━━━━━━━━━━━━━━━━\u001b[0m\u001b[37m\u001b[0m \u001b[1m0s\u001b[0m 5ms/step - loss: 8876074.0000 \n",
      "Epoch 31/60\n",
      "\u001b[1m4/4\u001b[0m \u001b[32m━━━━━━━━━━━━━━━━━━━━\u001b[0m\u001b[37m\u001b[0m \u001b[1m0s\u001b[0m 5ms/step - loss: 8484262.0000 \n",
      "Epoch 32/60\n",
      "\u001b[1m4/4\u001b[0m \u001b[32m━━━━━━━━━━━━━━━━━━━━\u001b[0m\u001b[37m\u001b[0m \u001b[1m0s\u001b[0m 5ms/step - loss: 8526266.0000 \n",
      "Epoch 33/60\n",
      "\u001b[1m4/4\u001b[0m \u001b[32m━━━━━━━━━━━━━━━━━━━━\u001b[0m\u001b[37m\u001b[0m \u001b[1m0s\u001b[0m 4ms/step - loss: 7078946.0000 \n",
      "Epoch 34/60\n",
      "\u001b[1m4/4\u001b[0m \u001b[32m━━━━━━━━━━━━━━━━━━━━\u001b[0m\u001b[37m\u001b[0m \u001b[1m0s\u001b[0m 5ms/step - loss: 8274281.0000 \n",
      "Epoch 35/60\n",
      "\u001b[1m4/4\u001b[0m \u001b[32m━━━━━━━━━━━━━━━━━━━━\u001b[0m\u001b[37m\u001b[0m \u001b[1m0s\u001b[0m 5ms/step - loss: 8470155.0000 \n",
      "Epoch 36/60\n",
      "\u001b[1m4/4\u001b[0m \u001b[32m━━━━━━━━━━━━━━━━━━━━\u001b[0m\u001b[37m\u001b[0m \u001b[1m0s\u001b[0m 5ms/step - loss: 8345375.5000 \n",
      "Epoch 37/60\n",
      "\u001b[1m4/4\u001b[0m \u001b[32m━━━━━━━━━━━━━━━━━━━━\u001b[0m\u001b[37m\u001b[0m \u001b[1m0s\u001b[0m 6ms/step - loss: 8361512.0000 \n",
      "Epoch 38/60\n",
      "\u001b[1m4/4\u001b[0m \u001b[32m━━━━━━━━━━━━━━━━━━━━\u001b[0m\u001b[37m\u001b[0m \u001b[1m0s\u001b[0m 5ms/step - loss: 9306929.0000 \n",
      "Epoch 39/60\n",
      "\u001b[1m4/4\u001b[0m \u001b[32m━━━━━━━━━━━━━━━━━━━━\u001b[0m\u001b[37m\u001b[0m \u001b[1m0s\u001b[0m 5ms/step - loss: 8830469.0000  \n",
      "Epoch 40/60\n",
      "\u001b[1m4/4\u001b[0m \u001b[32m━━━━━━━━━━━━━━━━━━━━\u001b[0m\u001b[37m\u001b[0m \u001b[1m0s\u001b[0m 5ms/step - loss: 10508072.0000 \n",
      "Epoch 41/60\n",
      "\u001b[1m4/4\u001b[0m \u001b[32m━━━━━━━━━━━━━━━━━━━━\u001b[0m\u001b[37m\u001b[0m \u001b[1m0s\u001b[0m 5ms/step - loss: 7670453.5000 \n",
      "Epoch 42/60\n",
      "\u001b[1m4/4\u001b[0m \u001b[32m━━━━━━━━━━━━━━━━━━━━\u001b[0m\u001b[37m\u001b[0m \u001b[1m0s\u001b[0m 5ms/step - loss: 9902602.0000  \n",
      "Epoch 43/60\n",
      "\u001b[1m4/4\u001b[0m \u001b[32m━━━━━━━━━━━━━━━━━━━━\u001b[0m\u001b[37m\u001b[0m \u001b[1m0s\u001b[0m 5ms/step - loss: 8687612.0000 \n",
      "Epoch 44/60\n",
      "\u001b[1m4/4\u001b[0m \u001b[32m━━━━━━━━━━━━━━━━━━━━\u001b[0m\u001b[37m\u001b[0m \u001b[1m0s\u001b[0m 5ms/step - loss: 8744635.0000 \n",
      "Epoch 45/60\n",
      "\u001b[1m4/4\u001b[0m \u001b[32m━━━━━━━━━━━━━━━━━━━━\u001b[0m\u001b[37m\u001b[0m \u001b[1m0s\u001b[0m 4ms/step - loss: 8524062.0000 \n",
      "Epoch 46/60\n",
      "\u001b[1m4/4\u001b[0m \u001b[32m━━━━━━━━━━━━━━━━━━━━\u001b[0m\u001b[37m\u001b[0m \u001b[1m0s\u001b[0m 5ms/step - loss: 8567294.0000 \n",
      "Epoch 47/60\n",
      "\u001b[1m4/4\u001b[0m \u001b[32m━━━━━━━━━━━━━━━━━━━━\u001b[0m\u001b[37m\u001b[0m \u001b[1m0s\u001b[0m 4ms/step - loss: 9828135.0000  \n",
      "Epoch 48/60\n",
      "\u001b[1m4/4\u001b[0m \u001b[32m━━━━━━━━━━━━━━━━━━━━\u001b[0m\u001b[37m\u001b[0m \u001b[1m0s\u001b[0m 4ms/step - loss: 7209204.0000 \n",
      "Epoch 49/60\n",
      "\u001b[1m4/4\u001b[0m \u001b[32m━━━━━━━━━━━━━━━━━━━━\u001b[0m\u001b[37m\u001b[0m \u001b[1m0s\u001b[0m 5ms/step - loss: 7137796.5000 \n",
      "Epoch 50/60\n",
      "\u001b[1m4/4\u001b[0m \u001b[32m━━━━━━━━━━━━━━━━━━━━\u001b[0m\u001b[37m\u001b[0m \u001b[1m0s\u001b[0m 5ms/step - loss: 8643172.0000 \n",
      "Epoch 51/60\n",
      "\u001b[1m4/4\u001b[0m \u001b[32m━━━━━━━━━━━━━━━━━━━━\u001b[0m\u001b[37m\u001b[0m \u001b[1m0s\u001b[0m 4ms/step - loss: 7543063.0000 \n",
      "Epoch 52/60\n",
      "\u001b[1m4/4\u001b[0m \u001b[32m━━━━━━━━━━━━━━━━━━━━\u001b[0m\u001b[37m\u001b[0m \u001b[1m0s\u001b[0m 4ms/step - loss: 8840137.0000 \n",
      "Epoch 53/60\n",
      "\u001b[1m4/4\u001b[0m \u001b[32m━━━━━━━━━━━━━━━━━━━━\u001b[0m\u001b[37m\u001b[0m \u001b[1m0s\u001b[0m 5ms/step - loss: 8256988.5000 \n",
      "Epoch 54/60\n",
      "\u001b[1m4/4\u001b[0m \u001b[32m━━━━━━━━━━━━━━━━━━━━\u001b[0m\u001b[37m\u001b[0m \u001b[1m0s\u001b[0m 5ms/step - loss: 7945542.0000 \n",
      "Epoch 55/60\n",
      "\u001b[1m4/4\u001b[0m \u001b[32m━━━━━━━━━━━━━━━━━━━━\u001b[0m\u001b[37m\u001b[0m \u001b[1m0s\u001b[0m 5ms/step - loss: 9268461.0000 \n",
      "Epoch 56/60\n",
      "\u001b[1m4/4\u001b[0m \u001b[32m━━━━━━━━━━━━━━━━━━━━\u001b[0m\u001b[37m\u001b[0m \u001b[1m0s\u001b[0m 5ms/step - loss: 7904348.5000 \n",
      "Epoch 57/60\n",
      "\u001b[1m4/4\u001b[0m \u001b[32m━━━━━━━━━━━━━━━━━━━━\u001b[0m\u001b[37m\u001b[0m \u001b[1m0s\u001b[0m 5ms/step - loss: 8966260.0000 \n",
      "Epoch 58/60\n",
      "\u001b[1m4/4\u001b[0m \u001b[32m━━━━━━━━━━━━━━━━━━━━\u001b[0m\u001b[37m\u001b[0m \u001b[1m0s\u001b[0m 6ms/step - loss: 7941066.5000 \n",
      "Epoch 59/60\n",
      "\u001b[1m4/4\u001b[0m \u001b[32m━━━━━━━━━━━━━━━━━━━━\u001b[0m\u001b[37m\u001b[0m \u001b[1m0s\u001b[0m 4ms/step - loss: 10517722.0000 \n",
      "Epoch 60/60\n",
      "\u001b[1m4/4\u001b[0m \u001b[32m━━━━━━━━━━━━━━━━━━━━\u001b[0m\u001b[37m\u001b[0m \u001b[1m0s\u001b[0m 4ms/step - loss: 9155366.0000  \n"
     ]
    },
    {
     "data": {
      "text/plain": [
       "<keras.src.callbacks.history.History at 0x22e3dcb3af0>"
      ]
     },
     "execution_count": 11,
     "metadata": {},
     "output_type": "execute_result"
    }
   ],
   "source": [
    "from tensorflow.keras.models import Sequential\n",
    "from tensorflow.keras.layers import LSTM, Dense\n",
    "\n",
    "model = Sequential([\n",
    "    LSTM(16, input_shape=(X.shape[1], X.shape[2])),\n",
    "    Dense(8, activation=\"relu\"),\n",
    "    Dense(1)\n",
    "])\n",
    "model.compile(loss=\"mse\", optimizer=\"adam\")\n",
    "model.fit(X, y, epochs=60, batch_size=4, verbose=1)\n"
   ]
  },
  {
   "cell_type": "code",
   "execution_count": 16,
   "id": "b564dc06",
   "metadata": {},
   "outputs": [
    {
     "name": "stdout",
     "output_type": "stream",
     "text": [
      "\u001b[1m1/1\u001b[0m \u001b[32m━━━━━━━━━━━━━━━━━━━━\u001b[0m\u001b[37m\u001b[0m \u001b[1m0s\u001b[0m 23ms/step\n",
      "17:00 기준 예상 승차인원: 17명\n"
     ]
    }
   ],
   "source": [
    "def predict_station_passenger(model, scaler, df, input_time, seq_len=4):\n",
    "    시간_int = int(input_time.split(\":\")[0])\n",
    "    idx = df[df[\"시간_int\"] == 시간_int].index\n",
    "    if len(idx) == 0 or idx[0] < seq_len:\n",
    "        return \"해당 시각은 예측 불가(데이터 부족)\"\n",
    "    idx = idx[0]\n",
    "    x_input = df[[\"승차인원\", \"하차인원\", \"혼잡도\"]].fillna(0).values\n",
    "    x_input = scaler.transform(x_input)\n",
    "    x_input = x_input[idx - seq_len: idx].reshape(1, seq_len, 3)\n",
    "    pred = model.predict(x_input)\n",
    "    return f\"{input_time} 기준 예상 승차인원: {int(pred[0,0])}명\"\n",
    "\n",
    "# 사용 예시\n",
    "print(predict_station_passenger(model, scaler, final_df, \"17:00\"))\n"
   ]
  }
 ],
 "metadata": {
  "kernelspec": {
   "display_name": "base",
   "language": "python",
   "name": "python3"
  },
  "language_info": {
   "codemirror_mode": {
    "name": "ipython",
    "version": 3
   },
   "file_extension": ".py",
   "mimetype": "text/x-python",
   "name": "python",
   "nbconvert_exporter": "python",
   "pygments_lexer": "ipython3",
   "version": "3.10.18"
  }
 },
 "nbformat": 4,
 "nbformat_minor": 5
}
