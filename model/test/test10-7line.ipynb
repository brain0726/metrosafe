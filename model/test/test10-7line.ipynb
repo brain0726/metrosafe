{
 "cells": [
  {
   "cell_type": "code",
   "execution_count": 1,
   "id": "1b056411",
   "metadata": {},
   "outputs": [],
   "source": [
    "# 1. 패키지 임포트\n",
    "import pandas as pd\n",
    "import numpy as np\n",
    "from sklearn.model_selection import train_test_split\n",
    "from sklearn.preprocessing import StandardScaler\n",
    "import tensorflow as tf\n",
    "from tensorflow import keras\n",
    "from tensorflow.keras import layers"
   ]
  },
  {
   "cell_type": "code",
   "execution_count": 2,
   "id": "e70ab880",
   "metadata": {},
   "outputs": [],
   "source": [
    "def load_data():\n",
    "    승하차_파일 = \"../../data/결과/승하차/통합/7호선_승하차인원_통합.csv\"\n",
    "    혼잡도_파일 = \"../../data/결과/혼잡도/통합/7호선_혼잡도_통합.csv\"\n",
    "    승하차_df = pd.read_csv(승하차_파일, encoding=\"euc-kr\")\n",
    "    혼잡도_df = pd.read_csv(혼잡도_파일, encoding=\"euc-kr\")\n",
    "    # 시간컬럼명 0패딩 통일\n",
    "    def fix_timecols(cols):\n",
    "        return [c if ':' not in c else c.zfill(5) for c in cols]\n",
    "    승하차_df.columns = fix_timecols(승하차_df.columns)\n",
    "    혼잡도_df.columns = fix_timecols(혼잡도_df.columns)\n",
    "    return 승하차_df, 혼잡도_df\n"
   ]
  },
  {
   "cell_type": "code",
   "execution_count": 3,
   "id": "16a046a4",
   "metadata": {},
   "outputs": [],
   "source": [
    "# 3. 승하차 데이터를 상행/하행으로 2배 복제\n",
    "def duplicate_for_directions(승하차):\n",
    "    dfs = []\n",
    "    for direction in [\"상행\", \"하행\"]:\n",
    "        tmp = 승하차.copy()\n",
    "        tmp['방향'] = direction\n",
    "        dfs.append(tmp)\n",
    "    return pd.concat(dfs, ignore_index=True)\n"
   ]
  },
  {
   "cell_type": "code",
   "execution_count": 4,
   "id": "2d670dbf",
   "metadata": {},
   "outputs": [],
   "source": [
    "# 전처리 함수\n",
    "def standardize_columns(df, do_direction=True):\n",
    "    df[\"평일주말\"] = df[\"평일주말\"].astype(str).str.strip()\n",
    "    df[\"구분\"] = df[\"구분\"].astype(str).str.strip()\n",
    "    df[\"역번호\"] = df[\"역번호\"].astype(str).str.strip()\n",
    "    if do_direction and \"방향\" in df.columns:\n",
    "        df[\"방향\"] = df[\"방향\"].astype(str).str.strip()\n",
    "    return df\n",
    "\n",
    "\n"
   ]
  },
  {
   "cell_type": "code",
   "execution_count": 5,
   "id": "6d757a4e",
   "metadata": {},
   "outputs": [],
   "source": [
    "# 5. AI 딥러닝 학습 데이터 생성\n",
    "def build_dl_dataset(승하차, 혼잡도, 정원=2000):\n",
    "    rows = []\n",
    "    시간컬럼들 = [col for col in 승하차.columns if ':' in col]\n",
    "    fail, total = 0, 0\n",
    "    for idx, row in 승하차.iterrows():\n",
    "        for col in 시간컬럼들:\n",
    "            total += 1\n",
    "            hour = int(col.split(\":\")[0])\n",
    "            평일주말 = 1 if row[\"평일주말\"] == \"주말\" else 0\n",
    "            상행 = 1 if row[\"방향\"] == \"상행\" else 0\n",
    "            승차 = 1 if row[\"구분\"] == \"승차\" else 0\n",
    "            matched = 혼잡도[\n",
    "                (혼잡도[\"역번호\"].astype(str).str.strip() == row[\"역번호\"]) &\n",
    "                (혼잡도[\"평일주말\"].astype(str).str.strip() == row[\"평일주말\"]) &\n",
    "                (혼잡도[\"구분\"].astype(str).str.strip() == row[\"방향\"])\n",
    "            ]\n",
    "            if matched.empty or col not in 혼잡도.columns:\n",
    "                fail += 1\n",
    "                continue\n",
    "            try:\n",
    "                congestion = float(matched.iloc[0][col])\n",
    "                승하차인원 = float(row[col])\n",
    "            except Exception as e:\n",
    "                fail += 1\n",
    "                continue\n",
    "            y = int(congestion * 정원 / 100)\n",
    "            rows.append([\n",
    "                int(row[\"역번호\"]), hour, 평일주말, 상행, 승차, 승하차인원, congestion, y\n",
    "            ])\n",
    "    print(f\"> 학습데이터 생성: {len(rows)}행, 실패 {fail} / 총시도 {total}\")\n",
    "    cols = [\"역번호\", \"hour\", \"평일주말\", \"상행\", \"승차\", \"승하차인원\", \"혼잡도\", \"target\"]\n",
    "    return pd.DataFrame(rows, columns=cols)"
   ]
  },
  {
   "cell_type": "code",
   "execution_count": 6,
   "id": "5b4a3224",
   "metadata": {},
   "outputs": [
    {
     "name": "stdout",
     "output_type": "stream",
     "text": [
      "> 학습데이터 생성: 10912800행, 실패 1563400 / 총시도 12476200\n",
      "    역번호  hour  평일주말  상행  승차  승하차인원  혼잡도  target\n",
      "0  2712     5     1   1   1  126.0  0.2       4\n",
      "1  2712     6     1   1   1  110.0  0.5      10\n",
      "2  2712     7     1   1   1  165.0  0.4       8\n",
      "3  2712     8     1   1   1  237.0  0.4       8\n",
      "4  2712     9     1   1   1  352.0  1.0      20\n"
     ]
    }
   ],
   "source": [
    "# 6. 전체 파이프라인 (학습+예측)\n",
    "승하차, 혼잡도 = load_data()\n",
    "승하차_expanded = duplicate_for_directions(승하차)\n",
    "승하차_expanded = standardize_columns(승하차_expanded)\n",
    "혼잡도 = standardize_columns(혼잡도)\n",
    "df = build_dl_dataset(승하차_expanded, 혼잡도)\n",
    "print(df.head())\n",
    "if df.shape[0]==0:\n",
    "    raise ValueError(\"학습데이터 생성 실패! 컬럼 또는 값 일치 여부 확인 필요.\")\n"
   ]
  },
  {
   "cell_type": "code",
   "execution_count": 7,
   "id": "6a4c489a",
   "metadata": {},
   "outputs": [],
   "source": [
    "# 7. 입력/정규화/트레인테스트 분리\n",
    "X = df[[\"역번호\", \"hour\", \"평일주말\", \"상행\", \"승차\", \"승하차인원\", \"혼잡도\"]].values\n",
    "y = df[\"target\"].values\n",
    "scaler = StandardScaler()\n",
    "X_scaled = scaler.fit_transform(X)\n",
    "X_train, X_test, y_train, y_test = train_test_split(\n",
    "    X_scaled, y, test_size=0.2, random_state=42\n",
    ")"
   ]
  },
  {
   "cell_type": "code",
   "execution_count": 8,
   "id": "acc40bdc",
   "metadata": {},
   "outputs": [
    {
     "name": "stdout",
     "output_type": "stream",
     "text": [
      "Epoch 1/40\n"
     ]
    },
    {
     "name": "stderr",
     "output_type": "stream",
     "text": [
      "c:\\Users\\user\\anaconda3\\lib\\site-packages\\keras\\src\\layers\\core\\dense.py:93: UserWarning: Do not pass an `input_shape`/`input_dim` argument to a layer. When using Sequential models, prefer using an `Input(shape)` object as the first layer in the model instead.\n",
      "  super().__init__(activity_regularizer=activity_regularizer, **kwargs)\n"
     ]
    },
    {
     "name": "stdout",
     "output_type": "stream",
     "text": [
      "122769/122769 - 105s - 858us/step - loss: 130218.8594 - mae: 255.7381 - val_loss: 128983.0000 - val_mae: 255.0027\n",
      "Epoch 2/40\n",
      "122769/122769 - 105s - 859us/step - loss: 129553.4922 - mae: 255.1040 - val_loss: 128998.1406 - val_mae: 255.4970\n",
      "Epoch 3/40\n",
      "122769/122769 - 105s - 854us/step - loss: 129553.7734 - mae: 255.1032 - val_loss: 128982.2500 - val_mae: 254.5469\n",
      "Epoch 4/40\n",
      "122769/122769 - 105s - 856us/step - loss: 129553.6641 - mae: 255.1005 - val_loss: 129063.9531 - val_mae: 256.4505\n",
      "Epoch 5/40\n",
      "122769/122769 - 105s - 851us/step - loss: 129550.9375 - mae: 255.0995 - val_loss: 128989.4375 - val_mae: 255.2617\n",
      "Epoch 6/40\n",
      "122769/122769 - 105s - 856us/step - loss: 129552.6641 - mae: 255.1016 - val_loss: 129049.8594 - val_mae: 256.2879\n",
      "Epoch 7/40\n",
      "122769/122769 - 104s - 849us/step - loss: 129551.3594 - mae: 255.1018 - val_loss: 128990.6641 - val_mae: 255.3081\n",
      "Epoch 8/40\n",
      "122769/122769 - 106s - 862us/step - loss: 129550.7578 - mae: 255.0989 - val_loss: 129007.9375 - val_mae: 255.6816\n",
      "Epoch 9/40\n",
      "122769/122769 - 104s - 850us/step - loss: 129549.4531 - mae: 255.0977 - val_loss: 129049.6641 - val_mae: 253.3586\n",
      "Epoch 10/40\n",
      "122769/122769 - 105s - 855us/step - loss: 129552.7031 - mae: 255.0978 - val_loss: 128992.1250 - val_mae: 255.3490\n",
      "Epoch 11/40\n",
      "122769/122769 - 105s - 855us/step - loss: 129551.6406 - mae: 255.1018 - val_loss: 128982.0781 - val_mae: 254.5490\n",
      "Epoch 12/40\n",
      "122769/122769 - 104s - 843us/step - loss: 129553.9922 - mae: 255.1016 - val_loss: 128998.5312 - val_mae: 255.5074\n",
      "Epoch 13/40\n",
      "122769/122769 - 105s - 854us/step - loss: 129552.3438 - mae: 255.1025 - val_loss: 129028.7500 - val_mae: 253.5767\n",
      "Epoch 14/40\n",
      "122769/122769 - 105s - 852us/step - loss: 129551.8047 - mae: 255.1037 - val_loss: 128982.3672 - val_mae: 254.5358\n",
      "Epoch 15/40\n",
      "122769/122769 - 104s - 850us/step - loss: 129552.7109 - mae: 255.0999 - val_loss: 128984.6094 - val_mae: 255.0649\n",
      "Epoch 16/40\n",
      "122769/122769 - 104s - 848us/step - loss: 129554.5703 - mae: 255.1018 - val_loss: 128984.8594 - val_mae: 255.1085\n",
      "Epoch 17/40\n",
      "122769/122769 - 104s - 845us/step - loss: 129554.1094 - mae: 255.1052 - val_loss: 129021.0000 - val_mae: 253.6735\n",
      "Epoch 18/40\n",
      "122769/122769 - 105s - 856us/step - loss: 129552.3281 - mae: 255.1034 - val_loss: 128985.9375 - val_mae: 255.1475\n",
      "Epoch 19/40\n",
      "122769/122769 - 104s - 847us/step - loss: 129551.6875 - mae: 255.1005 - val_loss: 128981.3594 - val_mae: 254.6305\n",
      "Epoch 20/40\n",
      "122769/122769 - 105s - 852us/step - loss: 129552.8750 - mae: 255.1024 - val_loss: 128981.8906 - val_mae: 254.5529\n",
      "Epoch 21/40\n",
      "122769/122769 - 105s - 857us/step - loss: 129551.4766 - mae: 255.1010 - val_loss: 129038.0547 - val_mae: 256.1408\n",
      "Epoch 22/40\n",
      "122769/122769 - 105s - 858us/step - loss: 129552.2656 - mae: 255.1045 - val_loss: 128980.8750 - val_mae: 254.8499\n",
      "Epoch 23/40\n",
      "122769/122769 - 104s - 847us/step - loss: 129551.3047 - mae: 255.0989 - val_loss: 129104.9922 - val_mae: 256.8587\n",
      "Epoch 24/40\n",
      "122769/122769 - 105s - 856us/step - loss: 129551.7578 - mae: 255.0986 - val_loss: 128981.5312 - val_mae: 254.6252\n",
      "Epoch 25/40\n",
      "122769/122769 - 106s - 865us/step - loss: 129551.2344 - mae: 255.1018 - val_loss: 128992.0312 - val_mae: 254.1583\n",
      "Epoch 26/40\n",
      "122769/122769 - 101s - 821us/step - loss: 129550.8594 - mae: 255.1012 - val_loss: 128981.8594 - val_mae: 254.9306\n",
      "Epoch 27/40\n",
      "122769/122769 - 101s - 825us/step - loss: 129550.8203 - mae: 255.0959 - val_loss: 129045.3672 - val_mae: 256.2424\n",
      "Epoch 28/40\n",
      "122769/122769 - 102s - 832us/step - loss: 129551.6719 - mae: 255.0994 - val_loss: 128981.8438 - val_mae: 254.6002\n",
      "Epoch 29/40\n",
      "122769/122769 - 102s - 830us/step - loss: 129550.8359 - mae: 255.0967 - val_loss: 128988.2422 - val_mae: 254.2646\n",
      "Epoch 30/40\n",
      "122769/122769 - 102s - 833us/step - loss: 129550.9141 - mae: 255.0996 - val_loss: 128981.0625 - val_mae: 254.6576\n",
      "Epoch 31/40\n",
      "122769/122769 - 102s - 831us/step - loss: 129549.2891 - mae: 255.1003 - val_loss: 129003.1250 - val_mae: 253.9260\n",
      "Epoch 32/40\n",
      "122769/122769 - 103s - 836us/step - loss: 129551.0547 - mae: 255.1047 - val_loss: 129007.3594 - val_mae: 253.8636\n",
      "Epoch 33/40\n",
      "122769/122769 - 102s - 828us/step - loss: 129547.2812 - mae: 255.0978 - val_loss: 128992.5078 - val_mae: 254.1452\n",
      "Epoch 34/40\n",
      "122769/122769 - 102s - 830us/step - loss: 129548.7109 - mae: 255.0974 - val_loss: 128992.3750 - val_mae: 255.3545\n",
      "Epoch 35/40\n",
      "122769/122769 - 102s - 830us/step - loss: 129548.6953 - mae: 255.0984 - val_loss: 129026.2578 - val_mae: 253.6016\n",
      "Epoch 36/40\n",
      "122769/122769 - 102s - 829us/step - loss: 129545.8047 - mae: 255.0972 - val_loss: 129048.0781 - val_mae: 256.2621\n",
      "Epoch 37/40\n",
      "122769/122769 - 103s - 838us/step - loss: 129549.1250 - mae: 255.0951 - val_loss: 129017.6719 - val_mae: 253.7132\n",
      "Epoch 38/40\n",
      "122769/122769 - 102s - 831us/step - loss: 129547.6250 - mae: 255.0939 - val_loss: 129020.8281 - val_mae: 255.8933\n",
      "Epoch 39/40\n",
      "122769/122769 - 102s - 830us/step - loss: 129548.0703 - mae: 255.0971 - val_loss: 128992.8203 - val_mae: 254.1414\n",
      "Epoch 40/40\n",
      "122769/122769 - 102s - 831us/step - loss: 129548.7656 - mae: 255.0952 - val_loss: 129003.7422 - val_mae: 255.6022\n"
     ]
    }
   ],
   "source": [
    "# 8. 딥러닝 모델 정의&학습\n",
    "model = keras.Sequential([\n",
    "    layers.Dense(128, activation='relu', input_shape=(X_train.shape[1],)),\n",
    "    layers.Dense(64, activation='relu'),\n",
    "    layers.Dense(32, activation='relu'),\n",
    "    layers.Dense(1)\n",
    "])\n",
    "model.compile(optimizer='adam', loss='mse', metrics=['mae'])\n",
    "history = model.fit(\n",
    "    X_train, y_train,\n",
    "    validation_split=0.1,\n",
    "    epochs=40,\n",
    "    batch_size=64,\n",
    "    verbose=2\n",
    ")\n"
   ]
  },
  {
   "cell_type": "code",
   "execution_count": 9,
   "id": "1644c672",
   "metadata": {},
   "outputs": [
    {
     "name": "stderr",
     "output_type": "stream",
     "text": [
      "WARNING:absl:You are saving your model as an HDF5 file via `model.save()` or `keras.saving.save_model(model)`. This file format is considered legacy. We recommend using instead the native Keras format, e.g. `model.save('my_model.keras')` or `keras.saving.save_model(model, 'my_model.keras')`. \n"
     ]
    },
    {
     "data": {
      "text/plain": [
       "['my_scaler.7line.pkl']"
      ]
     },
     "execution_count": 9,
     "metadata": {},
     "output_type": "execute_result"
    }
   ],
   "source": [
    "# 학습 직후 (fit 다음 셀)\n",
    "model.save(\"my_dl_model.7line.h5\")\n",
    "import joblib\n",
    "joblib.dump(scaler, \"my_scaler.7line.pkl\")\n"
   ]
  },
  {
   "cell_type": "code",
   "execution_count": 10,
   "id": "0d10366a",
   "metadata": {},
   "outputs": [],
   "source": [
    "# 9. 예측 함수\n",
    "def dl_predict(역번호, hour, 평일주말, 상행, 승차, 승하차인원, 혼잡도):\n",
    "    arr = np.array([[역번호, hour, 평일주말, 상행, 승차, 승하차인원, 혼잡도]])\n",
    "    arr_scaled = scaler.transform(arr)\n",
    "    pred = model.predict(arr_scaled)\n",
    "    return int(pred[0][0])\n"
   ]
  },
  {
   "cell_type": "code",
   "execution_count": 11,
   "id": "663345cc",
   "metadata": {},
   "outputs": [],
   "source": [
    "def user_predict_smart():\n",
    "    # 입력\n",
    "    역명 = input(\"역명: \")\n",
    "    호선 = input(\"호선: \")\n",
    "    방향 = input(\"방향 (상행/하행): \").strip()\n",
    "    평일주말_str = input(\"요일 (평일/주말): \").strip()\n",
    "    시간 = input(\"시간 (HH:MM): \").strip()\n",
    "\n",
    "    # 시간 가공\n",
    "    hour = int(시간.split(\":\")[0])\n",
    "    평일주말 = 1 if 평일주말_str == \"주말\" else 0\n",
    "    상행 = 1 if 방향 == \"상행\" else 0\n",
    "\n",
    "    # 역번호 자동 조회\n",
    "    # 최신화 : 승하차/혼잡도 둘 다에 맞추려면 승하차 or 혼잡도 데이터(ex. 승하차_expanded)에서 조회\n",
    "    # 보통 승하차 데이터에 역명, 호선이 있으므로:\n",
    "    df_ref = 승하차_expanded\n",
    "    후보 = df_ref[(df_ref[\"역명\"] == 역명) & (df_ref[\"호선\"].astype(str) == str(호선))]\n",
    "    if 후보.empty:\n",
    "        print(f\"해당 역명/호선이 데이터에 없습니다.\")\n",
    "        return\n",
    "    역번호 = int(후보.iloc[0][\"역번호\"])\n",
    "\n",
    "    # 승하차 값 탐색\n",
    "    row_승 = df_ref[\n",
    "        (df_ref[\"역번호\"] == str(역번호)) &\n",
    "        (df_ref[\"방향\"] == 방향) &\n",
    "        (df_ref[\"평일주말\"] == 평일주말_str) &\n",
    "        (df_ref[\"구분\"] == \"승차\")\n",
    "    ]\n",
    "    row_하 = df_ref[\n",
    "        (df_ref[\"역번호\"] == str(역번호)) &\n",
    "        (df_ref[\"방향\"] == 방향) &\n",
    "        (df_ref[\"평일주말\"] == 평일주말_str) &\n",
    "        (df_ref[\"구분\"] == \"하차\")\n",
    "    ]\n",
    "    시간컬럼 = 시간 if 시간 in df_ref.columns else f\"{hour:02d}:00\"\n",
    "    # 승차/하차 인원 조회(둘 다 있는 경우 합쳐도 되고, 하나만 써도 됨)\n",
    "    if not row_승.empty and 시간컬럼 in row_승.columns:\n",
    "        승차인원 = float(row_승.iloc[0][시간컬럼])\n",
    "    else:\n",
    "        승차인원 = 0\n",
    "    if not row_하.empty and 시간컬럼 in row_하.columns:\n",
    "        하차인원 = float(row_하.iloc[0][시간컬럼])\n",
    "    else:\n",
    "        하차인원 = 0\n",
    "    승하차인원 = 승차인원 + 하차인원 # 혹은 필요에 따라 방법 선택\n",
    "\n",
    "    # 혼잡도 탐색\n",
    "    row_혼 = 혼잡도[\n",
    "        (혼잡도[\"역번호\"] == str(역번호)) &\n",
    "        (혼잡도[\"구분\"] == 방향) &\n",
    "        (혼잡도[\"평일주말\"] == 평일주말_str)\n",
    "    ]\n",
    "    if not row_혼.empty and 시간컬럼 in row_혼.columns:\n",
    "        혼잡도_val = float(row_혼.iloc[0][시간컬럼])\n",
    "    else:\n",
    "        혼잡도_val = 0\n",
    "\n",
    "    # 예측\n",
    "    pred = dl_predict(\n",
    "        역번호=역번호,\n",
    "        hour=hour,\n",
    "        평일주말=평일주말,\n",
    "        상행=상행,\n",
    "        승차=1,  # 승차만 예측할지, 승/하차인원합 예측할지는 논리 선택!\n",
    "        승하차인원=승하차인원,\n",
    "        혼잡도=혼잡도_val\n",
    "    )\n",
    "\n",
    "    # 출력\n",
    "    print(f\"예측: {호선}호선 {역명}({역번호}) {방향} {평일주말_str} {시간}\")\n",
    "    print(f\"  승하차 인원(입력값): {승하차인원}, 혼잡도(%): {혼잡도_val:.1f}\")\n",
    "    print(f\"  딥러닝 기반 예측 열차 내 인원: {pred} 명\")\n"
   ]
  },
  {
   "cell_type": "code",
   "execution_count": 12,
   "id": "6c0195d2",
   "metadata": {},
   "outputs": [
    {
     "name": "stdout",
     "output_type": "stream",
     "text": [
      "해당 역명/호선이 데이터에 없습니다.\n"
     ]
    }
   ],
   "source": [
    "# 실행 예시\n",
    "user_predict_smart()"
   ]
  },
  {
   "cell_type": "code",
   "execution_count": null,
   "id": "29b72909",
   "metadata": {},
   "outputs": [],
   "source": []
  },
  {
   "cell_type": "code",
   "execution_count": null,
   "id": "b1704178",
   "metadata": {},
   "outputs": [],
   "source": []
  }
 ],
 "metadata": {
  "kernelspec": {
   "display_name": "base",
   "language": "python",
   "name": "python3"
  },
  "language_info": {
   "codemirror_mode": {
    "name": "ipython",
    "version": 3
   },
   "file_extension": ".py",
   "mimetype": "text/x-python",
   "name": "python",
   "nbconvert_exporter": "python",
   "pygments_lexer": "ipython3",
   "version": "3.10.18"
  }
 },
 "nbformat": 4,
 "nbformat_minor": 5
}
