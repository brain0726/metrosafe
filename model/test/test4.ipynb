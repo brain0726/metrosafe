{
 "cells": [
  {
   "cell_type": "code",
   "execution_count": 7,
   "id": "1b056411",
   "metadata": {},
   "outputs": [],
   "source": [
    "# 1. 패키지 임포트\n",
    "import pandas as pd\n",
    "import numpy as np\n",
    "from sklearn.model_selection import train_test_split\n",
    "from sklearn.preprocessing import StandardScaler\n",
    "import tensorflow as tf\n",
    "from tensorflow import keras\n",
    "from tensorflow.keras import layers"
   ]
  },
  {
   "cell_type": "code",
   "execution_count": 8,
   "id": "e70ab880",
   "metadata": {},
   "outputs": [],
   "source": [
    "def load_data():\n",
    "    승하차_파일 = \"../../data/결과/승하차/통합/2호선_승하차인원_통합.csv\"\n",
    "    혼잡도_파일 = \"../../data/결과/혼잡도/통합/2호선_혼잡도_통합.csv\"\n",
    "    승하차_df = pd.read_csv(승하차_파일, encoding=\"euc-kr\")\n",
    "    혼잡도_df = pd.read_csv(혼잡도_파일, encoding=\"euc-kr\")\n",
    "    # 시간컬럼명 0패딩 통일\n",
    "    def fix_timecols(cols):\n",
    "        return [c if ':' not in c else c.zfill(5) for c in cols]\n",
    "    승하차_df.columns = fix_timecols(승하차_df.columns)\n",
    "    혼잡도_df.columns = fix_timecols(혼잡도_df.columns)\n",
    "    return 승하차_df, 혼잡도_df\n"
   ]
  },
  {
   "cell_type": "code",
   "execution_count": 9,
   "id": "16a046a4",
   "metadata": {},
   "outputs": [],
   "source": [
    "# 3. 승하차 데이터를 상행/하행으로 2배 복제\n",
    "def duplicate_for_directions(승하차):\n",
    "    dfs = []\n",
    "    for direction in [\"상행\", \"하행\"]:\n",
    "        tmp = 승하차.copy()\n",
    "        tmp['방향'] = direction\n",
    "        dfs.append(tmp)\n",
    "    return pd.concat(dfs, ignore_index=True)\n"
   ]
  },
  {
   "cell_type": "code",
   "execution_count": null,
   "id": "2d670dbf",
   "metadata": {},
   "outputs": [
    {
     "name": "stdout",
     "output_type": "stream",
     "text": [
      "> 학습데이터 생성: 13016520행, 실패 131480 / 총시도 13148000\n"
     ]
    }
   ],
   "source": [
    "# 전처리 함수\n",
    "def standardize_columns(df, do_direction=True):\n",
    "    df[\"평일주말\"] = df[\"평일주말\"].astype(str).str.strip()\n",
    "    df[\"구분\"] = df[\"구분\"].astype(str).str.strip()\n",
    "    df[\"역번호\"] = df[\"역번호\"].astype(str).str.strip()\n",
    "    if do_direction and \"방향\" in df.columns:\n",
    "        df[\"방향\"] = df[\"방향\"].astype(str).str.strip()\n",
    "    return df\n",
    "\n",
    "\n"
   ]
  },
  {
   "cell_type": "code",
   "execution_count": 11,
   "id": "6d757a4e",
   "metadata": {},
   "outputs": [],
   "source": [
    "# 5. AI 딥러닝 학습 데이터 생성\n",
    "def build_dl_dataset(승하차, 혼잡도, 정원=2000):\n",
    "    rows = []\n",
    "    시간컬럼들 = [col for col in 승하차.columns if ':' in col]\n",
    "    fail, total = 0, 0\n",
    "    for idx, row in 승하차.iterrows():\n",
    "        for col in 시간컬럼들:\n",
    "            total += 1\n",
    "            hour = int(col.split(\":\")[0])\n",
    "            평일주말 = 1 if row[\"평일주말\"] == \"주말\" else 0\n",
    "            상행 = 1 if row[\"방향\"] == \"상행\" else 0\n",
    "            승차 = 1 if row[\"구분\"] == \"승차\" else 0\n",
    "            matched = 혼잡도[\n",
    "                (혼잡도[\"역번호\"].astype(str).str.strip() == row[\"역번호\"]) &\n",
    "                (혼잡도[\"평일주말\"].astype(str).str.strip() == row[\"평일주말\"]) &\n",
    "                (혼잡도[\"구분\"].astype(str).str.strip() == row[\"방향\"])\n",
    "            ]\n",
    "            if matched.empty or col not in 혼잡도.columns:\n",
    "                fail += 1\n",
    "                continue\n",
    "            try:\n",
    "                congestion = float(matched.iloc[0][col])\n",
    "                승하차인원 = float(row[col])\n",
    "            except Exception as e:\n",
    "                fail += 1\n",
    "                continue\n",
    "            y = int(congestion * 정원 / 100)\n",
    "            rows.append([\n",
    "                int(row[\"역번호\"]), hour, 평일주말, 상행, 승차, 승하차인원, congestion, y\n",
    "            ])\n",
    "    print(f\"> 학습데이터 생성: {len(rows)}행, 실패 {fail} / 총시도 {total}\")\n",
    "    cols = [\"역번호\", \"hour\", \"평일주말\", \"상행\", \"승차\", \"승하차인원\", \"혼잡도\", \"target\"]\n",
    "    return pd.DataFrame(rows, columns=cols)"
   ]
  },
  {
   "cell_type": "code",
   "execution_count": 12,
   "id": "5b4a3224",
   "metadata": {},
   "outputs": [
    {
     "name": "stdout",
     "output_type": "stream",
     "text": [
      "> 학습데이터 생성: 13016520행, 실패 131480 / 총시도 13148000\n",
      "   역번호  hour  평일주말  상행  승차  승하차인원   혼잡도  target\n",
      "0  201     5     1   1   1   39.0   5.2     104\n",
      "1  201     6     1   1   1   51.0   9.2     184\n",
      "2  201     7     1   1   1   95.0   9.9     198\n",
      "3  201     8     1   1   1  104.0  18.0     360\n",
      "4  201     9     1   1   1  129.0  21.0     420\n"
     ]
    }
   ],
   "source": [
    "# 6. 전체 파이프라인 (학습+예측)\n",
    "승하차, 혼잡도 = load_data()\n",
    "승하차_expanded = duplicate_for_directions(승하차)\n",
    "승하차_expanded = standardize_columns(승하차_expanded)\n",
    "혼잡도 = standardize_columns(혼잡도)\n",
    "df = build_dl_dataset(승하차_expanded, 혼잡도)\n",
    "print(df.head())\n",
    "if df.shape[0]==0:\n",
    "    raise ValueError(\"학습데이터 생성 실패! 컬럼 또는 값 일치 여부 확인 필요.\")\n"
   ]
  },
  {
   "cell_type": "code",
   "execution_count": 13,
   "id": "6a4c489a",
   "metadata": {},
   "outputs": [],
   "source": [
    "# 7. 입력/정규화/트레인테스트 분리\n",
    "X = df[[\"역번호\", \"hour\", \"평일주말\", \"상행\", \"승차\", \"승하차인원\", \"혼잡도\"]].values\n",
    "y = df[\"target\"].values\n",
    "scaler = StandardScaler()\n",
    "X_scaled = scaler.fit_transform(X)\n",
    "X_train, X_test, y_train, y_test = train_test_split(\n",
    "    X_scaled, y, test_size=0.2, random_state=42\n",
    ")"
   ]
  },
  {
   "cell_type": "code",
   "execution_count": 14,
   "id": "acc40bdc",
   "metadata": {},
   "outputs": [
    {
     "name": "stderr",
     "output_type": "stream",
     "text": [
      "c:\\Users\\user\\anaconda3\\lib\\site-packages\\keras\\src\\layers\\core\\dense.py:93: UserWarning: Do not pass an `input_shape`/`input_dim` argument to a layer. When using Sequential models, prefer using an `Input(shape)` object as the first layer in the model instead.\n",
      "  super().__init__(activity_regularizer=activity_regularizer, **kwargs)\n"
     ]
    },
    {
     "name": "stdout",
     "output_type": "stream",
     "text": [
      "Epoch 1/40\n",
      "146436/146436 - 178s - 1ms/step - loss: 137317.0781 - mae: 265.9102 - val_loss: 136621.5156 - val_mae: 265.3067\n",
      "Epoch 2/40\n",
      "146436/146436 - 178s - 1ms/step - loss: 136512.6094 - mae: 265.1358 - val_loss: 136622.4844 - val_mae: 264.5733\n",
      "Epoch 3/40\n",
      "146436/146436 - 178s - 1ms/step - loss: 136509.7812 - mae: 265.1390 - val_loss: 136607.4688 - val_mae: 264.7749\n",
      "Epoch 4/40\n",
      "146436/146436 - 178s - 1ms/step - loss: 136510.9062 - mae: 265.1371 - val_loss: 136605.1562 - val_mae: 264.9651\n",
      "Epoch 5/40\n",
      "146436/146436 - 178s - 1ms/step - loss: 136511.5625 - mae: 265.1411 - val_loss: 136638.9062 - val_mae: 264.4438\n",
      "Epoch 6/40\n",
      "146436/146436 - 179s - 1ms/step - loss: 136509.9375 - mae: 265.1359 - val_loss: 136606.7656 - val_mae: 264.7996\n",
      "Epoch 7/40\n",
      "146436/146436 - 178s - 1ms/step - loss: 136510.9375 - mae: 265.1374 - val_loss: 136629.4219 - val_mae: 264.5136\n",
      "Epoch 8/40\n",
      "146436/146436 - 178s - 1ms/step - loss: 136512.8438 - mae: 265.1368 - val_loss: 136630.2344 - val_mae: 265.4090\n",
      "Epoch 9/40\n",
      "146436/146436 - 177s - 1ms/step - loss: 136511.1406 - mae: 265.1363 - val_loss: 136618.0781 - val_mae: 265.2650\n",
      "Epoch 10/40\n",
      "146436/146436 - 179s - 1ms/step - loss: 136512.2188 - mae: 265.1345 - val_loss: 136604.9688 - val_mae: 264.9509\n",
      "Epoch 11/40\n",
      "146436/146436 - 177s - 1ms/step - loss: 136509.4219 - mae: 265.1358 - val_loss: 136680.5938 - val_mae: 265.8210\n",
      "Epoch 12/40\n",
      "146436/146436 - 179s - 1ms/step - loss: 136512.2500 - mae: 265.1385 - val_loss: 136625.6562 - val_mae: 264.5389\n",
      "Epoch 13/40\n",
      "146436/146436 - 178s - 1ms/step - loss: 136513.1562 - mae: 265.1354 - val_loss: 136652.1875 - val_mae: 265.6043\n",
      "Epoch 14/40\n",
      "146436/146436 - 179s - 1ms/step - loss: 136510.6406 - mae: 265.1345 - val_loss: 136605.6562 - val_mae: 264.8258\n",
      "Epoch 15/40\n",
      "146436/146436 - 177s - 1ms/step - loss: 136510.9844 - mae: 265.1324 - val_loss: 136777.4844 - val_mae: 266.3745\n",
      "Epoch 16/40\n",
      "146436/146436 - 180s - 1ms/step - loss: 136509.7969 - mae: 265.1344 - val_loss: 136608.5625 - val_mae: 265.0881\n",
      "Epoch 17/40\n",
      "146436/146436 - 177s - 1ms/step - loss: 136512.0938 - mae: 265.1361 - val_loss: 136623.9844 - val_mae: 265.3367\n",
      "Epoch 18/40\n",
      "146436/146436 - 178s - 1ms/step - loss: 136509.7969 - mae: 265.1348 - val_loss: 136615.3750 - val_mae: 265.2134\n",
      "Epoch 19/40\n",
      "146436/146436 - 178s - 1ms/step - loss: 136509.5781 - mae: 265.1355 - val_loss: 136850.4688 - val_mae: 263.8762\n",
      "Epoch 20/40\n",
      "146436/146436 - 178s - 1ms/step - loss: 136508.8594 - mae: 265.1327 - val_loss: 136713.2969 - val_mae: 266.0291\n",
      "Epoch 21/40\n",
      "146436/146436 - 178s - 1ms/step - loss: 136510.5000 - mae: 265.1344 - val_loss: 136612.0156 - val_mae: 265.1622\n",
      "Epoch 22/40\n",
      "146436/146436 - 178s - 1ms/step - loss: 136512.5781 - mae: 265.1372 - val_loss: 136605.4531 - val_mae: 264.8517\n",
      "Epoch 23/40\n",
      "146436/146436 - 178s - 1ms/step - loss: 136510.3750 - mae: 265.1351 - val_loss: 136610.0781 - val_mae: 264.7153\n",
      "Epoch 24/40\n",
      "146436/146436 - 178s - 1ms/step - loss: 136508.7344 - mae: 265.1342 - val_loss: 136609.3281 - val_mae: 264.7281\n",
      "Epoch 25/40\n",
      "146436/146436 - 176s - 1ms/step - loss: 136510.6250 - mae: 265.1323 - val_loss: 136606.2188 - val_mae: 264.8124\n",
      "Epoch 26/40\n",
      "146436/146436 - 178s - 1ms/step - loss: 136508.3594 - mae: 265.1349 - val_loss: 136653.5625 - val_mae: 264.3650\n",
      "Epoch 27/40\n",
      "146436/146436 - 177s - 1ms/step - loss: 136509.5000 - mae: 265.1353 - val_loss: 136629.4219 - val_mae: 265.4044\n",
      "Epoch 28/40\n",
      "146436/146436 - 178s - 1ms/step - loss: 136510.1094 - mae: 265.1349 - val_loss: 136604.5156 - val_mae: 264.9031\n",
      "Epoch 29/40\n",
      "146436/146436 - 179s - 1ms/step - loss: 136510.5312 - mae: 265.1357 - val_loss: 136650.9844 - val_mae: 265.5962\n",
      "Epoch 30/40\n",
      "146436/146436 - 177s - 1ms/step - loss: 136510.1875 - mae: 265.1345 - val_loss: 136605.0000 - val_mae: 264.8957\n",
      "Epoch 31/40\n",
      "146436/146436 - 177s - 1ms/step - loss: 136507.4844 - mae: 265.1304 - val_loss: 136722.0469 - val_mae: 266.0697\n",
      "Epoch 32/40\n",
      "146436/146436 - 178s - 1ms/step - loss: 136508.4375 - mae: 265.1352 - val_loss: 136624.0312 - val_mae: 264.5548\n",
      "Epoch 33/40\n",
      "146436/146436 - 179s - 1ms/step - loss: 136509.4375 - mae: 265.1313 - val_loss: 136625.2188 - val_mae: 265.3500\n",
      "Epoch 34/40\n",
      "146436/146436 - 178s - 1ms/step - loss: 136509.5469 - mae: 265.1353 - val_loss: 136605.1406 - val_mae: 264.8678\n",
      "Epoch 35/40\n",
      "146436/146436 - 178s - 1ms/step - loss: 136510.1875 - mae: 265.1336 - val_loss: 136668.1562 - val_mae: 264.2986\n",
      "Epoch 36/40\n",
      "146436/146436 - 177s - 1ms/step - loss: 136506.0781 - mae: 265.1313 - val_loss: 136604.9531 - val_mae: 264.9735\n",
      "Epoch 37/40\n",
      "146436/146436 - 178s - 1ms/step - loss: 136507.9219 - mae: 265.1287 - val_loss: 136610.0156 - val_mae: 265.1295\n",
      "Epoch 38/40\n",
      "146436/146436 - 178s - 1ms/step - loss: 136507.8750 - mae: 265.1312 - val_loss: 136622.7500 - val_mae: 265.3213\n",
      "Epoch 39/40\n",
      "146436/146436 - 179s - 1ms/step - loss: 136506.4219 - mae: 265.1307 - val_loss: 136642.2969 - val_mae: 265.5277\n",
      "Epoch 40/40\n",
      "146436/146436 - 178s - 1ms/step - loss: 136507.3125 - mae: 265.1321 - val_loss: 136627.4062 - val_mae: 264.5271\n"
     ]
    }
   ],
   "source": [
    "# 8. 딥러닝 모델 정의&학습\n",
    "model = keras.Sequential([\n",
    "    layers.Dense(128, activation='relu', input_shape=(X_train.shape[1],)),\n",
    "    layers.Dense(64, activation='relu'),\n",
    "    layers.Dense(32, activation='relu'),\n",
    "    layers.Dense(1)\n",
    "])\n",
    "model.compile(optimizer='adam', loss='mse', metrics=['mae'])\n",
    "history = model.fit(\n",
    "    X_train, y_train,\n",
    "    validation_split=0.1,\n",
    "    epochs=40,\n",
    "    batch_size=64,\n",
    "    verbose=2\n",
    ")\n"
   ]
  },
  {
   "cell_type": "code",
   "execution_count": 15,
   "id": "0d10366a",
   "metadata": {},
   "outputs": [],
   "source": [
    "# 9. 예측 함수\n",
    "def dl_predict(역번호, hour, 평일주말, 상행, 승차, 승하차인원, 혼잡도):\n",
    "    arr = np.array([[역번호, hour, 평일주말, 상행, 승차, 승하차인원, 혼잡도]])\n",
    "    arr_scaled = scaler.transform(arr)\n",
    "    pred = model.predict(arr_scaled)\n",
    "    return int(pred[0][0])\n"
   ]
  },
  {
   "cell_type": "code",
   "execution_count": 16,
   "id": "663345cc",
   "metadata": {},
   "outputs": [],
   "source": [
    "# 10. 예측 CLI\n",
    "def user_predict():\n",
    "    print(\"예시: 역번호 150 / 08시 / 평일=0, 주말=1 / 상행=1 하행=0 / 승차=1 하차=0 / 인원수 / 혼잡도(%)\")\n",
    "    역번호 = int(input(\"역번호: \"))\n",
    "    hour = int(input(\"시(hour): \"))\n",
    "    평일주말 = int(input(\"평일=0, 주말=1: \"))\n",
    "    상행 = int(input(\"상행=1, 하행=0: \"))\n",
    "    승차 = int(input(\"승차=1, 하차=0: \"))\n",
    "    승하차인원 = float(input(\"승하차 인원: \"))\n",
    "    혼잡도 = float(input(\"혼잡도(%): \"))\n",
    "    pred = dl_predict(역번호, hour, 평일주말, 상행, 승차, 승하차인원, 혼잡도)\n",
    "    print(f\"예측 인원: {pred} 명\")"
   ]
  },
  {
   "cell_type": "code",
   "execution_count": 19,
   "id": "6c0195d2",
   "metadata": {},
   "outputs": [
    {
     "name": "stdout",
     "output_type": "stream",
     "text": [
      "예시: 역번호 150 / 08시 / 평일=0, 주말=1 / 상행=1 하행=0 / 승차=1 하차=0 / 인원수 / 혼잡도(%)\n",
      "\u001b[1m1/1\u001b[0m \u001b[32m━━━━━━━━━━━━━━━━━━━━\u001b[0m\u001b[37m\u001b[0m \u001b[1m0s\u001b[0m 47ms/step\n",
      "예측 인원: 564 명\n"
     ]
    }
   ],
   "source": [
    "# 실행 예시\n",
    "user_predict()"
   ]
  },
  {
   "cell_type": "code",
   "execution_count": null,
   "id": "29b72909",
   "metadata": {},
   "outputs": [],
   "source": []
  },
  {
   "cell_type": "code",
   "execution_count": null,
   "id": "b1704178",
   "metadata": {},
   "outputs": [],
   "source": []
  }
 ],
 "metadata": {
  "kernelspec": {
   "display_name": "base",
   "language": "python",
   "name": "python3"
  },
  "language_info": {
   "codemirror_mode": {
    "name": "ipython",
    "version": 3
   },
   "file_extension": ".py",
   "mimetype": "text/x-python",
   "name": "python",
   "nbconvert_exporter": "python",
   "pygments_lexer": "ipython3",
   "version": "3.10.18"
  }
 },
 "nbformat": 4,
 "nbformat_minor": 5
}
