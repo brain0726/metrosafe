{
 "cells": [
  {
   "cell_type": "code",
   "execution_count": 1,
   "id": "1b056411",
   "metadata": {},
   "outputs": [],
   "source": [
    "import pandas as pd\n",
    "import numpy as np\n",
    "from sklearn.model_selection import train_test_split\n",
    "import tensorflow as tf\n",
    "from tensorflow import keras\n",
    "from tensorflow.keras import layers\n",
    "\n",
    "\n",
    "def load_data():\n",
    "    승하차_파일 = \"../../data/결과/승하차/통합/2호선_승하차인원_통합.csv\"\n",
    "    혼잡도_파일 = \"../../data/결과/혼잡도/통합/2호선_혼잡도_통합.csv\"\n",
    "    승하차_df = pd.read_csv(승하차_파일, encoding=\"euc-kr\")\n",
    "    혼잡도_df = pd.read_csv(혼잡도_파일, encoding=\"euc-kr\")\n",
    "    return 승하차_df, 혼잡도_df"
   ]
  },
  {
   "cell_type": "code",
   "execution_count": 2,
   "id": "e70ab880",
   "metadata": {},
   "outputs": [],
   "source": [
    "def build_dl_dataset(승하차, 혼잡도, 정원=2000):\n",
    "    rows = []\n",
    "    시간컬럼들 = [col for col in 승하차.columns if \":\" in col]\n",
    "    for idx, row in 승하차.iterrows():\n",
    "        for col in 시간컬럼들:\n",
    "            hour = int(col.split(\":\")[0])\n",
    "            평일주말 = 1 if row[\"평일주말\"] == \"주말\" else 0\n",
    "            상행 = 1 if row[\"구분\"] == \"상행\" else 0\n",
    "            승차 = 1 if row[\"구분\"] == \"승차\" else 0\n",
    "            # 혼잡도 추출\n",
    "            matched = 혼잡도[\n",
    "                (혼잡도[\"역번호\"] == row[\"역번호\"])\n",
    "                & (혼잡도[\"평일주말\"] == row[\"평일주말\"])\n",
    "                & (혼잡도[\"구분\"] == row[\"구분\"])\n",
    "            ]\n",
    "            if matched.empty or col not in matched.columns:\n",
    "                continue\n",
    "            congestion = float(matched[col].values[0])\n",
    "            # 타깃(정원x혼잡도%)\n",
    "            y = int(congestion * 정원 / 100)\n",
    "            rows.append(\n",
    "                [row[\"역번호\"], hour, 평일주말, 상행, 승차, row[col], congestion, y]\n",
    "            )\n",
    "    cols = [\n",
    "        \"역번호\",\n",
    "        \"hour\",\n",
    "        \"평일주말\",\n",
    "        \"상행\",\n",
    "        \"승차\",\n",
    "        \"승하차인원\",\n",
    "        \"혼잡도\",\n",
    "        \"target\",\n",
    "    ]\n",
    "    return pd.DataFrame(rows, columns=cols)"
   ]
  },
  {
   "cell_type": "code",
   "execution_count": null,
   "id": "16a046a4",
   "metadata": {},
   "outputs": [],
   "source": [
    "# 데이터 준비\n",
    "승하차, 혼잡도 = load_data()\n",
    "df = build_dl_dataset(승하차, 혼잡도)\n",
    "\n",
    "# 입력(X), 타깃(y)\n",
    "X = df[[\"역번호\", \"hour\", \"평일주말\", \"상행\", \"승차\", \"승하차인원\", \"혼잡도\"]].values\n",
    "y = df[\"target\"].values\n",
    "\n",
    "# 스케일링(정규화): 딥러닝에는 효과적\n",
    "from sklearn.preprocessing import StandardScaler\n",
    "\n",
    "scaler = StandardScaler()\n",
    "X_scaled = scaler.fit_transform(X)\n",
    "\n",
    "X_train, X_test, y_train, y_test = train_test_split(\n",
    "    X_scaled, y, test_size=0.2, random_state=42\n",
    ")"
   ]
  },
  {
   "cell_type": "code",
   "execution_count": null,
   "id": "acc40bdc",
   "metadata": {},
   "outputs": [],
   "source": [
    "# 간단한 Feedforward NN\n",
    "model = keras.Sequential(\n",
    "    [\n",
    "        layers.Dense(128, activation=\"relu\", input_shape=(X_train.shape[1],)),\n",
    "        layers.Dense(64, activation=\"relu\"),\n",
    "        layers.Dense(32, activation=\"relu\"),\n",
    "        layers.Dense(1),\n",
    "    ]\n",
    ")\n",
    "model.compile(optimizer=\"adam\", loss=\"mse\", metrics=[\"mae\"])\n",
    "\n",
    "history = model.fit(\n",
    "    X_train, y_train, validation_split=0.1, epochs=40, batch_size=64, verbose=2\n",
    ")"
   ]
  },
  {
   "cell_type": "code",
   "execution_count": null,
   "id": "663345cc",
   "metadata": {},
   "outputs": [],
   "source": [
    "def dl_predict(역번호, hour, 평일주말, 상행, 승차, 승하차인원, 혼잡도):\n",
    "    arr = np.array([[역번호, hour, 평일주말, 상행, 승차, 승하차인원, 혼잡도]])\n",
    "    arr_scaled = scaler.transform(arr)\n",
    "    pred = model.predict(arr_scaled)\n",
    "    return int(pred[0][0])"
   ]
  },
  {
   "cell_type": "code",
   "execution_count": null,
   "id": "6c0195d2",
   "metadata": {},
   "outputs": [],
   "source": [
    "def user_predict():\n",
    "    역번호 = int(input(\"역번호: \"))\n",
    "    hour = int(input(\"시(hour): \"))\n",
    "    평일주말 = int(input(\"평일=0, 주말=1: \"))\n",
    "    상행 = int(input(\"상행=1, 하행=0: \"))\n",
    "    승차 = int(input(\"승차=1, 하차=0: \"))\n",
    "    승하차인원 = float(input(\"해당 시간 승하차인원: \"))\n",
    "    혼잡도 = float(input(\"혼잡도(%): \"))\n",
    "    pred = dl_predict(역번호, hour, 평일주말, 상행, 승차, 승하차인원, 혼잡도)\n",
    "    print(f\"딥러닝 예측 예상 인원: {pred} 명\")"
   ]
  },
  {
   "cell_type": "code",
   "execution_count": null,
   "id": "29b72909",
   "metadata": {},
   "outputs": [],
   "source": [
    "user_predict()"
   ]
  }
 ],
 "metadata": {
  "kernelspec": {
   "display_name": "dl_env",
   "language": "python",
   "name": "python3"
  },
  "language_info": {
   "codemirror_mode": {
    "name": "ipython",
    "version": 3
   },
   "file_extension": ".py",
   "mimetype": "text/x-python",
   "name": "python",
   "nbconvert_exporter": "python",
   "pygments_lexer": "ipython3",
   "version": "3.10.18"
  }
 },
 "nbformat": 4,
 "nbformat_minor": 5
}
