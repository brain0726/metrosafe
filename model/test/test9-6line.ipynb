{
 "cells": [
  {
   "cell_type": "code",
   "execution_count": 7,
   "id": "1b056411",
   "metadata": {},
   "outputs": [],
   "source": [
    "# 1. 패키지 임포트\n",
    "import pandas as pd\n",
    "import numpy as np\n",
    "from sklearn.model_selection import train_test_split\n",
    "from sklearn.preprocessing import StandardScaler\n",
    "import tensorflow as tf\n",
    "from tensorflow import keras\n",
    "from tensorflow.keras import layers"
   ]
  },
  {
   "cell_type": "code",
   "execution_count": 8,
   "id": "e70ab880",
   "metadata": {},
   "outputs": [],
   "source": [
    "def load_data():\n",
    "    승하차_파일 = \"../../data/결과/승하차/통합/6호선_승하차인원_통합.csv\"\n",
    "    혼잡도_파일 = \"../../data/결과/혼잡도/통합/6호선_혼잡도_통합.csv\"\n",
    "    승하차_df = pd.read_csv(승하차_파일, encoding=\"euc-kr\")\n",
    "    혼잡도_df = pd.read_csv(혼잡도_파일, encoding=\"euc-kr\")\n",
    "    # 시간컬럼명 0패딩 통일\n",
    "    def fix_timecols(cols):\n",
    "        return [c if ':' not in c else c.zfill(5) for c in cols]\n",
    "    승하차_df.columns = fix_timecols(승하차_df.columns)\n",
    "    혼잡도_df.columns = fix_timecols(혼잡도_df.columns)\n",
    "    return 승하차_df, 혼잡도_df\n"
   ]
  },
  {
   "cell_type": "code",
   "execution_count": 9,
   "id": "16a046a4",
   "metadata": {},
   "outputs": [],
   "source": [
    "# 3. 승하차 데이터를 상행/하행으로 2배 복제\n",
    "def duplicate_for_directions(승하차):\n",
    "    dfs = []\n",
    "    for direction in [\"상행\", \"하행\"]:\n",
    "        tmp = 승하차.copy()\n",
    "        tmp['방향'] = direction\n",
    "        dfs.append(tmp)\n",
    "    return pd.concat(dfs, ignore_index=True)\n"
   ]
  },
  {
   "cell_type": "code",
   "execution_count": 10,
   "id": "2d670dbf",
   "metadata": {},
   "outputs": [],
   "source": [
    "# 전처리 함수\n",
    "def standardize_columns(df, do_direction=True):\n",
    "    df[\"평일주말\"] = df[\"평일주말\"].astype(str).str.strip()\n",
    "    df[\"구분\"] = df[\"구분\"].astype(str).str.strip()\n",
    "    df[\"역번호\"] = df[\"역번호\"].astype(str).str.strip()\n",
    "    if do_direction and \"방향\" in df.columns:\n",
    "        df[\"방향\"] = df[\"방향\"].astype(str).str.strip()\n",
    "    return df\n",
    "\n",
    "\n"
   ]
  },
  {
   "cell_type": "code",
   "execution_count": 11,
   "id": "6d757a4e",
   "metadata": {},
   "outputs": [],
   "source": [
    "# 5. AI 딥러닝 학습 데이터 생성\n",
    "def build_dl_dataset(승하차, 혼잡도, 정원=2000):\n",
    "    rows = []\n",
    "    시간컬럼들 = [col for col in 승하차.columns if ':' in col]\n",
    "    fail, total = 0, 0\n",
    "    for idx, row in 승하차.iterrows():\n",
    "        for col in 시간컬럼들:\n",
    "            total += 1\n",
    "            hour = int(col.split(\":\")[0])\n",
    "            평일주말 = 1 if row[\"평일주말\"] == \"주말\" else 0\n",
    "            상행 = 1 if row[\"방향\"] == \"상행\" else 0\n",
    "            승차 = 1 if row[\"구분\"] == \"승차\" else 0\n",
    "            matched = 혼잡도[\n",
    "                (혼잡도[\"역번호\"].astype(str).str.strip() == row[\"역번호\"]) &\n",
    "                (혼잡도[\"평일주말\"].astype(str).str.strip() == row[\"평일주말\"]) &\n",
    "                (혼잡도[\"구분\"].astype(str).str.strip() == row[\"방향\"])\n",
    "            ]\n",
    "            if matched.empty or col not in 혼잡도.columns:\n",
    "                fail += 1\n",
    "                continue\n",
    "            try:\n",
    "                congestion = float(matched.iloc[0][col])\n",
    "                승하차인원 = float(row[col])\n",
    "            except Exception as e:\n",
    "                fail += 1\n",
    "                continue\n",
    "            y = int(congestion * 정원 / 100)\n",
    "            rows.append([\n",
    "                int(row[\"역번호\"]), hour, 평일주말, 상행, 승차, 승하차인원, congestion, y\n",
    "            ])\n",
    "    print(f\"> 학습데이터 생성: {len(rows)}행, 실패 {fail} / 총시도 {total}\")\n",
    "    cols = [\"역번호\", \"hour\", \"평일주말\", \"상행\", \"승차\", \"승하차인원\", \"혼잡도\", \"target\"]\n",
    "    return pd.DataFrame(rows, columns=cols)"
   ]
  },
  {
   "cell_type": "code",
   "execution_count": 12,
   "id": "5b4a3224",
   "metadata": {},
   "outputs": [
    {
     "name": "stdout",
     "output_type": "stream",
     "text": [
      "> 학습데이터 생성: 9203520행, 실패 525920 / 총시도 9729440\n",
      "    역번호  hour  평일주말  상행  승차  승하차인원   혼잡도  target\n",
      "0  2611     5     1   1   1  209.0   3.6      72\n",
      "1  2611     6     1   1   1  281.0   4.7      94\n",
      "2  2611     7     1   1   1  327.0   6.2     124\n",
      "3  2611     8     1   1   1  388.0  11.6     232\n",
      "4  2611     9     1   1   1  503.0  16.2     324\n"
     ]
    }
   ],
   "source": [
    "# 6. 전체 파이프라인 (학습+예측)\n",
    "승하차, 혼잡도 = load_data()\n",
    "승하차_expanded = duplicate_for_directions(승하차)\n",
    "승하차_expanded = standardize_columns(승하차_expanded)\n",
    "혼잡도 = standardize_columns(혼잡도)\n",
    "df = build_dl_dataset(승하차_expanded, 혼잡도)\n",
    "print(df.head())\n",
    "if df.shape[0]==0:\n",
    "    raise ValueError(\"학습데이터 생성 실패! 컬럼 또는 값 일치 여부 확인 필요.\")\n"
   ]
  },
  {
   "cell_type": "code",
   "execution_count": 13,
   "id": "6a4c489a",
   "metadata": {},
   "outputs": [],
   "source": [
    "# 7. 입력/정규화/트레인테스트 분리\n",
    "X = df[[\"역번호\", \"hour\", \"평일주말\", \"상행\", \"승차\", \"승하차인원\", \"혼잡도\"]].values\n",
    "y = df[\"target\"].values\n",
    "scaler = StandardScaler()\n",
    "X_scaled = scaler.fit_transform(X)\n",
    "X_train, X_test, y_train, y_test = train_test_split(\n",
    "    X_scaled, y, test_size=0.2, random_state=42\n",
    ")"
   ]
  },
  {
   "cell_type": "code",
   "execution_count": 14,
   "id": "acc40bdc",
   "metadata": {},
   "outputs": [
    {
     "name": "stdout",
     "output_type": "stream",
     "text": [
      "Epoch 1/40\n"
     ]
    },
    {
     "name": "stderr",
     "output_type": "stream",
     "text": [
      "c:\\Users\\user\\anaconda3\\lib\\site-packages\\keras\\src\\layers\\core\\dense.py:93: UserWarning: Do not pass an `input_shape`/`input_dim` argument to a layer. When using Sequential models, prefer using an `Input(shape)` object as the first layer in the model instead.\n",
      "  super().__init__(activity_regularizer=activity_regularizer, **kwargs)\n"
     ]
    },
    {
     "name": "stdout",
     "output_type": "stream",
     "text": [
      "103540/103540 - 103s - 996us/step - loss: 55997.1367 - mae: 169.9325 - val_loss: 55916.1328 - val_mae: 170.0683\n",
      "Epoch 2/40\n",
      "103540/103540 - 102s - 985us/step - loss: 55661.6641 - mae: 169.4421 - val_loss: 55912.8477 - val_mae: 169.5078\n",
      "Epoch 3/40\n",
      "103540/103540 - 100s - 962us/step - loss: 55660.6602 - mae: 169.4403 - val_loss: 55918.2695 - val_mae: 169.3318\n",
      "Epoch 4/40\n",
      "103540/103540 - 101s - 975us/step - loss: 55660.2812 - mae: 169.4406 - val_loss: 55914.6992 - val_mae: 169.4418\n",
      "Epoch 5/40\n",
      "103540/103540 - 101s - 971us/step - loss: 55660.7539 - mae: 169.4432 - val_loss: 55911.2734 - val_mae: 169.7800\n",
      "Epoch 6/40\n",
      "103540/103540 - 102s - 986us/step - loss: 55660.5508 - mae: 169.4408 - val_loss: 55916.3008 - val_mae: 169.3936\n",
      "Epoch 7/40\n",
      "103540/103540 - 101s - 972us/step - loss: 55661.2188 - mae: 169.4401 - val_loss: 55911.0508 - val_mae: 169.7210\n",
      "Epoch 8/40\n",
      "103540/103540 - 101s - 973us/step - loss: 55660.9570 - mae: 169.4424 - val_loss: 55930.6719 - val_mae: 170.4174\n",
      "Epoch 9/40\n",
      "103540/103540 - 105s - 1ms/step - loss: 55660.3164 - mae: 169.4419 - val_loss: 55981.3125 - val_mae: 171.1135\n",
      "Epoch 10/40\n",
      "103540/103540 - 103s - 996us/step - loss: 55661.2500 - mae: 169.4405 - val_loss: 55914.9102 - val_mae: 170.0235\n",
      "Epoch 11/40\n",
      "103540/103540 - 100s - 970us/step - loss: 55661.0820 - mae: 169.4411 - val_loss: 55915.1758 - val_mae: 170.0296\n",
      "Epoch 12/40\n",
      "103540/103540 - 101s - 980us/step - loss: 55660.5781 - mae: 169.4411 - val_loss: 55913.5117 - val_mae: 169.4908\n",
      "Epoch 13/40\n",
      "103540/103540 - 100s - 966us/step - loss: 55661.2930 - mae: 169.4421 - val_loss: 56017.2266 - val_mae: 168.4476\n",
      "Epoch 14/40\n",
      "103540/103540 - 102s - 987us/step - loss: 55660.6211 - mae: 169.4403 - val_loss: 55943.8867 - val_mae: 168.9562\n",
      "Epoch 15/40\n",
      "103540/103540 - 101s - 975us/step - loss: 55660.5625 - mae: 169.4419 - val_loss: 55923.3594 - val_mae: 170.2678\n",
      "Epoch 16/40\n",
      "103540/103540 - 100s - 967us/step - loss: 55660.4492 - mae: 169.4381 - val_loss: 55924.4570 - val_mae: 170.2935\n",
      "Epoch 17/40\n",
      "103540/103540 - 101s - 979us/step - loss: 55660.5234 - mae: 169.4403 - val_loss: 55931.7031 - val_mae: 170.4381\n",
      "Epoch 18/40\n",
      "103540/103540 - 100s - 967us/step - loss: 55659.8750 - mae: 169.4397 - val_loss: 55911.9883 - val_mae: 169.5711\n",
      "Epoch 19/40\n",
      "103540/103540 - 100s - 968us/step - loss: 55661.2031 - mae: 169.4423 - val_loss: 55989.6289 - val_mae: 168.6028\n",
      "Epoch 20/40\n",
      "103540/103540 - 100s - 965us/step - loss: 55660.3711 - mae: 169.4429 - val_loss: 55933.2617 - val_mae: 169.0759\n",
      "Epoch 21/40\n",
      "103540/103540 - 94s - 910us/step - loss: 55660.7344 - mae: 169.4424 - val_loss: 55914.1211 - val_mae: 169.9862\n",
      "Epoch 22/40\n",
      "103540/103540 - 94s - 906us/step - loss: 55660.8047 - mae: 169.4420 - val_loss: 55912.1719 - val_mae: 169.8605\n",
      "Epoch 23/40\n",
      "103540/103540 - 94s - 904us/step - loss: 55660.3086 - mae: 169.4410 - val_loss: 55923.5898 - val_mae: 169.2254\n",
      "Epoch 24/40\n",
      "103540/103540 - 93s - 898us/step - loss: 55660.6367 - mae: 169.4406 - val_loss: 55940.4570 - val_mae: 168.9907\n",
      "Epoch 25/40\n",
      "103540/103540 - 94s - 905us/step - loss: 55659.6875 - mae: 169.4408 - val_loss: 55952.0703 - val_mae: 168.8730\n",
      "Epoch 26/40\n",
      "103540/103540 - 93s - 902us/step - loss: 55660.1680 - mae: 169.4384 - val_loss: 55914.0156 - val_mae: 169.4684\n",
      "Epoch 27/40\n",
      "103540/103540 - 93s - 901us/step - loss: 55658.7461 - mae: 169.4387 - val_loss: 55912.0078 - val_mae: 169.5786\n",
      "Epoch 28/40\n",
      "103540/103540 - 93s - 898us/step - loss: 55660.3203 - mae: 169.4406 - val_loss: 55947.2109 - val_mae: 168.9237\n",
      "Epoch 29/40\n",
      "103540/103540 - 93s - 899us/step - loss: 55659.3398 - mae: 169.4376 - val_loss: 55925.3945 - val_mae: 169.1913\n",
      "Epoch 30/40\n",
      "103540/103540 - 94s - 908us/step - loss: 55660.1914 - mae: 169.4385 - val_loss: 55916.0820 - val_mae: 169.3983\n",
      "Epoch 31/40\n",
      "103540/103540 - 94s - 912us/step - loss: 55658.9102 - mae: 169.4387 - val_loss: 55917.9688 - val_mae: 169.3414\n",
      "Epoch 32/40\n",
      "103540/103540 - 94s - 911us/step - loss: 55659.3594 - mae: 169.4359 - val_loss: 55946.0352 - val_mae: 168.9349\n",
      "Epoch 33/40\n",
      "103540/103540 - 94s - 905us/step - loss: 55658.9062 - mae: 169.4391 - val_loss: 55911.0703 - val_mae: 169.7471\n",
      "Epoch 34/40\n",
      "103540/103540 - 93s - 896us/step - loss: 55659.6094 - mae: 169.4394 - val_loss: 55911.2812 - val_mae: 169.6385\n",
      "Epoch 35/40\n",
      "103540/103540 - 93s - 896us/step - loss: 55658.7266 - mae: 169.4409 - val_loss: 55911.4883 - val_mae: 169.8223\n",
      "Epoch 36/40\n",
      "103540/103540 - 92s - 893us/step - loss: 55658.9688 - mae: 169.4378 - val_loss: 55917.0703 - val_mae: 169.3687\n",
      "Epoch 37/40\n",
      "103540/103540 - 93s - 899us/step - loss: 55658.1250 - mae: 169.4354 - val_loss: 55911.2344 - val_mae: 169.6277\n",
      "Epoch 38/40\n",
      "103540/103540 - 94s - 906us/step - loss: 55658.4805 - mae: 169.4384 - val_loss: 55914.2305 - val_mae: 169.4605\n",
      "Epoch 39/40\n",
      "103540/103540 - 95s - 916us/step - loss: 55658.5391 - mae: 169.4376 - val_loss: 55922.0312 - val_mae: 169.2570\n",
      "Epoch 40/40\n",
      "103540/103540 - 93s - 900us/step - loss: 55658.4375 - mae: 169.4386 - val_loss: 55914.5781 - val_mae: 169.4523\n"
     ]
    }
   ],
   "source": [
    "# 8. 딥러닝 모델 정의&학습\n",
    "model = keras.Sequential([\n",
    "    layers.Dense(128, activation='relu', input_shape=(X_train.shape[1],)),\n",
    "    layers.Dense(64, activation='relu'),\n",
    "    layers.Dense(32, activation='relu'),\n",
    "    layers.Dense(1)\n",
    "])\n",
    "model.compile(optimizer='adam', loss='mse', metrics=['mae'])\n",
    "history = model.fit(\n",
    "    X_train, y_train,\n",
    "    validation_split=0.1,\n",
    "    epochs=40,\n",
    "    batch_size=64,\n",
    "    verbose=2\n",
    ")\n"
   ]
  },
  {
   "cell_type": "code",
   "execution_count": 15,
   "id": "1644c672",
   "metadata": {},
   "outputs": [
    {
     "name": "stderr",
     "output_type": "stream",
     "text": [
      "WARNING:absl:You are saving your model as an HDF5 file via `model.save()` or `keras.saving.save_model(model)`. This file format is considered legacy. We recommend using instead the native Keras format, e.g. `model.save('my_model.keras')` or `keras.saving.save_model(model, 'my_model.keras')`. \n"
     ]
    },
    {
     "data": {
      "text/plain": [
       "['my_scaler.6line.pkl']"
      ]
     },
     "execution_count": 15,
     "metadata": {},
     "output_type": "execute_result"
    }
   ],
   "source": [
    "# 학습 직후 (fit 다음 셀)\n",
    "model.save(\"my_dl_model.6line.h5\")\n",
    "import joblib\n",
    "joblib.dump(scaler, \"my_scaler.6line.pkl\")\n"
   ]
  },
  {
   "cell_type": "code",
   "execution_count": 16,
   "id": "0d10366a",
   "metadata": {},
   "outputs": [],
   "source": [
    "# 9. 예측 함수\n",
    "def dl_predict(역번호, hour, 평일주말, 상행, 승차, 승하차인원, 혼잡도):\n",
    "    arr = np.array([[역번호, hour, 평일주말, 상행, 승차, 승하차인원, 혼잡도]])\n",
    "    arr_scaled = scaler.transform(arr)\n",
    "    pred = model.predict(arr_scaled)\n",
    "    return int(pred[0][0])\n"
   ]
  },
  {
   "cell_type": "code",
   "execution_count": 17,
   "id": "663345cc",
   "metadata": {},
   "outputs": [],
   "source": [
    "def user_predict_smart():\n",
    "    # 입력\n",
    "    역명 = input(\"역명: \")\n",
    "    호선 = input(\"호선: \")\n",
    "    방향 = input(\"방향 (상행/하행): \").strip()\n",
    "    평일주말_str = input(\"요일 (평일/주말): \").strip()\n",
    "    시간 = input(\"시간 (HH:MM): \").strip()\n",
    "\n",
    "    # 시간 가공\n",
    "    hour = int(시간.split(\":\")[0])\n",
    "    평일주말 = 1 if 평일주말_str == \"주말\" else 0\n",
    "    상행 = 1 if 방향 == \"상행\" else 0\n",
    "\n",
    "    # 역번호 자동 조회\n",
    "    # 최신화 : 승하차/혼잡도 둘 다에 맞추려면 승하차 or 혼잡도 데이터(ex. 승하차_expanded)에서 조회\n",
    "    # 보통 승하차 데이터에 역명, 호선이 있으므로:\n",
    "    df_ref = 승하차_expanded\n",
    "    후보 = df_ref[(df_ref[\"역명\"] == 역명) & (df_ref[\"호선\"].astype(str) == str(호선))]\n",
    "    if 후보.empty:\n",
    "        print(f\"해당 역명/호선이 데이터에 없습니다.\")\n",
    "        return\n",
    "    역번호 = int(후보.iloc[0][\"역번호\"])\n",
    "\n",
    "    # 승하차 값 탐색\n",
    "    row_승 = df_ref[\n",
    "        (df_ref[\"역번호\"] == str(역번호)) &\n",
    "        (df_ref[\"방향\"] == 방향) &\n",
    "        (df_ref[\"평일주말\"] == 평일주말_str) &\n",
    "        (df_ref[\"구분\"] == \"승차\")\n",
    "    ]\n",
    "    row_하 = df_ref[\n",
    "        (df_ref[\"역번호\"] == str(역번호)) &\n",
    "        (df_ref[\"방향\"] == 방향) &\n",
    "        (df_ref[\"평일주말\"] == 평일주말_str) &\n",
    "        (df_ref[\"구분\"] == \"하차\")\n",
    "    ]\n",
    "    시간컬럼 = 시간 if 시간 in df_ref.columns else f\"{hour:02d}:00\"\n",
    "    # 승차/하차 인원 조회(둘 다 있는 경우 합쳐도 되고, 하나만 써도 됨)\n",
    "    if not row_승.empty and 시간컬럼 in row_승.columns:\n",
    "        승차인원 = float(row_승.iloc[0][시간컬럼])\n",
    "    else:\n",
    "        승차인원 = 0\n",
    "    if not row_하.empty and 시간컬럼 in row_하.columns:\n",
    "        하차인원 = float(row_하.iloc[0][시간컬럼])\n",
    "    else:\n",
    "        하차인원 = 0\n",
    "    승하차인원 = 승차인원 + 하차인원 # 혹은 필요에 따라 방법 선택\n",
    "\n",
    "    # 혼잡도 탐색\n",
    "    row_혼 = 혼잡도[\n",
    "        (혼잡도[\"역번호\"] == str(역번호)) &\n",
    "        (혼잡도[\"구분\"] == 방향) &\n",
    "        (혼잡도[\"평일주말\"] == 평일주말_str)\n",
    "    ]\n",
    "    if not row_혼.empty and 시간컬럼 in row_혼.columns:\n",
    "        혼잡도_val = float(row_혼.iloc[0][시간컬럼])\n",
    "    else:\n",
    "        혼잡도_val = 0\n",
    "\n",
    "    # 예측\n",
    "    pred = dl_predict(\n",
    "        역번호=역번호,\n",
    "        hour=hour,\n",
    "        평일주말=평일주말,\n",
    "        상행=상행,\n",
    "        승차=1,  # 승차만 예측할지, 승/하차인원합 예측할지는 논리 선택!\n",
    "        승하차인원=승하차인원,\n",
    "        혼잡도=혼잡도_val\n",
    "    )\n",
    "\n",
    "    # 출력\n",
    "    print(f\"예측: {호선}호선 {역명}({역번호}) {방향} {평일주말_str} {시간}\")\n",
    "    print(f\"  승하차 인원(입력값): {승하차인원}, 혼잡도(%): {혼잡도_val:.1f}\")\n",
    "    print(f\"  딥러닝 기반 예측 열차 내 인원: {pred} 명\")\n"
   ]
  },
  {
   "cell_type": "code",
   "execution_count": 18,
   "id": "6c0195d2",
   "metadata": {},
   "outputs": [
    {
     "name": "stdout",
     "output_type": "stream",
     "text": [
      "해당 역명/호선이 데이터에 없습니다.\n"
     ]
    }
   ],
   "source": [
    "# 실행 예시\n",
    "user_predict_smart()"
   ]
  },
  {
   "cell_type": "code",
   "execution_count": null,
   "id": "29b72909",
   "metadata": {},
   "outputs": [],
   "source": []
  },
  {
   "cell_type": "code",
   "execution_count": null,
   "id": "b1704178",
   "metadata": {},
   "outputs": [],
   "source": []
  }
 ],
 "metadata": {
  "kernelspec": {
   "display_name": "base",
   "language": "python",
   "name": "python3"
  },
  "language_info": {
   "codemirror_mode": {
    "name": "ipython",
    "version": 3
   },
   "file_extension": ".py",
   "mimetype": "text/x-python",
   "name": "python",
   "nbconvert_exporter": "python",
   "pygments_lexer": "ipython3",
   "version": "3.10.18"
  }
 },
 "nbformat": 4,
 "nbformat_minor": 5
}
