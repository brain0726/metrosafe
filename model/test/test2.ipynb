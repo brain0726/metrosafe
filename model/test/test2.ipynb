{
 "cells": [
  {
   "cell_type": "code",
   "execution_count": null,
   "id": "6d375626",
   "metadata": {},
   "outputs": [],
   "source": [
    "!pip install tensorflow"
   ]
  },
  {
   "cell_type": "code",
   "execution_count": 12,
   "id": "3db018f4",
   "metadata": {},
   "outputs": [],
   "source": [
    "# 패키지 설치 (필요한 경우만 실행)\n",
    "# !pip install tensorflow pandas scikit-learn matplotlib\n",
    "\n",
    "# 라이브러리 임포트\n",
    "import pandas as pd\n",
    "import numpy as np\n",
    "from sklearn.preprocessing import MinMaxScaler\n",
    "from tensorflow.keras.models import Sequential\n",
    "from tensorflow.keras.layers import LSTM, Dense\n",
    "import matplotlib.pyplot as plt"
   ]
  },
  {
   "cell_type": "code",
   "execution_count": 22,
   "id": "363423f5",
   "metadata": {},
   "outputs": [],
   "source": [
    "# 파일 경로\n",
    "승하차_파일 = \"../../data/결과/승하차/통합/2호선_승하차인원_통합.csv\"\n",
    "혼잡도_파일 = \"../../data/결과/혼잡도/통합/2호선_혼잡도_통합.csv\"\n",
    "시간표_파일 = \"../../data/결과/운행시간표/통합/2호선_열차운행시각표.csv\"\n",
    "\n",
    "# 데이터 로드\n",
    "승하차_df = pd.read_csv(승하차_파일, encoding=\"euc-kr\")\n",
    "혼잡도_df = pd.read_csv(혼잡도_파일, encoding=\"euc-kr\")\n",
    "시간표_df = pd.read_csv(시간표_파일, encoding=\"euc-kr\")"
   ]
  },
  {
   "cell_type": "code",
   "execution_count": 25,
   "id": "a1bddf62",
   "metadata": {},
   "outputs": [],
   "source": [
    "# --------------------------\n",
    "# 분석 대상 설정\n",
    "# --------------------------\n",
    "target_station_code = 205  # \"을지로입구\" 등 원하는 역번호\n",
    "target_daytype = \"평일\"  # '평일' 또는 '주말'\n",
    "target_direction = \"상행\"  # '상행', '하행'\n",
    "station_codes = sorted(승하차_df[\"역번호\"].unique())"
   ]
  },
  {
   "cell_type": "code",
   "execution_count": 26,
   "id": "4a916db5",
   "metadata": {},
   "outputs": [],
   "source": [
    "# --------------------------\n",
    "# 시간별 분석\n",
    "# --------------------------\n",
    "results = []\n",
    "for tcol in time_cols:\n",
    "    previous_onboard = 0  # 열차가 시작할 때는 0명 탑승\n",
    "    for code in station_codes:\n",
    "        승차값 = 승하차_df[\n",
    "            (승하차_df[\"역번호\"] == code)\n",
    "            & (승하차_df[\"구분\"] == \"승차\")\n",
    "            & (승하차_df[\"평일주말\"] == target_daytype)\n",
    "        ][tcol].sum()\n",
    "        하차값 = 승하차_df[\n",
    "            (승하차_df[\"역번호\"] == code)\n",
    "            & (승하차_df[\"구분\"] == \"하차\")\n",
    "            & (승하차_df[\"평일주말\"] == target_daytype)\n",
    "        ][tcol].sum()\n",
    "        혼잡도값 = 혼잡도_df[\n",
    "            (혼잡도_df[\"역번호\"] == code)\n",
    "            & (혼잡도_df[\"평일주말\"] == target_daytype)\n",
    "            & (혼잡도_df[\"구분\"] == target_direction)\n",
    "        ][tcol].sum()\n",
    "\n",
    "        curr_onboard = max(0, previous_onboard + 승차값 - 하차값)\n",
    "\n",
    "        # 혼잡도 보정\n",
    "        if not pd.isna(혼잡도값) and 혼잡도값 > 0:\n",
    "            if 혼잡도값 >= 150:\n",
    "                curr_onboard = int(curr_onboard * 1.10)\n",
    "            elif 혼잡도값 >= 130:\n",
    "                curr_onboard = int(curr_onboard * 1.05)\n",
    "\n",
    "        results.append(\n",
    "            {\n",
    "                \"시간\": tcol,\n",
    "                \"역번호\": code,\n",
    "                \"승차인원\": int(승차값),\n",
    "                \"하차인원\": int(하차값),\n",
    "                \"혼잡도\": float(혼잡도값) if not pd.isna(혼잡도값) else np.nan,\n",
    "                \"열차내인원_예측\": curr_onboard,\n",
    "            }\n",
    "        )\n",
    "\n",
    "        previous_onboard = curr_onboard  # 다음 역은 현재 인원부터 시작"
   ]
  },
  {
   "cell_type": "code",
   "execution_count": 27,
   "id": "7dd6a228",
   "metadata": {},
   "outputs": [
    {
     "name": "stdout",
     "output_type": "stream",
     "text": [
      "        시간  역번호     승차인원     하차인원    혼잡도    열차내인원_예측\n",
      "4     5:00  205   751895    95665   71.4    656230.0\n",
      "54    6:00  205   488119   785624  184.7         0.0\n",
      "104   7:00  205   732731  2383609  300.3         0.0\n",
      "154   8:00  205  1140744  5683933  463.6         0.0\n",
      "204   9:00  205  1165649  3294919  299.9         0.0\n",
      "254  10:00  205  1160561  2588091  232.2         0.0\n",
      "304  11:00  205  1400348  2357403  273.8         0.0\n",
      "354  12:00  205  1637655  2205407  302.7         0.0\n",
      "404  13:00  205  1794735  2345133  328.5         0.0\n",
      "454  14:00  205  2069902  2285237  317.3   2896523.0\n",
      "504  15:00  205  2566985  2124677  352.0   7516688.0\n",
      "554  16:00  205  3165068  2025896  401.2  11785731.0\n",
      "604  17:00  205  3771636  2300340  526.2  30305380.0\n",
      "654  18:00  205  4765730  2853472  571.6  75359139.0\n",
      "704  19:00  205  3090524  3257725  274.8  31356244.0\n",
      "754  20:00  205  2250025  2115210  199.0  24582697.0\n",
      "804  21:00  205  2230697  1619557  288.4  22558758.0\n",
      "854  22:00  205  1910274  1316060  292.6  15459173.0\n",
      "904  23:00  205  1203849   894150  211.5   6152337.0\n",
      "954   0:00  205   272174   354584   62.7    245979.0\n"
     ]
    }
   ],
   "source": [
    "# --------------------------\n",
    "# 최종 결과 확인\n",
    "# --------------------------\n",
    "df_result = pd.DataFrame(results)\n",
    "\n",
    "# 만약 특정 역번호만 출력하고 싶다면\n",
    "df_filtered = df_result[df_result[\"역번호\"] == target_station_code]\n",
    "print(df_filtered)"
   ]
  },
  {
   "cell_type": "code",
   "execution_count": 28,
   "id": "1de17816",
   "metadata": {},
   "outputs": [
    {
     "name": "stdout",
     "output_type": "stream",
     "text": [
      "       시간  승차인원  하차인원  혼잡도  열차내인원_예측\n",
      "0    0:00     0     0  NaN         0\n",
      "1    5:00     0     0  NaN         0\n",
      "2    6:00     0     0  NaN         0\n",
      "3    7:00     0     0  NaN         0\n",
      "4    8:00     0     0  NaN         0\n",
      "5    9:00     0     0  NaN         0\n",
      "6   10:00     0     0  NaN         0\n",
      "7   11:00     0     0  NaN         0\n",
      "8   12:00     0     0  NaN         0\n",
      "9   13:00     0     0  NaN         0\n",
      "10  14:00     0     0  NaN         0\n",
      "11  15:00     0     0  NaN         0\n",
      "12  16:00     0     0  NaN         0\n",
      "13  17:00     0     0  NaN         0\n",
      "14  18:00     0     0  NaN         0\n",
      "15  19:00     0     0  NaN         0\n",
      "16  20:00     0     0  NaN         0\n",
      "17  21:00     0     0  NaN         0\n",
      "18  22:00     0     0  NaN         0\n",
      "19  23:00     0     0  NaN         0\n"
     ]
    },
    {
     "name": "stderr",
     "output_type": "stream",
     "text": [
      "C:\\Users\\Public\\Documents\\ESTsoft\\CreatorTemp\\ipykernel_10660\\521504567.py:17: UserWarning: Glyph 49884 (\\N{HANGUL SYLLABLE SI}) missing from font(s) DejaVu Sans.\n",
      "  plt.tight_layout()\n",
      "C:\\Users\\Public\\Documents\\ESTsoft\\CreatorTemp\\ipykernel_10660\\521504567.py:17: UserWarning: Glyph 44036 (\\N{HANGUL SYLLABLE GAN}) missing from font(s) DejaVu Sans.\n",
      "  plt.tight_layout()\n",
      "C:\\Users\\Public\\Documents\\ESTsoft\\CreatorTemp\\ipykernel_10660\\521504567.py:17: UserWarning: Glyph 51064 (\\N{HANGUL SYLLABLE IN}) missing from font(s) DejaVu Sans.\n",
      "  plt.tight_layout()\n",
      "C:\\Users\\Public\\Documents\\ESTsoft\\CreatorTemp\\ipykernel_10660\\521504567.py:17: UserWarning: Glyph 50896 (\\N{HANGUL SYLLABLE WEON}) missing from font(s) DejaVu Sans.\n",
      "  plt.tight_layout()\n",
      "C:\\Users\\Public\\Documents\\ESTsoft\\CreatorTemp\\ipykernel_10660\\521504567.py:17: UserWarning: Glyph 49688 (\\N{HANGUL SYLLABLE SU}) missing from font(s) DejaVu Sans.\n",
      "  plt.tight_layout()\n",
      "C:\\Users\\Public\\Documents\\ESTsoft\\CreatorTemp\\ipykernel_10660\\521504567.py:17: UserWarning: Glyph 50669 (\\N{HANGUL SYLLABLE YEOG}) missing from font(s) DejaVu Sans.\n",
      "  plt.tight_layout()\n",
      "C:\\Users\\Public\\Documents\\ESTsoft\\CreatorTemp\\ipykernel_10660\\521504567.py:17: UserWarning: Glyph 54217 (\\N{HANGUL SYLLABLE PYEONG}) missing from font(s) DejaVu Sans.\n",
      "  plt.tight_layout()\n",
      "C:\\Users\\Public\\Documents\\ESTsoft\\CreatorTemp\\ipykernel_10660\\521504567.py:17: UserWarning: Glyph 51068 (\\N{HANGUL SYLLABLE IL}) missing from font(s) DejaVu Sans.\n",
      "  plt.tight_layout()\n",
      "C:\\Users\\Public\\Documents\\ESTsoft\\CreatorTemp\\ipykernel_10660\\521504567.py:17: UserWarning: Glyph 49345 (\\N{HANGUL SYLLABLE SANG}) missing from font(s) DejaVu Sans.\n",
      "  plt.tight_layout()\n",
      "C:\\Users\\Public\\Documents\\ESTsoft\\CreatorTemp\\ipykernel_10660\\521504567.py:17: UserWarning: Glyph 54665 (\\N{HANGUL SYLLABLE HAENG}) missing from font(s) DejaVu Sans.\n",
      "  plt.tight_layout()\n",
      "C:\\Users\\Public\\Documents\\ESTsoft\\CreatorTemp\\ipykernel_10660\\521504567.py:17: UserWarning: Glyph 50676 (\\N{HANGUL SYLLABLE YEOL}) missing from font(s) DejaVu Sans.\n",
      "  plt.tight_layout()\n",
      "C:\\Users\\Public\\Documents\\ESTsoft\\CreatorTemp\\ipykernel_10660\\521504567.py:17: UserWarning: Glyph 52264 (\\N{HANGUL SYLLABLE CA}) missing from font(s) DejaVu Sans.\n",
      "  plt.tight_layout()\n",
      "C:\\Users\\Public\\Documents\\ESTsoft\\CreatorTemp\\ipykernel_10660\\521504567.py:17: UserWarning: Glyph 45236 (\\N{HANGUL SYLLABLE NAE}) missing from font(s) DejaVu Sans.\n",
      "  plt.tight_layout()\n",
      "C:\\Users\\Public\\Documents\\ESTsoft\\CreatorTemp\\ipykernel_10660\\521504567.py:17: UserWarning: Glyph 50696 (\\N{HANGUL SYLLABLE YE}) missing from font(s) DejaVu Sans.\n",
      "  plt.tight_layout()\n",
      "C:\\Users\\Public\\Documents\\ESTsoft\\CreatorTemp\\ipykernel_10660\\521504567.py:17: UserWarning: Glyph 52769 (\\N{HANGUL SYLLABLE CEUG}) missing from font(s) DejaVu Sans.\n",
      "  plt.tight_layout()\n",
      "C:\\Users\\user\\AppData\\Roaming\\Python\\Python310\\site-packages\\IPython\\core\\pylabtools.py:170: UserWarning: Glyph 51064 (\\N{HANGUL SYLLABLE IN}) missing from font(s) DejaVu Sans.\n",
      "  fig.canvas.print_figure(bytes_io, **kw)\n",
      "C:\\Users\\user\\AppData\\Roaming\\Python\\Python310\\site-packages\\IPython\\core\\pylabtools.py:170: UserWarning: Glyph 50896 (\\N{HANGUL SYLLABLE WEON}) missing from font(s) DejaVu Sans.\n",
      "  fig.canvas.print_figure(bytes_io, **kw)\n",
      "C:\\Users\\user\\AppData\\Roaming\\Python\\Python310\\site-packages\\IPython\\core\\pylabtools.py:170: UserWarning: Glyph 49688 (\\N{HANGUL SYLLABLE SU}) missing from font(s) DejaVu Sans.\n",
      "  fig.canvas.print_figure(bytes_io, **kw)\n",
      "C:\\Users\\user\\AppData\\Roaming\\Python\\Python310\\site-packages\\IPython\\core\\pylabtools.py:170: UserWarning: Glyph 50669 (\\N{HANGUL SYLLABLE YEOG}) missing from font(s) DejaVu Sans.\n",
      "  fig.canvas.print_figure(bytes_io, **kw)\n",
      "C:\\Users\\user\\AppData\\Roaming\\Python\\Python310\\site-packages\\IPython\\core\\pylabtools.py:170: UserWarning: Glyph 54217 (\\N{HANGUL SYLLABLE PYEONG}) missing from font(s) DejaVu Sans.\n",
      "  fig.canvas.print_figure(bytes_io, **kw)\n",
      "C:\\Users\\user\\AppData\\Roaming\\Python\\Python310\\site-packages\\IPython\\core\\pylabtools.py:170: UserWarning: Glyph 51068 (\\N{HANGUL SYLLABLE IL}) missing from font(s) DejaVu Sans.\n",
      "  fig.canvas.print_figure(bytes_io, **kw)\n",
      "C:\\Users\\user\\AppData\\Roaming\\Python\\Python310\\site-packages\\IPython\\core\\pylabtools.py:170: UserWarning: Glyph 49345 (\\N{HANGUL SYLLABLE SANG}) missing from font(s) DejaVu Sans.\n",
      "  fig.canvas.print_figure(bytes_io, **kw)\n",
      "C:\\Users\\user\\AppData\\Roaming\\Python\\Python310\\site-packages\\IPython\\core\\pylabtools.py:170: UserWarning: Glyph 54665 (\\N{HANGUL SYLLABLE HAENG}) missing from font(s) DejaVu Sans.\n",
      "  fig.canvas.print_figure(bytes_io, **kw)\n",
      "C:\\Users\\user\\AppData\\Roaming\\Python\\Python310\\site-packages\\IPython\\core\\pylabtools.py:170: UserWarning: Glyph 50676 (\\N{HANGUL SYLLABLE YEOL}) missing from font(s) DejaVu Sans.\n",
      "  fig.canvas.print_figure(bytes_io, **kw)\n",
      "C:\\Users\\user\\AppData\\Roaming\\Python\\Python310\\site-packages\\IPython\\core\\pylabtools.py:170: UserWarning: Glyph 52264 (\\N{HANGUL SYLLABLE CA}) missing from font(s) DejaVu Sans.\n",
      "  fig.canvas.print_figure(bytes_io, **kw)\n",
      "C:\\Users\\user\\AppData\\Roaming\\Python\\Python310\\site-packages\\IPython\\core\\pylabtools.py:170: UserWarning: Glyph 45236 (\\N{HANGUL SYLLABLE NAE}) missing from font(s) DejaVu Sans.\n",
      "  fig.canvas.print_figure(bytes_io, **kw)\n",
      "C:\\Users\\user\\AppData\\Roaming\\Python\\Python310\\site-packages\\IPython\\core\\pylabtools.py:170: UserWarning: Glyph 50696 (\\N{HANGUL SYLLABLE YE}) missing from font(s) DejaVu Sans.\n",
      "  fig.canvas.print_figure(bytes_io, **kw)\n",
      "C:\\Users\\user\\AppData\\Roaming\\Python\\Python310\\site-packages\\IPython\\core\\pylabtools.py:170: UserWarning: Glyph 49884 (\\N{HANGUL SYLLABLE SI}) missing from font(s) DejaVu Sans.\n",
      "  fig.canvas.print_figure(bytes_io, **kw)\n",
      "C:\\Users\\user\\AppData\\Roaming\\Python\\Python310\\site-packages\\IPython\\core\\pylabtools.py:170: UserWarning: Glyph 44036 (\\N{HANGUL SYLLABLE GAN}) missing from font(s) DejaVu Sans.\n",
      "  fig.canvas.print_figure(bytes_io, **kw)\n",
      "C:\\Users\\user\\AppData\\Roaming\\Python\\Python310\\site-packages\\IPython\\core\\pylabtools.py:170: UserWarning: Glyph 52769 (\\N{HANGUL SYLLABLE CEUG}) missing from font(s) DejaVu Sans.\n",
      "  fig.canvas.print_figure(bytes_io, **kw)\n"
     ]
    },
    {
     "data": {
      "image/png": "[encoded data removed]",
      "text/plain": [
       "<Figure size 1400x600 with 1 Axes>"
      ]
     },
     "metadata": {},
     "output_type": "display_data"
    }
   ],
   "source": [
    "# 최종 결과 출력\n",
    "print(final_df[[\"시간\", \"승차인원\", \"하차인원\", \"혼잡도\", \"열차내인원_예측\"]])\n",
    "\n",
    "# 시각화\n",
    "plt.figure(figsize=(14, 6))\n",
    "plt.plot(\n",
    "    final_df[\"시간\"], final_df[\"열차내인원_예측\"], marker=\"o\", label=\"열차 내 인원 예측\"\n",
    ")\n",
    "plt.xticks(rotation=45)\n",
    "plt.xlabel(\"시간\")\n",
    "plt.ylabel(\"인원 수\")\n",
    "plt.title(\n",
    "    f\"{target_station}역 ({target_daytype}, {target_direction}) 열차 내 예상 인원\"\n",
    ")\n",
    "plt.grid(True)\n",
    "plt.legend()\n",
    "plt.tight_layout()\n",
    "plt.show()"
   ]
  },
  {
   "cell_type": "code",
   "execution_count": null,
   "id": "af9b4dae",
   "metadata": {},
   "outputs": [],
   "source": [
    "# 계산 적용\n",
    "final_df = estimate_train_load(final_df)\n",
    "\n",
    "# --------------------------\n",
    "# 5. 출력 확인\n",
    "# --------------------------\n",
    "print(final_df[[\"시간\", \"승차인원\", \"하차인원\", \"혼잡도\", \"열차내인원_예측\"]])"
   ]
  }
 ],
 "metadata": {
  "kernelspec": {
   "display_name": "dl_env",
   "language": "python",
   "name": "python3"
  },
  "language_info": {
   "codemirror_mode": {
    "name": "ipython",
    "version": 3
   },
   "file_extension": ".py",
   "mimetype": "text/x-python",
   "name": "python",
   "nbconvert_exporter": "python",
   "pygments_lexer": "ipython3",
   "version": "3.10.18"
  }
 },
 "nbformat": 4,
 "nbformat_minor": 5
}
