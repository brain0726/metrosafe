{
 "cells": [
  {
   "cell_type": "code",
   "execution_count": 10,
   "id": "2023b9c5",
   "metadata": {},
   "outputs": [],
   "source": [
    "import pandas as pd\n",
    "import numpy as np\n",
    "from sklearn.model_selection import train_test_split\n",
    "from sklearn.preprocessing import StandardScaler\n",
    "from tensorflow.keras.models import Sequential\n",
    "from tensorflow.keras.layers import Dense\n",
    "import joblib\n",
    "# 파일 경로\n",
    "승하차_파일 = \"../../data/결과/승하차/통합/1호선_승하차인원_통합.csv\"\n",
    "혼잡도_파일 = \"../../data/결과/혼잡도/통합/1호선_혼잡도_통합.csv\""
   ]
  },
  {
   "cell_type": "code",
   "execution_count": 11,
   "id": "29b72909",
   "metadata": {},
   "outputs": [],
   "source": [
    "# 정원\n",
    "정원 = 2000\n",
    "\n",
    "# 데이터 불러오기\n",
    "df_flow_raw = pd.read_csv(승하차_파일, encoding=\"euc-kr\")\n",
    "df_crowd_raw = pd.read_csv(혼잡도_파일, encoding=\"euc-kr\")"
   ]
  },
  {
   "cell_type": "code",
   "execution_count": 12,
   "id": "876b20dc",
   "metadata": {},
   "outputs": [],
   "source": [
    "# 시계열 시간 컬럼들 (5:00 ~ 0:00)\n",
    "time_cols = [\n",
    "    \"5:00\",\n",
    "    \"6:00\",\n",
    "    \"7:00\",\n",
    "    \"8:00\",\n",
    "    \"9:00\",\n",
    "    \"10:00\",\n",
    "    \"11:00\",\n",
    "    \"12:00\",\n",
    "    \"13:00\",\n",
    "    \"14:00\",\n",
    "    \"15:00\",\n",
    "    \"16:00\",\n",
    "    \"17:00\",\n",
    "    \"18:00\",\n",
    "    \"19:00\",\n",
    "    \"20:00\",\n",
    "    \"21:00\",\n",
    "    \"22:00\",\n",
    "    \"23:00\",\n",
    "    \"0:00\",\n",
    "]\n",
    "\n",
    "# melt\n",
    "df_flow = df_flow_raw.melt(\n",
    "    id_vars=[\"역번호\", \"평일주말\", \"구분\", \"호선\", \"역명\"],\n",
    "    value_vars=time_cols,\n",
    "    var_name=\"시간\",\n",
    "    value_name=\"승하차인원\",\n",
    ")\n",
    "\n",
    "df_crowd = df_crowd_raw.melt(\n",
    "    id_vars=[\"역번호\", \"평일주말\", \"구분\", \"호선\", \"역명\"],\n",
    "    value_vars=time_cols,\n",
    "    var_name=\"시간\",\n",
    "    value_name=\"혼잡도\",\n",
    ")"
   ]
  },
  {
   "cell_type": "code",
   "execution_count": 13,
   "id": "b1704178",
   "metadata": {},
   "outputs": [],
   "source": [
    "# 공통으로 병합하기 위한 구분 값 정리\n",
    "# 구분: \"승차\" → 1, \"하차\" → 0\n",
    "df_flow[\"승차\"] = df_flow[\"구분\"].map({\"승차\": 1, \"하차\": 0})\n",
    "df_crowd[\"승차\"] = df_crowd[\"구분\"].map({\"승차\": 1, \"하차\": 0})\n",
    "\n",
    "# 시간: \"5:00\" → 5 (정수형)\n",
    "df_flow[\"hour\"] = df_flow[\"시간\"].str.replace(\":00\", \"\").astype(int)\n",
    "df_crowd[\"hour\"] = df_crowd[\"시간\"].str.replace(\":00\", \"\").astype(int)\n",
    "\n",
    "# 상행/하행 정보가 없다면 일단 고정값 (ex: 상행=1)\n",
    "df_flow[\"상행\"] = 1\n",
    "df_crowd[\"상행\"] = 1"
   ]
  },
  {
   "cell_type": "code",
   "execution_count": 15,
   "id": "c24b1b9b",
   "metadata": {},
   "outputs": [
    {
     "name": "stdout",
     "output_type": "stream",
     "text": [
      "역번호      int64\n",
      "평일주말    object\n",
      "승차       int64\n",
      "hour     int64\n",
      "상행       int64\n",
      "dtype: object\n",
      "역번호       int64\n",
      "평일주말     object\n",
      "승차      float64\n",
      "hour      int64\n",
      "상행        int64\n",
      "dtype: object\n"
     ]
    }
   ],
   "source": [
    "# 타입 체크\n",
    "print(df_flow[merge_keys].dtypes)\n",
    "print(df_crowd[merge_keys].dtypes)"
   ]
  },
  {
   "cell_type": "code",
   "execution_count": 14,
   "id": "e2fdc38d",
   "metadata": {},
   "outputs": [
    {
     "name": "stdout",
     "output_type": "stream",
     "text": [
      "✅ 최종 데이터 크기: (0, 7)\n"
     ]
    },
    {
     "ename": "ValueError",
     "evalue": "a must be greater than 0 unless no samples are taken",
     "output_type": "error",
     "traceback": [
      "\u001b[1;31m---------------------------------------------------------------------------\u001b[0m",
      "\u001b[1;31mValueError\u001b[0m                                Traceback (most recent call last)",
      "Cell \u001b[1;32mIn[14], line 14\u001b[0m\n\u001b[0;32m     12\u001b[0m \u001b[38;5;66;03m# 확인\u001b[39;00m\n\u001b[0;32m     13\u001b[0m \u001b[38;5;28mprint\u001b[39m(\u001b[38;5;124m\"\u001b[39m\u001b[38;5;124m✅ 최종 데이터 크기:\u001b[39m\u001b[38;5;124m\"\u001b[39m, df\u001b[38;5;241m.\u001b[39mshape)\n\u001b[1;32m---> 14\u001b[0m \u001b[43mdf\u001b[49m\u001b[38;5;241;43m.\u001b[39;49m\u001b[43msample\u001b[49m\u001b[43m(\u001b[49m\u001b[38;5;241;43m3\u001b[39;49m\u001b[43m)\u001b[49m\n",
      "File \u001b[1;32mc:\\Users\\user\\anaconda3\\envs\\dl_env\\lib\\site-packages\\pandas\\core\\generic.py:6137\u001b[0m, in \u001b[0;36mNDFrame.sample\u001b[1;34m(self, n, frac, replace, weights, random_state, axis, ignore_index)\u001b[0m\n\u001b[0;32m   6134\u001b[0m \u001b[38;5;28;01mif\u001b[39;00m weights \u001b[38;5;129;01mis\u001b[39;00m \u001b[38;5;129;01mnot\u001b[39;00m \u001b[38;5;28;01mNone\u001b[39;00m:\n\u001b[0;32m   6135\u001b[0m     weights \u001b[38;5;241m=\u001b[39m sample\u001b[38;5;241m.\u001b[39mpreprocess_weights(\u001b[38;5;28mself\u001b[39m, weights, axis)\n\u001b[1;32m-> 6137\u001b[0m sampled_indices \u001b[38;5;241m=\u001b[39m \u001b[43msample\u001b[49m\u001b[38;5;241;43m.\u001b[39;49m\u001b[43msample\u001b[49m\u001b[43m(\u001b[49m\u001b[43mobj_len\u001b[49m\u001b[43m,\u001b[49m\u001b[43m \u001b[49m\u001b[43msize\u001b[49m\u001b[43m,\u001b[49m\u001b[43m \u001b[49m\u001b[43mreplace\u001b[49m\u001b[43m,\u001b[49m\u001b[43m \u001b[49m\u001b[43mweights\u001b[49m\u001b[43m,\u001b[49m\u001b[43m \u001b[49m\u001b[43mrs\u001b[49m\u001b[43m)\u001b[49m\n\u001b[0;32m   6138\u001b[0m result \u001b[38;5;241m=\u001b[39m \u001b[38;5;28mself\u001b[39m\u001b[38;5;241m.\u001b[39mtake(sampled_indices, axis\u001b[38;5;241m=\u001b[39maxis)\n\u001b[0;32m   6140\u001b[0m \u001b[38;5;28;01mif\u001b[39;00m ignore_index:\n",
      "File \u001b[1;32mc:\\Users\\user\\anaconda3\\envs\\dl_env\\lib\\site-packages\\pandas\\core\\sample.py:152\u001b[0m, in \u001b[0;36msample\u001b[1;34m(obj_len, size, replace, weights, random_state)\u001b[0m\n\u001b[0;32m    149\u001b[0m     \u001b[38;5;28;01melse\u001b[39;00m:\n\u001b[0;32m    150\u001b[0m         \u001b[38;5;28;01mraise\u001b[39;00m \u001b[38;5;167;01mValueError\u001b[39;00m(\u001b[38;5;124m\"\u001b[39m\u001b[38;5;124mInvalid weights: weights sum to zero\u001b[39m\u001b[38;5;124m\"\u001b[39m)\n\u001b[1;32m--> 152\u001b[0m \u001b[38;5;28;01mreturn\u001b[39;00m \u001b[43mrandom_state\u001b[49m\u001b[38;5;241;43m.\u001b[39;49m\u001b[43mchoice\u001b[49m\u001b[43m(\u001b[49m\u001b[43mobj_len\u001b[49m\u001b[43m,\u001b[49m\u001b[43m \u001b[49m\u001b[43msize\u001b[49m\u001b[38;5;241;43m=\u001b[39;49m\u001b[43msize\u001b[49m\u001b[43m,\u001b[49m\u001b[43m \u001b[49m\u001b[43mreplace\u001b[49m\u001b[38;5;241;43m=\u001b[39;49m\u001b[43mreplace\u001b[49m\u001b[43m,\u001b[49m\u001b[43m \u001b[49m\u001b[43mp\u001b[49m\u001b[38;5;241;43m=\u001b[39;49m\u001b[43mweights\u001b[49m\u001b[43m)\u001b[49m\u001b[38;5;241m.\u001b[39mastype(\n\u001b[0;32m    153\u001b[0m     np\u001b[38;5;241m.\u001b[39mintp, copy\u001b[38;5;241m=\u001b[39m\u001b[38;5;28;01mFalse\u001b[39;00m\n\u001b[0;32m    154\u001b[0m )\n",
      "File \u001b[1;32mnumpy\\\\random\\\\mtrand.pyx:968\u001b[0m, in \u001b[0;36mnumpy.random.mtrand.RandomState.choice\u001b[1;34m()\u001b[0m\n",
      "\u001b[1;31mValueError\u001b[0m: a must be greater than 0 unless no samples are taken"
     ]
    }
   ],
   "source": [
    "# 병합 키 지정\n",
    "merge_keys = [\"역번호\", \"평일주말\", \"승차\", \"hour\", \"상행\"]\n",
    "\n",
    "# inner 병합\n",
    "df = pd.merge(\n",
    "    df_flow[merge_keys + [\"승하차인원\"]],\n",
    "    df_crowd[merge_keys + [\"혼잡도\"]],\n",
    "    on=merge_keys,\n",
    "    how=\"inner\",\n",
    ")\n",
    "\n",
    "# 확인\n",
    "print(\"✅ 최종 데이터 크기:\", df.shape)\n",
    "df.sample(3)"
   ]
  },
  {
   "cell_type": "code",
   "execution_count": null,
   "id": "45ea49e4",
   "metadata": {},
   "outputs": [],
   "source": [
    "# 결측, 음수 제거\n",
    "df = df.dropna()\n",
    "df = df[df[\"승하차인원\"] >= 0]\n",
    "df = df[df[\"혼잡도\"] >= 0]\n",
    "df = df[df[\"혼잡도\"] <= 200]"
   ]
  },
  {
   "cell_type": "code",
   "execution_count": null,
   "id": "aa88cf09",
   "metadata": {},
   "outputs": [],
   "source": [
    "X = df[[\"역번호\", \"hour\", \"평일주말\", \"상행\", \"승차\"]].values\n",
    "y = df[[\"승하차인원\", \"혼잡도\"]].values"
   ]
  },
  {
   "cell_type": "code",
   "execution_count": null,
   "id": "d0ede7e0",
   "metadata": {},
   "outputs": [],
   "source": [
    "from sklearn.model_selection import train_test_split\n",
    "from sklearn.preprocessing import StandardScaler\n",
    "\n",
    "X_train, X_test, y_train, y_test = train_test_split(\n",
    "    X, y, test_size=0.2, random_state=42\n",
    ")\n",
    "\n",
    "scaler = StandardScaler()\n",
    "X_train_scaled = scaler.fit_transform(X_train)\n",
    "X_test_scaled = scaler.transform(X_test)"
   ]
  },
  {
   "cell_type": "code",
   "execution_count": null,
   "id": "9e058d45",
   "metadata": {},
   "outputs": [],
   "source": [
    "from tensorflow.keras.models import Sequential\n",
    "from tensorflow.keras.layers import Dense\n",
    "import joblib\n",
    "\n",
    "model = Sequential(\n",
    "    [\n",
    "        Dense(64, input_dim=X_train.shape[1], activation=\"relu\"),\n",
    "        Dense(32, activation=\"relu\"),\n",
    "        Dense(2),  # 승하차 인원, 혼잡도 예측\n",
    "    ]\n",
    ")\n",
    "\n",
    "model.compile(optimizer=\"adam\", loss=\"mse\")\n",
    "model.fit(X_train_scaled, y_train, epochs=30, batch_size=32, validation_split=0.2)"
   ]
  },
  {
   "cell_type": "code",
   "execution_count": null,
   "id": "ec7b46ce",
   "metadata": {},
   "outputs": [],
   "source": [
    "model.save(\"./congestion_boarding_model.keras\")\n",
    "joblib.dump(scaler, \"./congestion_boarding_scaler.pkl\")"
   ]
  }
 ],
 "metadata": {
  "kernelspec": {
   "display_name": "dl_env",
   "language": "python",
   "name": "python3"
  },
  "language_info": {
   "codemirror_mode": {
    "name": "ipython",
    "version": 3
   },
   "file_extension": ".py",
   "mimetype": "text/x-python",
   "name": "python",
   "nbconvert_exporter": "python",
   "pygments_lexer": "ipython3",
   "version": "3.10.18"
  }
 },
 "nbformat": 4,
 "nbformat_minor": 5
}
