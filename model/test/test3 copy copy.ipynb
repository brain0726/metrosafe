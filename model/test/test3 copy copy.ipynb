{
 "cells": [
  {
   "cell_type": "code",
   "execution_count": 11,
   "id": "ef8641a7",
   "metadata": {},
   "outputs": [],
   "source": [
    "# 패키지 설치 (필요한 경우만 실행)\n",
    "# !pip install tensorflow pandas scikit-learn matplotlib\n",
    "\n",
    "# 라이브러리 임포트\n",
    "import pandas as pd\n",
    "import numpy as np\n",
    "from sklearn.preprocessing import MinMaxScaler\n",
    "from tensorflow.keras.models import Sequential\n",
    "from tensorflow.keras.layers import LSTM, Dense\n",
    "import matplotlib.pyplot as plt\n",
    "from datetime import datetime, timedelta"
   ]
  },
  {
   "cell_type": "code",
   "execution_count": 12,
   "id": "027b1556",
   "metadata": {},
   "outputs": [],
   "source": [
    "file_number=\"3\"\n",
    "def load_data():\n",
    "    승하차_파일 = \"../../data/결과/승하차/통합/\"+file_number+\"호선_승하차인원_통합.csv\"\n",
    "    혼잡도_파일 = \"../../data/결과/혼잡도/통합/\"+file_number+\"호선_혼잡도_통합.csv\"\n",
    "    시간표_파일 = \"../../data/결과/운행시간표/통합/\"+file_number+\"호선_열차운행시각표.csv\"\n",
    "\n",
    "    승하차_df = pd.read_csv(승하차_파일, encoding=\"euc-kr\")\n",
    "    혼잡도_df = pd.read_csv(혼잡도_파일, encoding=\"euc-kr\")\n",
    "    시간표_df = pd.read_csv(시간표_파일, encoding=\"euc-kr\")\n",
    "\n",
    "    return 승하차_df, 혼잡도_df, 시간표_df"
   ]
  },
  {
   "cell_type": "code",
   "execution_count": 13,
   "id": "29268b90",
   "metadata": {},
   "outputs": [],
   "source": [
    "def get_user_input():\n",
    "    역명 = input(\"역명을 입력하세요 (예: 강남역): \")\n",
    "    방향 = input(\"방향을 입력하세요 (상행/하행): \")\n",
    "    평일주말 = input(\"요일을 입력하세요 (평일/주말): \")\n",
    "    시간 = input(\"시간을 입력하세요 (형식 HH:MM): \")\n",
    "    return 역명.strip(), 방향.strip(), 평일주말.strip(), 시간.strip()\n",
    "\n",
    "\n",
    "def convert_time_to_column(time_str):\n",
    "    return f\"{int(time_str.split(':')[0])}:00\"\n",
    "\n",
    "\n",
    "def get_station_number(df, 역명):\n",
    "    row = df[df[\"역명\"] == 역명].iloc[0]\n",
    "    return row[\"역번호\"]"
   ]
  },
  {
   "cell_type": "code",
   "execution_count": 14,
   "id": "549b6ac4",
   "metadata": {},
   "outputs": [],
   "source": [
    "def get_train_count_in_hour(시간표, 평일주말, 방향, hour_str):\n",
    "    try:\n",
    "        hour = int(hour_str.split(\":\")[0])\n",
    "        시간표_필터 = 시간표[\n",
    "            (시간표[\"평일주말\"] == 평일주말) & (시간표[\"구분\"] == 방향)\n",
    "        ].copy()\n",
    "\n",
    "        시간표_필터[\"열차도착시간_dt\"] = pd.to_datetime(\n",
    "            시간표_필터[\"열차도착시간\"], format=\"%H:%M:%S\", errors=\"coerce\"\n",
    "        )\n",
    "\n",
    "        # 열차코드 + 역번호 기준 중복 제거 (1일 기준)\n",
    "        하루치 = 시간표_필터.drop_duplicates(subset=[\"열차코드\", \"역번호\"])\n",
    "        해당시간_열차 = 하루치[하루치[\"열차도착시간_dt\"].dt.hour == hour]\n",
    "        열차수 = 해당시간_열차[\"열차코드\"].nunique()\n",
    "\n",
    "        return 열차수 if 열차수 > 0 else 1\n",
    "    except:\n",
    "        return 1"
   ]
  },
  {
   "cell_type": "code",
   "execution_count": 15,
   "id": "c5df5a9f",
   "metadata": {},
   "outputs": [],
   "source": [
    "def estimate_train_occupancy(\n",
    "    역번호, 방향, 평일주말, 시간대, 승하차, 혼잡도, 시간표, 열차_정원=2000\n",
    "):\n",
    "    시간컬럼 = convert_time_to_column(시간대)\n",
    "\n",
    "    relevant = (\n",
    "        승하차[\n",
    "            (승하차[\"평일주말\"] == 평일주말) & (승하차[\"구분\"].isin([\"승차\", \"하차\"]))\n",
    "        ]\n",
    "        .drop_duplicates(subset=\"역번호\")\n",
    "        .sort_values(\"역번호\")\n",
    "    )\n",
    "\n",
    "    if 방향 == \"상행\":\n",
    "        relevant = relevant.sort_values(\"역번호\", ascending=True)\n",
    "    else:\n",
    "        relevant = relevant.sort_values(\"역번호\", ascending=False)\n",
    "\n",
    "    역번호_리스트 = relevant[\"역번호\"].tolist()\n",
    "    if 역번호 not in 역번호_리스트:\n",
    "        print(\"❗ 역번호 없음\")\n",
    "        return None\n",
    "\n",
    "    idx = 역번호_리스트.index(역번호)\n",
    "    경로역 = 역번호_리스트[: idx + 1]\n",
    "\n",
    "    열차수 = get_train_count_in_hour(시간표, 평일주말, 방향, 시간대)\n",
    "\n",
    "    총_승차 = 총_하차 = 0\n",
    "    for 역 in 경로역:\n",
    "        승_df = 승하차[\n",
    "            (승하차[\"역번호\"] == 역)\n",
    "            & (승하차[\"평일주말\"] == 평일주말)\n",
    "            & (승하차[\"구분\"] == \"승차\")\n",
    "        ]\n",
    "        하_df = 승하차[\n",
    "            (승하차[\"역번호\"] == 역)\n",
    "            & (승하차[\"평일주말\"] == 평일주말)\n",
    "            & (승하차[\"구분\"] == \"하차\")\n",
    "        ]\n",
    "        if not 승_df.empty and 시간컬럼 in 승_df.columns:\n",
    "            총_승차 += float(승_df[시간컬럼].values[0])\n",
    "        if not 하_df.empty and 시간컬럼 in 하_df.columns:\n",
    "            총_하차 += float(하_df[시간컬럼].values[0])\n",
    "\n",
    "    평균_승차 = 총_승차 / 열차수\n",
    "    평균_하차 = 총_하차 / 열차수\n",
    "    누적_인원_추정 = 평균_승차 - 평균_하차\n",
    "    누적_인원_보정 = max(0, 누적_인원_추정)\n",
    "\n",
    "    # 혼잡도\n",
    "    혼잡도_row = 혼잡도[\n",
    "        (혼잡도[\"역번호\"] == 역번호)\n",
    "        & (혼잡도[\"평일주말\"] == 평일주말)\n",
    "        & (혼잡도[\"구분\"] == 방향)\n",
    "    ]\n",
    "    if not 혼잡도_row.empty and 시간컬럼 in 혼잡도_row.columns:\n",
    "        혼잡도값 = float(혼잡도_row[시간컬럼].values[0])\n",
    "        혼잡도_예측 = 열차_정원 * (혼잡도값 / 100)\n",
    "    else:\n",
    "        혼잡도값 = None\n",
    "        혼잡도_예측 = None\n",
    "\n",
    "    # 보정 로직\n",
    "    if 혼잡도_예측 is not None:\n",
    "        if 누적_인원_보정 == 0 and 혼잡도값 > 50:\n",
    "            최종 = int(혼잡도_예측 * 0.7)\n",
    "            신뢰 = (int(혼잡도_예측 * 0.65), int(혼잡도_예측 * 1.05))\n",
    "        else:\n",
    "            최종 = int((누적_인원_보정 + 혼잡도_예측) / 2)\n",
    "            신뢰 = (min(누적_인원_보정, 혼잡도_예측), max(누적_인원_보정, 혼잡도_예측))\n",
    "    else:\n",
    "        최종 = int(누적_인원_보정)\n",
    "        신뢰 = (최종, 최종)\n",
    "\n",
    "    return {\n",
    "        \"열차수\": 열차수,\n",
    "        \"승하차기반\": int(누적_인원_보정),\n",
    "        \"혼잡도값\": 혼잡도값,\n",
    "        \"혼잡도기반\": int(혼잡도_예측) if 혼잡도_예측 is not None else None,\n",
    "        \"최종보정값\": 최종,\n",
    "        \"신뢰구간\": tuple(map(int, 신뢰)),\n",
    "    }"
   ]
  },
  {
   "cell_type": "code",
   "execution_count": 16,
   "id": "ece597d8",
   "metadata": {},
   "outputs": [],
   "source": [
    "def save_result_to_csv(역명, 방향, 평일주말, 시간, 결과, 저장경로=\"./예측결과.csv\"):\n",
    "    row = {\n",
    "        \"날짜\": pd.Timestamp.now().strftime(\"%Y-%m-%d %H:%M:%S\"),\n",
    "        \"역명\": 역명,\n",
    "        \"방향\": 방향,\n",
    "        \"평일/주말\": 평일주말,\n",
    "        \"시간\": 시간,\n",
    "        \"열차수\": 결과[\"열차수\"],\n",
    "        \"승하차기반\": 결과[\"승하차기반\"],\n",
    "        \"혼잡도값\": 결과[\"혼잡도값\"],\n",
    "        \"혼잡도기반\": 결과[\"혼잡도기반\"],\n",
    "        \"최종보정값\": 결과[\"최종보정값\"],\n",
    "        \"신뢰구간_min\": 결과[\"신뢰구간\"][0],\n",
    "        \"신뢰구간_max\": 결과[\"신뢰구간\"][1],\n",
    "    }\n",
    "\n",
    "    try:\n",
    "        df = pd.read_csv(저장경로)\n",
    "        df = df.append(row, ignore_index=True)\n",
    "    except FileNotFoundError:\n",
    "        df = pd.DataFrame([row])\n",
    "\n",
    "    df.to_csv(저장경로, index=False, encoding=\"utf-8-sig\")\n",
    "    print(f\"\\n✅ 예측 결과가 '{저장경로}'에 저장되었습니다.\")"
   ]
  },
  {
   "cell_type": "code",
   "execution_count": 17,
   "id": "764dcd61",
   "metadata": {},
   "outputs": [],
   "source": [
    "def main():\n",
    "    승하차, 혼잡도, 시간표 = load_data()\n",
    "    역명, 방향, 평일주말, 시간 = get_user_input()\n",
    "    역번호 = get_station_number(승하차, 역명)\n",
    "    결과 = estimate_train_occupancy(\n",
    "        역번호, 방향, 평일주말, 시간, 승하차, 혼잡도, 시간표\n",
    "    )\n",
    "\n",
    "    print(\"\\n📊 정밀 예측 결과\")\n",
    "    print(f\"🟩 역명: {역명} | 방향: {방향} | {평일주말} {시간}\")\n",
    "    print(f\"🚈 해당시간 열차 수: {결과['열차수']} 대\")\n",
    "\n",
    "    print(f\"\\n(1) 승하차 누적 기반 추정 인원: {결과['승하차기반']} 명\")\n",
    "    if 결과[\"혼잡도값\"] is not None:\n",
    "        print(\n",
    "            f\"(2) 혼잡도 수치: {결과['혼잡도값']:.1f}% → 추정 인원: {결과['혼잡도기반']} 명\"\n",
    "        )\n",
    "        print(f\"(3) 보정 결과 평균값: {결과['최종보정값']} 명\")\n",
    "        print(f\"(4) 신뢰구간: {결과['신뢰구간'][0]} ~ {결과['신뢰구간'][1]} 명\")\n",
    "    else:\n",
    "        print(\"혼잡도 데이터 없음 → 승하차 기반만 사용\")\n",
    "        print(f\"최종 추정 인원: {결과['최종보정값']} 명\")\n",
    "\n",
    "    # 🔽 결과 저장 추가\n",
    "    save_result_to_csv(역명, 방향, 평일주말, 시간, 결과)"
   ]
  },
  {
   "cell_type": "code",
   "execution_count": 18,
   "id": "858042b9",
   "metadata": {},
   "outputs": [],
   "source": [
    "import pandas as pd\n",
    "import itertools\n",
    "import os\n",
    "from tqdm import tqdm # 진행률 표시\n",
    "import warnings\n",
    "warnings.filterwarnings(\"ignore\")\n",
    "\n",
    "\n",
    "def generate_all_combinations(승하차_df):\n",
    "    역명_리스트 = 승하차_df['역명'].unique().tolist()\n",
    "    방향_리스트 = ['상행', '하행']\n",
    "    평일주말_리스트 = ['평일', '주말']\n",
    "    시간대_리스트 = [f\"{str(h).zfill(2)}:00\" for h in range(6, 24)] # 06:00 ~ 23:00\n",
    "    \n",
    "    모든조합 = list(itertools.product(역명_리스트, 방향_리스트, 평일주말_리스트, 시간대_리스트))\n",
    "    return 모든조합\n",
    "\n",
    "\n",
    "def batch_predict_and_save(filepath=\"./전체예측결과.csv\"):\n",
    "    승하차, 혼잡도, 시간표 = load_data()\n",
    "    모든조합 = generate_all_combinations(승하차)\n",
    "\n",
    "    결과_리스트 = []\n",
    "    for 역명, 방향, 평일주말, 시간대 in tqdm(모든조합, desc=\"전체 예측 중\"):\n",
    "        try:\n",
    "            역번호 = get_station_number(승하차, 역명)\n",
    "            결과 = estimate_train_occupancy(\n",
    "                역번호, 방향, 평일주말, 시간대, 승하차, 혼잡도, 시간표\n",
    "            )\n",
    "            결과_리스트.append({\n",
    "                \"날짜\": pd.Timestamp.today().strftime(\"%Y-%m-%d\"),\n",
    "                \"역명\": 역명,\n",
    "                \"방향\": 방향,\n",
    "                \"평일/주말\": 평일주말,\n",
    "                \"시간대\": 시간대,\n",
    "                \"열차수\": 결과[\"열차수\"],\n",
    "                \"승하차기반\": 결과[\"승하차기반\"],\n",
    "                \"혼잡도값\": 결과[\"혼잡도값\"],\n",
    "                \"혼잡도기반\": 결과[\"혼잡도기반\"],\n",
    "                \"최종보정값\": 결과[\"최종보정값\"],\n",
    "                \"신뢰구간_min\": 결과[\"신뢰구간\"][0],\n",
    "                \"신뢰구간_max\": 결과[\"신뢰구간\"][1],\n",
    "            })\n",
    "        except Exception as e:\n",
    "            print(f\"❗ 예외 발생 - 역명:{역명}, {방향} {평일주말} {시간대} → {e}\")\n",
    "\n",
    "    df = pd.DataFrame(결과_리스트)\n",
    "    df.to_csv(filepath, index=False, encoding=\"utf-8-sig\")\n",
    "    print(f\"\\n✅ 전체 예측 결과가 '{filepath}'에 저장되었습니다. 총 {len(df)}건.\")\n"
   ]
  },
  {
   "cell_type": "code",
   "execution_count": 19,
   "id": "1ccc7e6c",
   "metadata": {},
   "outputs": [
    {
     "name": "stderr",
     "output_type": "stream",
     "text": [
      "전체 예측 중:  17%|█▋        | 419/2448 [06:33<45:18,  1.34s/it]  "
     ]
    },
    {
     "name": "stdout",
     "output_type": "stream",
     "text": [
      "❗ 예외 발생 - 역명:홍제, 하행 주말 10:00 → Unable to allocate 11.7 MiB for an array with shape (22, 69828) and data type int64\n"
     ]
    },
    {
     "name": "stderr",
     "output_type": "stream",
     "text": [
      "전체 예측 중:  17%|█▋        | 421/2448 [06:35<41:41,  1.23s/it]"
     ]
    },
    {
     "name": "stdout",
     "output_type": "stream",
     "text": [
      "❗ 예외 발생 - 역명:홍제, 하행 주말 12:00 → Unable to allocate 11.7 MiB for an array with shape (22, 69828) and data type int64\n"
     ]
    },
    {
     "name": "stderr",
     "output_type": "stream",
     "text": [
      "전체 예측 중:  17%|█▋        | 422/2448 [06:36<39:40,  1.17s/it]"
     ]
    },
    {
     "name": "stdout",
     "output_type": "stream",
     "text": [
      "❗ 예외 발생 - 역명:홍제, 하행 주말 13:00 → Unable to allocate 1.60 MiB for an array with shape (3, 69828) and data type object\n"
     ]
    },
    {
     "name": "stderr",
     "output_type": "stream",
     "text": [
      "전체 예측 중:  17%|█▋        | 423/2448 [06:37<38:25,  1.14s/it]"
     ]
    },
    {
     "name": "stdout",
     "output_type": "stream",
     "text": [
      "❗ 예외 발생 - 역명:홍제, 하행 주말 14:00 → Unable to allocate 11.7 MiB for an array with shape (22, 69828) and data type int64\n"
     ]
    },
    {
     "name": "stderr",
     "output_type": "stream",
     "text": [
      "전체 예측 중:  17%|█▋        | 424/2448 [06:38<37:24,  1.11s/it]"
     ]
    },
    {
     "name": "stdout",
     "output_type": "stream",
     "text": [
      "❗ 예외 발생 - 역명:홍제, 하행 주말 15:00 → Unable to allocate 11.7 MiB for an array with shape (22, 69828) and data type int64\n"
     ]
    },
    {
     "name": "stderr",
     "output_type": "stream",
     "text": [
      "전체 예측 중:  17%|█▋        | 425/2448 [06:39<36:51,  1.09s/it]"
     ]
    },
    {
     "name": "stdout",
     "output_type": "stream",
     "text": [
      "❗ 예외 발생 - 역명:홍제, 하행 주말 16:00 → Unable to allocate 11.7 MiB for an array with shape (22, 69828) and data type int64\n"
     ]
    },
    {
     "name": "stderr",
     "output_type": "stream",
     "text": [
      "전체 예측 중:  17%|█▋        | 427/2448 [06:41<36:37,  1.09s/it]"
     ]
    },
    {
     "name": "stdout",
     "output_type": "stream",
     "text": [
      "❗ 예외 발생 - 역명:홍제, 하행 주말 18:00 → Unable to allocate 11.7 MiB for an array with shape (22, 69828) and data type int64\n"
     ]
    },
    {
     "name": "stderr",
     "output_type": "stream",
     "text": [
      "전체 예측 중:  17%|█▋        | 428/2448 [06:42<36:07,  1.07s/it]"
     ]
    },
    {
     "name": "stdout",
     "output_type": "stream",
     "text": [
      "❗ 예외 발생 - 역명:홍제, 하행 주말 19:00 → Unable to allocate 11.7 MiB for an array with shape (22, 69828) and data type int64\n"
     ]
    },
    {
     "name": "stderr",
     "output_type": "stream",
     "text": [
      "전체 예측 중:  18%|█▊        | 429/2448 [06:43<35:42,  1.06s/it]"
     ]
    },
    {
     "name": "stdout",
     "output_type": "stream",
     "text": [
      "❗ 예외 발생 - 역명:홍제, 하행 주말 20:00 → Unable to allocate 11.7 MiB for an array with shape (22, 69828) and data type int64\n"
     ]
    },
    {
     "name": "stderr",
     "output_type": "stream",
     "text": [
      "전체 예측 중:  18%|█▊        | 430/2448 [06:44<35:25,  1.05s/it]"
     ]
    },
    {
     "name": "stdout",
     "output_type": "stream",
     "text": [
      "❗ 예외 발생 - 역명:홍제, 하행 주말 21:00 → Unable to allocate 11.7 MiB for an array with shape (22, 69828) and data type int64\n"
     ]
    },
    {
     "name": "stderr",
     "output_type": "stream",
     "text": [
      "전체 예측 중:  18%|█▊        | 431/2448 [06:45<35:06,  1.04s/it]"
     ]
    },
    {
     "name": "stdout",
     "output_type": "stream",
     "text": [
      "❗ 예외 발생 - 역명:홍제, 하행 주말 22:00 → Unable to allocate 1.10 MiB for an array with shape (22, 6574) and data type int64\n"
     ]
    },
    {
     "name": "stderr",
     "output_type": "stream",
     "text": [
      "전체 예측 중:  18%|█▊        | 432/2448 [06:47<35:03,  1.04s/it]"
     ]
    },
    {
     "name": "stdout",
     "output_type": "stream",
     "text": [
      "❗ 예외 발생 - 역명:홍제, 하행 주말 23:00 → Unable to allocate 1.10 MiB for an array with shape (22, 6574) and data type int64\n"
     ]
    },
    {
     "name": "stderr",
     "output_type": "stream",
     "text": [
      "전체 예측 중:  18%|█▊        | 433/2448 [06:48<34:58,  1.04s/it]"
     ]
    },
    {
     "name": "stdout",
     "output_type": "stream",
     "text": [
      "❗ 예외 발생 - 역명:무악재, 상행 평일 06:00 → Unable to allocate 1.12 MiB for an array with shape (147145, 1) and data type int64\n"
     ]
    },
    {
     "name": "stderr",
     "output_type": "stream",
     "text": [
      "전체 예측 중:  44%|████▍     | 1071/2448 [23:28<30:11,  1.32s/it]  \n"
     ]
    },
    {
     "ename": "KeyboardInterrupt",
     "evalue": "",
     "output_type": "error",
     "traceback": [
      "\u001b[1;31m---------------------------------------------------------------------------\u001b[0m",
      "\u001b[1;31mKeyboardInterrupt\u001b[0m                         Traceback (most recent call last)",
      "Cell \u001b[1;32mIn[19], line 2\u001b[0m\n\u001b[0;32m      1\u001b[0m \u001b[38;5;66;03m# 모든 조합 예측 결과 저장 실행\u001b[39;00m\n\u001b[1;32m----> 2\u001b[0m batch_predict_and_save(filepath\u001b[38;5;241m=\u001b[39m\u001b[38;5;124m\"\u001b[39m\u001b[38;5;124m./\u001b[39m\u001b[38;5;124m\"\u001b[39m\u001b[38;5;241m+\u001b[39mfile_number\u001b[38;5;241m+\u001b[39m\u001b[38;5;124m\"\u001b[39m\u001b[38;5;124m호선_예측결과.csv\u001b[39m\u001b[38;5;124m\"\u001b[39m)\n",
      "Cell \u001b[1;32mIn[18], line 27\u001b[0m, in \u001b[0;36mbatch_predict_and_save\u001b[1;34m(filepath)\u001b[0m\n\u001b[0;32m     25\u001b[0m \u001b[38;5;28;01mtry\u001b[39;00m:\n\u001b[0;32m     26\u001b[0m     역번호 \u001b[38;5;241m=\u001b[39m get_station_number(승하차, 역명)\n\u001b[1;32m---> 27\u001b[0m     결과 \u001b[38;5;241m=\u001b[39m estimate_train_occupancy(\n\u001b[0;32m     28\u001b[0m         역번호, 방향, 평일주말, 시간대, 승하차, 혼잡도, 시간표\n\u001b[0;32m     29\u001b[0m     )\n\u001b[0;32m     30\u001b[0m     결과_리스트\u001b[38;5;241m.\u001b[39mappend({\n\u001b[0;32m     31\u001b[0m         \u001b[38;5;124m\"\u001b[39m\u001b[38;5;124m날짜\u001b[39m\u001b[38;5;124m\"\u001b[39m: pd\u001b[38;5;241m.\u001b[39mTimestamp\u001b[38;5;241m.\u001b[39mtoday()\u001b[38;5;241m.\u001b[39mstrftime(\u001b[38;5;124m\"\u001b[39m\u001b[38;5;124m%\u001b[39m\u001b[38;5;124mY-\u001b[39m\u001b[38;5;124m%\u001b[39m\u001b[38;5;124mm-\u001b[39m\u001b[38;5;132;01m%d\u001b[39;00m\u001b[38;5;124m\"\u001b[39m),\n\u001b[0;32m     32\u001b[0m         \u001b[38;5;124m\"\u001b[39m\u001b[38;5;124m역명\u001b[39m\u001b[38;5;124m\"\u001b[39m: 역명,\n\u001b[1;32m   (...)\u001b[0m\n\u001b[0;32m     42\u001b[0m         \u001b[38;5;124m\"\u001b[39m\u001b[38;5;124m신뢰구간_max\u001b[39m\u001b[38;5;124m\"\u001b[39m: 결과[\u001b[38;5;124m\"\u001b[39m\u001b[38;5;124m신뢰구간\u001b[39m\u001b[38;5;124m\"\u001b[39m][\u001b[38;5;241m1\u001b[39m],\n\u001b[0;32m     43\u001b[0m     })\n\u001b[0;32m     44\u001b[0m \u001b[38;5;28;01mexcept\u001b[39;00m \u001b[38;5;167;01mException\u001b[39;00m \u001b[38;5;28;01mas\u001b[39;00m e:\n",
      "Cell \u001b[1;32mIn[15], line 37\u001b[0m, in \u001b[0;36mestimate_train_occupancy\u001b[1;34m(역번호, 방향, 평일주말, 시간대, 승하차, 혼잡도, 시간표, 열차_정원)\u001b[0m\n\u001b[0;32m     30\u001b[0m \u001b[38;5;28;01mfor\u001b[39;00m 역 \u001b[38;5;129;01min\u001b[39;00m 경로역:\n\u001b[0;32m     31\u001b[0m     승_df \u001b[38;5;241m=\u001b[39m 승하차[\n\u001b[0;32m     32\u001b[0m         (승하차[\u001b[38;5;124m\"\u001b[39m\u001b[38;5;124m역번호\u001b[39m\u001b[38;5;124m\"\u001b[39m] \u001b[38;5;241m==\u001b[39m 역)\n\u001b[0;32m     33\u001b[0m         \u001b[38;5;241m&\u001b[39m (승하차[\u001b[38;5;124m\"\u001b[39m\u001b[38;5;124m평일주말\u001b[39m\u001b[38;5;124m\"\u001b[39m] \u001b[38;5;241m==\u001b[39m 평일주말)\n\u001b[0;32m     34\u001b[0m         \u001b[38;5;241m&\u001b[39m (승하차[\u001b[38;5;124m\"\u001b[39m\u001b[38;5;124m구분\u001b[39m\u001b[38;5;124m\"\u001b[39m] \u001b[38;5;241m==\u001b[39m \u001b[38;5;124m\"\u001b[39m\u001b[38;5;124m승차\u001b[39m\u001b[38;5;124m\"\u001b[39m)\n\u001b[0;32m     35\u001b[0m     ]\n\u001b[0;32m     36\u001b[0m     하_df \u001b[38;5;241m=\u001b[39m 승하차[\n\u001b[1;32m---> 37\u001b[0m         (승하차[\u001b[38;5;124m\"\u001b[39m\u001b[38;5;124m역번호\u001b[39m\u001b[38;5;124m\"\u001b[39m] \u001b[38;5;241m==\u001b[39m 역)\n\u001b[0;32m     38\u001b[0m         \u001b[38;5;241m&\u001b[39m (승하차[\u001b[38;5;124m\"\u001b[39m\u001b[38;5;124m평일주말\u001b[39m\u001b[38;5;124m\"\u001b[39m] \u001b[38;5;241m==\u001b[39m 평일주말)\n\u001b[0;32m     39\u001b[0m         \u001b[38;5;241m&\u001b[39m (승하차[\u001b[38;5;124m\"\u001b[39m\u001b[38;5;124m구분\u001b[39m\u001b[38;5;124m\"\u001b[39m] \u001b[38;5;241m==\u001b[39m \u001b[38;5;124m\"\u001b[39m\u001b[38;5;124m하차\u001b[39m\u001b[38;5;124m\"\u001b[39m)\n\u001b[0;32m     40\u001b[0m     ]\n\u001b[0;32m     41\u001b[0m     \u001b[38;5;28;01mif\u001b[39;00m \u001b[38;5;129;01mnot\u001b[39;00m 승_df\u001b[38;5;241m.\u001b[39mempty \u001b[38;5;129;01mand\u001b[39;00m 시간컬럼 \u001b[38;5;129;01min\u001b[39;00m 승_df\u001b[38;5;241m.\u001b[39mcolumns:\n\u001b[0;32m     42\u001b[0m         총_승차 \u001b[38;5;241m+\u001b[39m\u001b[38;5;241m=\u001b[39m \u001b[38;5;28mfloat\u001b[39m(승_df[시간컬럼]\u001b[38;5;241m.\u001b[39mvalues[\u001b[38;5;241m0\u001b[39m])\n",
      "File \u001b[1;32mc:\\ProgramData\\anaconda3\\Lib\\site-packages\\pandas\\core\\ops\\common.py:76\u001b[0m, in \u001b[0;36m_unpack_zerodim_and_defer.<locals>.new_method\u001b[1;34m(self, other)\u001b[0m\n\u001b[0;32m     72\u001b[0m             \u001b[38;5;28;01mreturn\u001b[39;00m \u001b[38;5;28mNotImplemented\u001b[39m\n\u001b[0;32m     74\u001b[0m other \u001b[38;5;241m=\u001b[39m item_from_zerodim(other)\n\u001b[1;32m---> 76\u001b[0m \u001b[38;5;28;01mreturn\u001b[39;00m method(\u001b[38;5;28mself\u001b[39m, other)\n",
      "File \u001b[1;32mc:\\ProgramData\\anaconda3\\Lib\\site-packages\\pandas\\core\\arraylike.py:70\u001b[0m, in \u001b[0;36mOpsMixin.__and__\u001b[1;34m(self, other)\u001b[0m\n\u001b[0;32m     68\u001b[0m \u001b[38;5;129m@unpack_zerodim_and_defer\u001b[39m(\u001b[38;5;124m\"\u001b[39m\u001b[38;5;124m__and__\u001b[39m\u001b[38;5;124m\"\u001b[39m)\n\u001b[0;32m     69\u001b[0m \u001b[38;5;28;01mdef\u001b[39;00m \u001b[38;5;21m__and__\u001b[39m(\u001b[38;5;28mself\u001b[39m, other):\n\u001b[1;32m---> 70\u001b[0m     \u001b[38;5;28;01mreturn\u001b[39;00m \u001b[38;5;28mself\u001b[39m\u001b[38;5;241m.\u001b[39m_logical_method(other, operator\u001b[38;5;241m.\u001b[39mand_)\n",
      "File \u001b[1;32mc:\\ProgramData\\anaconda3\\Lib\\site-packages\\pandas\\core\\series.py:6130\u001b[0m, in \u001b[0;36mSeries._logical_method\u001b[1;34m(self, other, op)\u001b[0m\n\u001b[0;32m   6127\u001b[0m lvalues \u001b[38;5;241m=\u001b[39m \u001b[38;5;28mself\u001b[39m\u001b[38;5;241m.\u001b[39m_values\n\u001b[0;32m   6128\u001b[0m rvalues \u001b[38;5;241m=\u001b[39m extract_array(other, extract_numpy\u001b[38;5;241m=\u001b[39m\u001b[38;5;28;01mTrue\u001b[39;00m, extract_range\u001b[38;5;241m=\u001b[39m\u001b[38;5;28;01mTrue\u001b[39;00m)\n\u001b[1;32m-> 6130\u001b[0m res_values \u001b[38;5;241m=\u001b[39m ops\u001b[38;5;241m.\u001b[39mlogical_op(lvalues, rvalues, op)\n\u001b[0;32m   6131\u001b[0m \u001b[38;5;28;01mreturn\u001b[39;00m \u001b[38;5;28mself\u001b[39m\u001b[38;5;241m.\u001b[39m_construct_result(res_values, name\u001b[38;5;241m=\u001b[39mres_name)\n",
      "File \u001b[1;32mc:\\ProgramData\\anaconda3\\Lib\\site-packages\\pandas\\core\\ops\\array_ops.py:459\u001b[0m, in \u001b[0;36mlogical_op\u001b[1;34m(left, right, op)\u001b[0m\n\u001b[0;32m    456\u001b[0m     \u001b[38;5;66;03m# For int vs int `^`, `|`, `&` are bitwise operators and return\u001b[39;00m\n\u001b[0;32m    457\u001b[0m     \u001b[38;5;66;03m#   integer dtypes.  Otherwise these are boolean ops\u001b[39;00m\n\u001b[0;32m    458\u001b[0m     \u001b[38;5;28;01mif\u001b[39;00m \u001b[38;5;129;01mnot\u001b[39;00m (left\u001b[38;5;241m.\u001b[39mdtype\u001b[38;5;241m.\u001b[39mkind \u001b[38;5;129;01min\u001b[39;00m \u001b[38;5;124m\"\u001b[39m\u001b[38;5;124miu\u001b[39m\u001b[38;5;124m\"\u001b[39m \u001b[38;5;129;01mand\u001b[39;00m is_other_int_dtype):\n\u001b[1;32m--> 459\u001b[0m         res_values \u001b[38;5;241m=\u001b[39m fill_bool(res_values)\n\u001b[0;32m    461\u001b[0m \u001b[38;5;28;01mreturn\u001b[39;00m res_values\n",
      "File \u001b[1;32mc:\\ProgramData\\anaconda3\\Lib\\site-packages\\pandas\\core\\ops\\array_ops.py:420\u001b[0m, in \u001b[0;36mlogical_op.<locals>.fill_bool\u001b[1;34m(x, left)\u001b[0m\n\u001b[0;32m    417\u001b[0m         x[mask] \u001b[38;5;241m=\u001b[39m \u001b[38;5;28;01mFalse\u001b[39;00m\n\u001b[0;32m    419\u001b[0m \u001b[38;5;28;01mif\u001b[39;00m left \u001b[38;5;129;01mis\u001b[39;00m \u001b[38;5;28;01mNone\u001b[39;00m \u001b[38;5;129;01mor\u001b[39;00m left\u001b[38;5;241m.\u001b[39mdtype\u001b[38;5;241m.\u001b[39mkind \u001b[38;5;241m==\u001b[39m \u001b[38;5;124m\"\u001b[39m\u001b[38;5;124mb\u001b[39m\u001b[38;5;124m\"\u001b[39m:\n\u001b[1;32m--> 420\u001b[0m     x \u001b[38;5;241m=\u001b[39m x\u001b[38;5;241m.\u001b[39mastype(\u001b[38;5;28mbool\u001b[39m)\n\u001b[0;32m    421\u001b[0m \u001b[38;5;28;01mreturn\u001b[39;00m x\n",
      "\u001b[1;31mKeyboardInterrupt\u001b[0m: "
     ]
    }
   ],
   "source": [
    "# 모든 조합 예측 결과 저장 실행\n",
    "batch_predict_and_save(filepath=\"./\"+file_number+\"호선_예측결과.csv\")"
   ]
  }
 ],
 "metadata": {
  "kernelspec": {
   "display_name": "base",
   "language": "python",
   "name": "python3"
  },
  "language_info": {
   "codemirror_mode": {
    "name": "ipython",
    "version": 3
   },
   "file_extension": ".py",
   "mimetype": "text/x-python",
   "name": "python",
   "nbconvert_exporter": "python",
   "pygments_lexer": "ipython3",
   "version": "3.12.7"
  }
 },
 "nbformat": 4,
 "nbformat_minor": 5
}
